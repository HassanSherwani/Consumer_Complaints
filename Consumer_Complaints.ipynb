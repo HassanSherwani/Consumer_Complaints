{
 "cells": [
  {
   "cell_type": "markdown",
   "metadata": {},
   "source": [
    "# Consumer Complaints\n",
    "\n",
    "- To find out which complaint is target to what department in organization"
   ]
  },
  {
   "cell_type": "markdown",
   "metadata": {},
   "source": [
    "# 1)- Import key modules"
   ]
  },
  {
   "cell_type": "code",
   "execution_count": 1,
   "metadata": {},
   "outputs": [],
   "source": [
    "#support both Python 2 and Python 3 with minimal overhead.\n",
    "from __future__ import absolute_import, division, print_function\n",
    "# I am an engineer. I care only about error not warning. So, let's be maverick and ignore warnings.\n",
    "import warnings\n",
    "warnings.filterwarnings('ignore')"
   ]
  },
  {
   "cell_type": "code",
   "execution_count": 2,
   "metadata": {},
   "outputs": [],
   "source": [
    "# For processing and maths\n",
    "import nltk\n",
    "import sys\n",
    "import re, numpy as np, pandas as pd"
   ]
  },
  {
   "cell_type": "code",
   "execution_count": 3,
   "metadata": {},
   "outputs": [],
   "source": [
    "# Visualization \n",
    "import matplotlib.pyplot as plt\n",
    "import seaborn as sns\n",
    "from pprint import pprint\n",
    "%matplotlib inline"
   ]
  },
  {
   "cell_type": "code",
   "execution_count": 4,
   "metadata": {},
   "outputs": [],
   "source": [
    "# Gensim\n",
    "import gensim, spacy, logging, warnings\n",
    "import gensim.corpora as corpora\n",
    "from gensim.utils import lemmatize, simple_preprocess\n",
    "from gensim.models import CoherenceModel"
   ]
  },
  {
   "cell_type": "code",
   "execution_count": 5,
   "metadata": {},
   "outputs": [],
   "source": [
    "# NLTK Stop words\n",
    "from nltk.corpus import stopwords\n",
    "stop_words = stopwords.words('english')\n",
    "stop_words.extend(['from', 'subject', 're', 'edu', 'use', 'not', 'would', 'say', 'could', '_', 'be', 'know', 'good', 'go', 'get', 'do', 'done', 'try', 'many', 'some', 'nice', 'thank', 'think', 'see', 'rather', 'easy', 'easily', 'lot', 'lack', 'make', 'want', 'seem', 'run', 'need', 'even', 'right', 'line', 'even', 'also', 'may', 'take', 'come'])"
   ]
  },
  {
   "cell_type": "code",
   "execution_count": 6,
   "metadata": {},
   "outputs": [
    {
     "data": {
      "application/json": {
       "Software versions": [
        {
         "module": "Python",
         "version": "3.6.3 64bit [MSC v.1900 64 bit (AMD64)]"
        },
        {
         "module": "IPython",
         "version": "7.4.0"
        },
        {
         "module": "OS",
         "version": "Windows 10 10.0.16299 SP0"
        },
        {
         "module": "pandas",
         "version": "0.23.4"
        },
        {
         "module": "numpy",
         "version": "1.16.2"
        },
        {
         "module": "nltk",
         "version": "3.2.4"
        },
        {
         "module": "gensim",
         "version": "3.7.1"
        },
        {
         "module": "matplotlib",
         "version": "2.1.0"
        },
        {
         "module": "seaborn",
         "version": "0.9.0"
        }
       ]
      },
      "text/html": [
       "<table><tr><th>Software</th><th>Version</th></tr><tr><td>Python</td><td>3.6.3 64bit [MSC v.1900 64 bit (AMD64)]</td></tr><tr><td>IPython</td><td>7.4.0</td></tr><tr><td>OS</td><td>Windows 10 10.0.16299 SP0</td></tr><tr><td>pandas</td><td>0.23.4</td></tr><tr><td>numpy</td><td>1.16.2</td></tr><tr><td>nltk</td><td>3.2.4</td></tr><tr><td>gensim</td><td>3.7.1</td></tr><tr><td>matplotlib</td><td>2.1.0</td></tr><tr><td>seaborn</td><td>0.9.0</td></tr><tr><td colspan='2'>Mon Sep 30 17:56:21 2019 W. Europe Daylight Time</td></tr></table>"
      ],
      "text/latex": [
       "\\begin{tabular}{|l|l|}\\hline\n",
       "{\\bf Software} & {\\bf Version} \\\\ \\hline\\hline\n",
       "Python & 3.6.3 64bit [MSC v.1900 64 bit (AMD64)] \\\\ \\hline\n",
       "IPython & 7.4.0 \\\\ \\hline\n",
       "OS & Windows 10 10.0.16299 SP0 \\\\ \\hline\n",
       "pandas & 0.23.4 \\\\ \\hline\n",
       "numpy & 1.16.2 \\\\ \\hline\n",
       "nltk & 3.2.4 \\\\ \\hline\n",
       "gensim & 3.7.1 \\\\ \\hline\n",
       "matplotlib & 2.1.0 \\\\ \\hline\n",
       "seaborn & 0.9.0 \\\\ \\hline\n",
       "\\hline \\multicolumn{2}{|l|}{Mon Sep 30 17:56:21 2019 W. Europe Daylight Time} \\\\ \\hline\n",
       "\\end{tabular}\n"
      ],
      "text/plain": [
       "Software versions\n",
       "Python 3.6.3 64bit [MSC v.1900 64 bit (AMD64)]\n",
       "IPython 7.4.0\n",
       "OS Windows 10 10.0.16299 SP0\n",
       "pandas 0.23.4\n",
       "numpy 1.16.2\n",
       "nltk 3.2.4\n",
       "gensim 3.7.1\n",
       "matplotlib 2.1.0\n",
       "seaborn 0.9.0\n",
       "Mon Sep 30 17:56:21 2019 W. Europe Daylight Time"
      ]
     },
     "execution_count": 6,
     "metadata": {},
     "output_type": "execute_result"
    }
   ],
   "source": [
    "# first install: pip install version_information\n",
    "%reload_ext version_information\n",
    "%version_information pandas,numpy,nltk,gensim, matplotlib, seaborn"
   ]
  },
  {
   "cell_type": "markdown",
   "metadata": {},
   "source": [
    "# 2)- Loading data"
   ]
  },
  {
   "cell_type": "code",
   "execution_count": 7,
   "metadata": {},
   "outputs": [
    {
     "data": {
      "text/plain": [
       "(903983, 18)"
      ]
     },
     "execution_count": 7,
     "metadata": {},
     "output_type": "execute_result"
    }
   ],
   "source": [
    "df=pd.read_csv('Consumer_Complaints.csv')\n",
    "df.shape"
   ]
  },
  {
   "cell_type": "code",
   "execution_count": 8,
   "metadata": {},
   "outputs": [
    {
     "data": {
      "text/html": [
       "<div>\n",
       "<style scoped>\n",
       "    .dataframe tbody tr th:only-of-type {\n",
       "        vertical-align: middle;\n",
       "    }\n",
       "\n",
       "    .dataframe tbody tr th {\n",
       "        vertical-align: top;\n",
       "    }\n",
       "\n",
       "    .dataframe thead th {\n",
       "        text-align: right;\n",
       "    }\n",
       "</style>\n",
       "<table border=\"1\" class=\"dataframe\">\n",
       "  <thead>\n",
       "    <tr style=\"text-align: right;\">\n",
       "      <th></th>\n",
       "      <th>Date received</th>\n",
       "      <th>Product</th>\n",
       "      <th>Sub-product</th>\n",
       "      <th>Issue</th>\n",
       "      <th>Sub-issue</th>\n",
       "      <th>Consumer complaint narrative</th>\n",
       "      <th>Company public response</th>\n",
       "      <th>Company</th>\n",
       "      <th>State</th>\n",
       "      <th>ZIP code</th>\n",
       "      <th>Tags</th>\n",
       "      <th>Consumer consent provided?</th>\n",
       "      <th>Submitted via</th>\n",
       "      <th>Date sent to company</th>\n",
       "      <th>Company response to consumer</th>\n",
       "      <th>Timely response?</th>\n",
       "      <th>Consumer disputed?</th>\n",
       "      <th>Complaint ID</th>\n",
       "    </tr>\n",
       "  </thead>\n",
       "  <tbody>\n",
       "    <tr>\n",
       "      <th>0</th>\n",
       "      <td>3/12/2014</td>\n",
       "      <td>Mortgage</td>\n",
       "      <td>Other mortgage</td>\n",
       "      <td>Loan modification,collection,foreclosure</td>\n",
       "      <td>NaN</td>\n",
       "      <td>NaN</td>\n",
       "      <td>NaN</td>\n",
       "      <td>M&amp;T BANK CORPORATION</td>\n",
       "      <td>MI</td>\n",
       "      <td>48382</td>\n",
       "      <td>NaN</td>\n",
       "      <td>NaN</td>\n",
       "      <td>Referral</td>\n",
       "      <td>3/17/2014</td>\n",
       "      <td>Closed with explanation</td>\n",
       "      <td>Yes</td>\n",
       "      <td>No</td>\n",
       "      <td>759217</td>\n",
       "    </tr>\n",
       "    <tr>\n",
       "      <th>1</th>\n",
       "      <td>10/1/2016</td>\n",
       "      <td>Credit reporting</td>\n",
       "      <td>NaN</td>\n",
       "      <td>Incorrect information on credit report</td>\n",
       "      <td>Account status</td>\n",
       "      <td>I have outdated information on my credit repor...</td>\n",
       "      <td>Company has responded to the consumer and the ...</td>\n",
       "      <td>TRANSUNION INTERMEDIATE HOLDINGS, INC.</td>\n",
       "      <td>AL</td>\n",
       "      <td>352XX</td>\n",
       "      <td>NaN</td>\n",
       "      <td>Consent provided</td>\n",
       "      <td>Web</td>\n",
       "      <td>10/5/2016</td>\n",
       "      <td>Closed with explanation</td>\n",
       "      <td>Yes</td>\n",
       "      <td>No</td>\n",
       "      <td>2141773</td>\n",
       "    </tr>\n",
       "    <tr>\n",
       "      <th>2</th>\n",
       "      <td>10/17/2016</td>\n",
       "      <td>Consumer Loan</td>\n",
       "      <td>Vehicle loan</td>\n",
       "      <td>Managing the loan or lease</td>\n",
       "      <td>NaN</td>\n",
       "      <td>I purchased a new car on XXXX XXXX. The car de...</td>\n",
       "      <td>NaN</td>\n",
       "      <td>CITIZENS FINANCIAL GROUP, INC.</td>\n",
       "      <td>PA</td>\n",
       "      <td>177XX</td>\n",
       "      <td>Older American</td>\n",
       "      <td>Consent provided</td>\n",
       "      <td>Web</td>\n",
       "      <td>10/20/2016</td>\n",
       "      <td>Closed with explanation</td>\n",
       "      <td>Yes</td>\n",
       "      <td>No</td>\n",
       "      <td>2163100</td>\n",
       "    </tr>\n",
       "    <tr>\n",
       "      <th>3</th>\n",
       "      <td>6/8/2014</td>\n",
       "      <td>Credit card</td>\n",
       "      <td>NaN</td>\n",
       "      <td>Bankruptcy</td>\n",
       "      <td>NaN</td>\n",
       "      <td>NaN</td>\n",
       "      <td>NaN</td>\n",
       "      <td>AMERICAN EXPRESS COMPANY</td>\n",
       "      <td>ID</td>\n",
       "      <td>83854</td>\n",
       "      <td>Older American</td>\n",
       "      <td>NaN</td>\n",
       "      <td>Web</td>\n",
       "      <td>6/10/2014</td>\n",
       "      <td>Closed with explanation</td>\n",
       "      <td>Yes</td>\n",
       "      <td>Yes</td>\n",
       "      <td>885638</td>\n",
       "    </tr>\n",
       "    <tr>\n",
       "      <th>4</th>\n",
       "      <td>9/13/2014</td>\n",
       "      <td>Debt collection</td>\n",
       "      <td>Credit card</td>\n",
       "      <td>Communication tactics</td>\n",
       "      <td>Frequent or repeated calls</td>\n",
       "      <td>NaN</td>\n",
       "      <td>NaN</td>\n",
       "      <td>CITIBANK, N.A.</td>\n",
       "      <td>VA</td>\n",
       "      <td>23233</td>\n",
       "      <td>NaN</td>\n",
       "      <td>NaN</td>\n",
       "      <td>Web</td>\n",
       "      <td>9/13/2014</td>\n",
       "      <td>Closed with explanation</td>\n",
       "      <td>Yes</td>\n",
       "      <td>Yes</td>\n",
       "      <td>1027760</td>\n",
       "    </tr>\n",
       "  </tbody>\n",
       "</table>\n",
       "</div>"
      ],
      "text/plain": [
       "  Date received           Product     Sub-product  \\\n",
       "0     3/12/2014          Mortgage  Other mortgage   \n",
       "1     10/1/2016  Credit reporting             NaN   \n",
       "2    10/17/2016     Consumer Loan    Vehicle loan   \n",
       "3      6/8/2014       Credit card             NaN   \n",
       "4     9/13/2014   Debt collection     Credit card   \n",
       "\n",
       "                                      Issue                   Sub-issue  \\\n",
       "0  Loan modification,collection,foreclosure                         NaN   \n",
       "1    Incorrect information on credit report              Account status   \n",
       "2                Managing the loan or lease                         NaN   \n",
       "3                                Bankruptcy                         NaN   \n",
       "4                     Communication tactics  Frequent or repeated calls   \n",
       "\n",
       "                        Consumer complaint narrative  \\\n",
       "0                                                NaN   \n",
       "1  I have outdated information on my credit repor...   \n",
       "2  I purchased a new car on XXXX XXXX. The car de...   \n",
       "3                                                NaN   \n",
       "4                                                NaN   \n",
       "\n",
       "                             Company public response  \\\n",
       "0                                                NaN   \n",
       "1  Company has responded to the consumer and the ...   \n",
       "2                                                NaN   \n",
       "3                                                NaN   \n",
       "4                                                NaN   \n",
       "\n",
       "                                  Company State ZIP code            Tags  \\\n",
       "0                    M&T BANK CORPORATION    MI    48382             NaN   \n",
       "1  TRANSUNION INTERMEDIATE HOLDINGS, INC.    AL    352XX             NaN   \n",
       "2          CITIZENS FINANCIAL GROUP, INC.    PA    177XX  Older American   \n",
       "3                AMERICAN EXPRESS COMPANY    ID    83854  Older American   \n",
       "4                          CITIBANK, N.A.    VA    23233             NaN   \n",
       "\n",
       "  Consumer consent provided? Submitted via Date sent to company  \\\n",
       "0                        NaN      Referral            3/17/2014   \n",
       "1           Consent provided           Web            10/5/2016   \n",
       "2           Consent provided           Web           10/20/2016   \n",
       "3                        NaN           Web            6/10/2014   \n",
       "4                        NaN           Web            9/13/2014   \n",
       "\n",
       "  Company response to consumer Timely response? Consumer disputed?  \\\n",
       "0      Closed with explanation              Yes                 No   \n",
       "1      Closed with explanation              Yes                 No   \n",
       "2      Closed with explanation              Yes                 No   \n",
       "3      Closed with explanation              Yes                Yes   \n",
       "4      Closed with explanation              Yes                Yes   \n",
       "\n",
       "   Complaint ID  \n",
       "0        759217  \n",
       "1       2141773  \n",
       "2       2163100  \n",
       "3        885638  \n",
       "4       1027760  "
      ]
     },
     "execution_count": 8,
     "metadata": {},
     "output_type": "execute_result"
    }
   ],
   "source": [
    "df.head()"
   ]
  },
  {
   "cell_type": "markdown",
   "metadata": {},
   "source": [
    "# 3)- Data Exploring"
   ]
  },
  {
   "cell_type": "code",
   "execution_count": 9,
   "metadata": {},
   "outputs": [
    {
     "data": {
      "text/html": [
       "<div>\n",
       "<style scoped>\n",
       "    .dataframe tbody tr th:only-of-type {\n",
       "        vertical-align: middle;\n",
       "    }\n",
       "\n",
       "    .dataframe tbody tr th {\n",
       "        vertical-align: top;\n",
       "    }\n",
       "\n",
       "    .dataframe thead th {\n",
       "        text-align: right;\n",
       "    }\n",
       "</style>\n",
       "<table border=\"1\" class=\"dataframe\">\n",
       "  <thead>\n",
       "    <tr style=\"text-align: right;\">\n",
       "      <th></th>\n",
       "      <th>Data Type</th>\n",
       "    </tr>\n",
       "  </thead>\n",
       "  <tbody>\n",
       "    <tr>\n",
       "      <th>Complaint ID</th>\n",
       "      <td>int64</td>\n",
       "    </tr>\n",
       "    <tr>\n",
       "      <th>Timely response?</th>\n",
       "      <td>object</td>\n",
       "    </tr>\n",
       "    <tr>\n",
       "      <th>Company response to consumer</th>\n",
       "      <td>object</td>\n",
       "    </tr>\n",
       "    <tr>\n",
       "      <th>Date sent to company</th>\n",
       "      <td>object</td>\n",
       "    </tr>\n",
       "    <tr>\n",
       "      <th>Submitted via</th>\n",
       "      <td>object</td>\n",
       "    </tr>\n",
       "    <tr>\n",
       "      <th>Consumer consent provided?</th>\n",
       "      <td>object</td>\n",
       "    </tr>\n",
       "    <tr>\n",
       "      <th>Tags</th>\n",
       "      <td>object</td>\n",
       "    </tr>\n",
       "    <tr>\n",
       "      <th>ZIP code</th>\n",
       "      <td>object</td>\n",
       "    </tr>\n",
       "    <tr>\n",
       "      <th>Date received</th>\n",
       "      <td>object</td>\n",
       "    </tr>\n",
       "    <tr>\n",
       "      <th>Company</th>\n",
       "      <td>object</td>\n",
       "    </tr>\n",
       "    <tr>\n",
       "      <th>Company public response</th>\n",
       "      <td>object</td>\n",
       "    </tr>\n",
       "    <tr>\n",
       "      <th>Consumer complaint narrative</th>\n",
       "      <td>object</td>\n",
       "    </tr>\n",
       "    <tr>\n",
       "      <th>Sub-issue</th>\n",
       "      <td>object</td>\n",
       "    </tr>\n",
       "    <tr>\n",
       "      <th>Issue</th>\n",
       "      <td>object</td>\n",
       "    </tr>\n",
       "    <tr>\n",
       "      <th>Sub-product</th>\n",
       "      <td>object</td>\n",
       "    </tr>\n",
       "    <tr>\n",
       "      <th>Product</th>\n",
       "      <td>object</td>\n",
       "    </tr>\n",
       "    <tr>\n",
       "      <th>Consumer disputed?</th>\n",
       "      <td>object</td>\n",
       "    </tr>\n",
       "    <tr>\n",
       "      <th>State</th>\n",
       "      <td>object</td>\n",
       "    </tr>\n",
       "  </tbody>\n",
       "</table>\n",
       "</div>"
      ],
      "text/plain": [
       "                             Data Type\n",
       "Complaint ID                     int64\n",
       "Timely response?                object\n",
       "Company response to consumer    object\n",
       "Date sent to company            object\n",
       "Submitted via                   object\n",
       "Consumer consent provided?      object\n",
       "Tags                            object\n",
       "ZIP code                        object\n",
       "Date received                   object\n",
       "Company                         object\n",
       "Company public response         object\n",
       "Consumer complaint narrative    object\n",
       "Sub-issue                       object\n",
       "Issue                           object\n",
       "Sub-product                     object\n",
       "Product                         object\n",
       "Consumer disputed?              object\n",
       "State                           object"
      ]
     },
     "execution_count": 9,
     "metadata": {},
     "output_type": "execute_result"
    }
   ],
   "source": [
    "# Checking all variables with their data-type\n",
    "def _tbl_dtype(dataset):\n",
    "    sum_dtype = pd.DataFrame(dataset.dtypes).sort_values(0).rename(columns = {0:'Data Type'})\n",
    "    return sum_dtype\n",
    "\n",
    "table_dtype = _tbl_dtype(df)\n",
    "table_dtype"
   ]
  },
  {
   "cell_type": "code",
   "execution_count": 10,
   "metadata": {},
   "outputs": [
    {
     "data": {
      "text/plain": [
       "Mortgage                                                                        242194\n",
       "Debt collection                                                                 171567\n",
       "Credit reporting                                                                140424\n",
       "Credit card                                                                      89190\n",
       "Bank account or service                                                          86207\n",
       "Credit reporting, credit repair services, or other personal consumer reports     59186\n",
       "Student loan                                                                     38612\n",
       "Consumer Loan                                                                    31608\n",
       "Credit card or prepaid card                                                      11921\n",
       "Checking or savings account                                                       9947\n",
       "Payday loan                                                                       5546\n",
       "Money transfers                                                                   5354\n",
       "Prepaid card                                                                      3819\n",
       "Vehicle loan or lease                                                             2873\n",
       "Payday loan, title loan, or personal loan                                         2245\n",
       "Money transfer, virtual currency, or money service                                2213\n",
       "Other financial service                                                           1059\n",
       "Virtual currency                                                                    18\n",
       "Name: Product, dtype: int64"
      ]
     },
     "execution_count": 10,
     "metadata": {},
     "output_type": "execute_result"
    }
   ],
   "source": [
    "df.Product.value_counts()"
   ]
  },
  {
   "cell_type": "markdown",
   "metadata": {},
   "source": [
    "### 3.1)- Checking missing values"
   ]
  },
  {
   "cell_type": "code",
   "execution_count": 11,
   "metadata": {},
   "outputs": [],
   "source": [
    "def find_missing_values(df, columns):\n",
    "    \"\"\"\n",
    "    Finds number of rows where certain columns are missing values.\n",
    "    ::param_df:: = target dataframe\n",
    "    ::param_columns:: = list of columns\n",
    "    \"\"\"\n",
    "    missing_vals = {}\n",
    "    print(\"Number of missing or NaN values for each column:\")\n",
    "    df_length = len(df)\n",
    "    for column in columns:\n",
    "        total_column_values = df[column].value_counts().sum()\n",
    "        missing_vals[column] = df_length-total_column_values\n",
    "        #missing_vals.append(str(column)+ \" column has {} missing or NaN values.\".format())\n",
    "    return missing_vals"
   ]
  },
  {
   "cell_type": "code",
   "execution_count": 12,
   "metadata": {},
   "outputs": [
    {
     "name": "stdout",
     "output_type": "stream",
     "text": [
      "Number of missing or NaN values for each column:\n"
     ]
    },
    {
     "data": {
      "text/plain": [
       "{'Date received': 0,\n",
       " 'Product': 0,\n",
       " 'Sub-product': 235160,\n",
       " 'Issue': 0,\n",
       " 'Sub-issue': 477597,\n",
       " 'Consumer complaint narrative': 704013,\n",
       " 'Company public response': 646002,\n",
       " 'Company': 0,\n",
       " 'State': 9225,\n",
       " 'ZIP code': 9278,\n",
       " 'Tags': 777945,\n",
       " 'Consumer consent provided?': 528549,\n",
       " 'Submitted via': 0,\n",
       " 'Date sent to company': 0,\n",
       " 'Company response to consumer': 0,\n",
       " 'Timely response?': 0,\n",
       " 'Consumer disputed?': 135408,\n",
       " 'Complaint ID': 0}"
      ]
     },
     "execution_count": 12,
     "metadata": {},
     "output_type": "execute_result"
    }
   ],
   "source": [
    "missing_values = find_missing_values(df, columns=df.columns)\n",
    "missing_values"
   ]
  },
  {
   "cell_type": "markdown",
   "metadata": {},
   "source": [
    "### 3.2)- Treating missing values\n",
    "\n",
    "in our key feature i.e \"Consumer complaint narrative\""
   ]
  },
  {
   "cell_type": "code",
   "execution_count": 13,
   "metadata": {},
   "outputs": [
    {
     "data": {
      "text/plain": [
       "(199970,)"
      ]
     },
     "execution_count": 13,
     "metadata": {},
     "output_type": "execute_result"
    }
   ],
   "source": [
    "df['Consumer complaint narrative'].dropna(how='all').shape"
   ]
  },
  {
   "cell_type": "code",
   "execution_count": 14,
   "metadata": {},
   "outputs": [],
   "source": [
    "df['Consumer complaint narrative'].dropna(how='all', inplace=True)"
   ]
  },
  {
   "cell_type": "markdown",
   "metadata": {},
   "source": [
    "We have created a new feature with zero missing values"
   ]
  },
  {
   "cell_type": "code",
   "execution_count": 15,
   "metadata": {},
   "outputs": [
    {
     "data": {
      "text/plain": [
       "0"
      ]
     },
     "execution_count": 15,
     "metadata": {},
     "output_type": "execute_result"
    }
   ],
   "source": [
    "df['Consumer complaint narrative'].isnull().sum()"
   ]
  },
  {
   "cell_type": "code",
   "execution_count": 16,
   "metadata": {},
   "outputs": [],
   "source": [
    "complaint=df['Consumer complaint narrative']"
   ]
  },
  {
   "cell_type": "markdown",
   "metadata": {},
   "source": [
    "# 4)- Data Cleaning"
   ]
  },
  {
   "cell_type": "code",
   "execution_count": 17,
   "metadata": {},
   "outputs": [
    {
     "name": "stdout",
     "output_type": "stream",
     "text": [
      "Patent data has chars 199970\n",
      "Patent data has unique chars 195317\n"
     ]
    }
   ],
   "source": [
    "chars = list(set(complaint)) \n",
    "data_size, vocab_size = len(complaint), len(chars)\n",
    "print (\"Patent data has chars\", data_size)\n",
    "print (\"Patent data has unique chars\", vocab_size)"
   ]
  },
  {
   "cell_type": "markdown",
   "metadata": {},
   "source": [
    "### 4.1)-Tokenize Sentences and Clean"
   ]
  },
  {
   "cell_type": "code",
   "execution_count": 18,
   "metadata": {},
   "outputs": [],
   "source": [
    "def sent_to_words(sentences):\n",
    "    for sent in sentences:\n",
    "        sent = re.sub('\\S*@\\S*\\s?', '', sent)  # remove extra characters\n",
    "        sent = re.sub('\\s+', ' ', sent)  # remove newline chars\n",
    "        sent = re.sub(\"\\'\", \"\", sent)  # remove single quotes\n",
    "        sent = gensim.utils.simple_preprocess(str(sent), deacc=True) \n",
    "        yield(sent)"
   ]
  },
  {
   "cell_type": "code",
   "execution_count": 19,
   "metadata": {},
   "outputs": [
    {
     "name": "stdout",
     "output_type": "stream",
     "text": [
      "[['have', 'outdated', 'information', 'on', 'my', 'credit', 'report', 'that', 'have', 'previously', 'disputed', 'that', 'has', 'yet', 'to', 'be', 'removed', 'this', 'information', 'is', 'more', 'then', 'seven', 'years', 'old', 'and', 'does', 'not', 'meet', 'credit', 'reporting', 'requirements']]\n"
     ]
    }
   ],
   "source": [
    "# Convert to list\n",
    "data = df['Consumer complaint narrative'].values.tolist()\n",
    "data_words = list(sent_to_words(data))\n",
    "print(data_words[:1])"
   ]
  },
  {
   "cell_type": "code",
   "execution_count": 20,
   "metadata": {},
   "outputs": [
    {
     "name": "stdout",
     "output_type": "stream",
     "text": [
      "['an', 'account', 'on', 'my', 'credit', 'report', 'has', 'mistaken', 'date', 'mailed', 'in', 'debt', 'validation', 'letter', 'to', 'allow', 'xxxx', 'to', 'correct', 'the', 'information', 'received', 'letter', 'in', 'the', 'mail', 'stating', 'that', 'experian', 'received', 'my', 'correspondence', 'and', 'found', 'it', 'to', 'be', 'suspicious', 'and', 'that', 'did', 'nt', 'write', 'it', 'experian', 'letter', 'is', 'worded', 'to', 'imply', 'that', 'am', 'incapable', 'of', 'writing', 'my', 'own', 'letter', 'was', 'deeply', 'offended', 'by', 'this', 'implication', 'called', 'experian', 'to', 'figure', 'out', 'why', 'my', 'letter', 'was', 'so', 'suspicious', 'spoke', 'to', 'representative', 'who', 'was', 'incredibly', 'unhelpful', 'she', 'did', 'not', 'effectively', 'answer', 'any', 'questions', 'asked', 'of', 'her', 'and', 'she', 'kept', 'ignoring', 'what', 'was', 'saying', 'regarding', 'the', 'offensive', 'letter', 'and', 'my', 'dispute', 'process', 'feel', 'the', 'representative', 'did', 'what', 'she', 'wanted', 'to', 'do', 'and', 'am', 'not', 'satisfied', 'it', 'is', 'still', 'not', 'clear', 'to', 'me', 'why', 'received', 'this', 'letter', 'typed', 'this', 'letter', 'signed', 'this', 'letter', 'and', 'paid', 'to', 'mail', 'this', 'letter', 'yet', 'experian', 'willfully', 'disregarded', 'my', 'lawful', 'request', 'am', 'disgusted', 'with', 'this', 'entire', 'situation', 'and', 'would', 'like', 'for', 'my', 'dispute', 'to', 'be', 'handled', 'appropriately', 'and', 'would', 'like', 'for', 'an', 'experian', 'representative', 'to', 'contact', 'me', 'and', 'give', 'me', 'real', 'explanation', 'for', 'this', 'letter']\n"
     ]
    }
   ],
   "source": [
    "print(data_words[2])"
   ]
  },
  {
   "cell_type": "markdown",
   "metadata": {},
   "source": [
    "### 4.2)-Build the Bigram, Trigram Models,Postag and Lemmatize"
   ]
  },
  {
   "cell_type": "code",
   "execution_count": 21,
   "metadata": {},
   "outputs": [],
   "source": [
    "# Build the bigram and trigram models\n",
    "bigram = gensim.models.Phrases(data_words, min_count=5, threshold=100) # higher threshold fewer phrases.\n",
    "trigram = gensim.models.Phrases(bigram[data_words], threshold=100)  \n",
    "bigram_mod = gensim.models.phrases.Phraser(bigram)\n",
    "trigram_mod = gensim.models.phrases.Phraser(trigram)"
   ]
  },
  {
   "cell_type": "code",
   "execution_count": 22,
   "metadata": {},
   "outputs": [],
   "source": [
    "def process_words(texts, stop_words=stop_words, allowed_postags=['NOUN', 'ADJ', 'VERB', 'ADV']):\n",
    "    \"\"\"Remove Stopwords, Form Bigrams, Trigrams and Lemmatization\"\"\"\n",
    "    texts = [[word for word in simple_preprocess(str(doc)) if word not in stop_words] for doc in texts]\n",
    "    texts = [bigram_mod[doc] for doc in texts]\n",
    "    texts = [trigram_mod[bigram_mod[doc]] for doc in texts]\n",
    "    texts_out = []\n",
    "    nlp = spacy.load('en', disable=['parser', 'ner'])\n",
    "    for sent in texts:\n",
    "        doc = nlp(\" \".join(sent)) \n",
    "        texts_out.append([token.lemma_ for token in doc if token.pos_ in allowed_postags])\n",
    "    # remove stopwords once more after lemmatization\n",
    "    texts_out = [[word for word in simple_preprocess(str(doc)) if word not in stop_words] for doc in texts_out]    \n",
    "    return texts_out\n",
    "\n",
    "data_ready = process_words(data_words)  # processed Text Data!"
   ]
  },
  {
   "cell_type": "code",
   "execution_count": 23,
   "metadata": {},
   "outputs": [],
   "source": [
    "df_data_ready = pd.DataFrame(data_ready)"
   ]
  },
  {
   "cell_type": "code",
   "execution_count": 24,
   "metadata": {},
   "outputs": [
    {
     "data": {
      "text/html": [
       "<div>\n",
       "<style scoped>\n",
       "    .dataframe tbody tr th:only-of-type {\n",
       "        vertical-align: middle;\n",
       "    }\n",
       "\n",
       "    .dataframe tbody tr th {\n",
       "        vertical-align: top;\n",
       "    }\n",
       "\n",
       "    .dataframe thead th {\n",
       "        text-align: right;\n",
       "    }\n",
       "</style>\n",
       "<table border=\"1\" class=\"dataframe\">\n",
       "  <thead>\n",
       "    <tr style=\"text-align: right;\">\n",
       "      <th></th>\n",
       "      <th>0</th>\n",
       "      <th>1</th>\n",
       "      <th>2</th>\n",
       "      <th>3</th>\n",
       "      <th>4</th>\n",
       "      <th>5</th>\n",
       "      <th>6</th>\n",
       "      <th>7</th>\n",
       "      <th>8</th>\n",
       "      <th>9</th>\n",
       "      <th>...</th>\n",
       "      <th>2522</th>\n",
       "      <th>2523</th>\n",
       "      <th>2524</th>\n",
       "      <th>2525</th>\n",
       "      <th>2526</th>\n",
       "      <th>2527</th>\n",
       "      <th>2528</th>\n",
       "      <th>2529</th>\n",
       "      <th>2530</th>\n",
       "      <th>2531</th>\n",
       "    </tr>\n",
       "  </thead>\n",
       "  <tbody>\n",
       "    <tr>\n",
       "      <th>0</th>\n",
       "      <td>outdated</td>\n",
       "      <td>information</td>\n",
       "      <td>credit</td>\n",
       "      <td>report</td>\n",
       "      <td>previously</td>\n",
       "      <td>dispute</td>\n",
       "      <td>remove</td>\n",
       "      <td>information</td>\n",
       "      <td>year</td>\n",
       "      <td>old</td>\n",
       "      <td>...</td>\n",
       "      <td>None</td>\n",
       "      <td>None</td>\n",
       "      <td>None</td>\n",
       "      <td>None</td>\n",
       "      <td>None</td>\n",
       "      <td>None</td>\n",
       "      <td>None</td>\n",
       "      <td>None</td>\n",
       "      <td>None</td>\n",
       "      <td>None</td>\n",
       "    </tr>\n",
       "    <tr>\n",
       "      <th>1</th>\n",
       "      <td>purchase</td>\n",
       "      <td>new</td>\n",
       "      <td>car</td>\n",
       "      <td>xxxx</td>\n",
       "      <td>xxxx</td>\n",
       "      <td>car</td>\n",
       "      <td>dealer</td>\n",
       "      <td>call</td>\n",
       "      <td>citizen</td>\n",
       "      <td>bank</td>\n",
       "      <td>...</td>\n",
       "      <td>None</td>\n",
       "      <td>None</td>\n",
       "      <td>None</td>\n",
       "      <td>None</td>\n",
       "      <td>None</td>\n",
       "      <td>None</td>\n",
       "      <td>None</td>\n",
       "      <td>None</td>\n",
       "      <td>None</td>\n",
       "      <td>None</td>\n",
       "    </tr>\n",
       "    <tr>\n",
       "      <th>2</th>\n",
       "      <td>account</td>\n",
       "      <td>credit</td>\n",
       "      <td>report</td>\n",
       "      <td>mistaken</td>\n",
       "      <td>date</td>\n",
       "      <td>mail</td>\n",
       "      <td>debt</td>\n",
       "      <td>validation</td>\n",
       "      <td>letter</td>\n",
       "      <td>allow</td>\n",
       "      <td>...</td>\n",
       "      <td>None</td>\n",
       "      <td>None</td>\n",
       "      <td>None</td>\n",
       "      <td>None</td>\n",
       "      <td>None</td>\n",
       "      <td>None</td>\n",
       "      <td>None</td>\n",
       "      <td>None</td>\n",
       "      <td>None</td>\n",
       "      <td>None</td>\n",
       "    </tr>\n",
       "    <tr>\n",
       "      <th>3</th>\n",
       "      <td>company</td>\n",
       "      <td>refuse</td>\n",
       "      <td>provide</td>\n",
       "      <td>verification</td>\n",
       "      <td>validation</td>\n",
       "      <td>debt</td>\n",
       "      <td>believe</td>\n",
       "      <td>debt</td>\n",
       "      <td>mine</td>\n",
       "      <td>None</td>\n",
       "      <td>...</td>\n",
       "      <td>None</td>\n",
       "      <td>None</td>\n",
       "      <td>None</td>\n",
       "      <td>None</td>\n",
       "      <td>None</td>\n",
       "      <td>None</td>\n",
       "      <td>None</td>\n",
       "      <td>None</td>\n",
       "      <td>None</td>\n",
       "      <td>None</td>\n",
       "    </tr>\n",
       "    <tr>\n",
       "      <th>4</th>\n",
       "      <td>complaint</td>\n",
       "      <td>regard</td>\n",
       "      <td>square</td>\n",
       "      <td>financial</td>\n",
       "      <td>refer</td>\n",
       "      <td>cfpb</td>\n",
       "      <td>case</td>\n",
       "      <td>number</td>\n",
       "      <td>xxxx</td>\n",
       "      <td>regard</td>\n",
       "      <td>...</td>\n",
       "      <td>None</td>\n",
       "      <td>None</td>\n",
       "      <td>None</td>\n",
       "      <td>None</td>\n",
       "      <td>None</td>\n",
       "      <td>None</td>\n",
       "      <td>None</td>\n",
       "      <td>None</td>\n",
       "      <td>None</td>\n",
       "      <td>None</td>\n",
       "    </tr>\n",
       "  </tbody>\n",
       "</table>\n",
       "<p>5 rows × 2532 columns</p>\n",
       "</div>"
      ],
      "text/plain": [
       "        0            1        2             3           4        5     \\\n",
       "0   outdated  information   credit        report  previously  dispute   \n",
       "1   purchase          new      car          xxxx        xxxx      car   \n",
       "2    account       credit   report      mistaken        date     mail   \n",
       "3    company       refuse  provide  verification  validation     debt   \n",
       "4  complaint       regard   square     financial       refer     cfpb   \n",
       "\n",
       "      6            7        8       9     ...   2522  2523  2524  2525  2526  \\\n",
       "0   remove  information     year     old  ...   None  None  None  None  None   \n",
       "1   dealer         call  citizen    bank  ...   None  None  None  None  None   \n",
       "2     debt   validation   letter   allow  ...   None  None  None  None  None   \n",
       "3  believe         debt     mine    None  ...   None  None  None  None  None   \n",
       "4     case       number     xxxx  regard  ...   None  None  None  None  None   \n",
       "\n",
       "   2527  2528  2529  2530  2531  \n",
       "0  None  None  None  None  None  \n",
       "1  None  None  None  None  None  \n",
       "2  None  None  None  None  None  \n",
       "3  None  None  None  None  None  \n",
       "4  None  None  None  None  None  \n",
       "\n",
       "[5 rows x 2532 columns]"
      ]
     },
     "execution_count": 24,
     "metadata": {},
     "output_type": "execute_result"
    }
   ],
   "source": [
    "df_data_ready.head()"
   ]
  },
  {
   "cell_type": "code",
   "execution_count": 25,
   "metadata": {},
   "outputs": [
    {
     "data": {
      "text/plain": [
       "(199970, 2532)"
      ]
     },
     "execution_count": 25,
     "metadata": {},
     "output_type": "execute_result"
    }
   ],
   "source": [
    "df_data_ready.shape"
   ]
  },
  {
   "cell_type": "code",
   "execution_count": 26,
   "metadata": {},
   "outputs": [],
   "source": [
    "import pickle\n",
    "df_data_ready.to_pickle('data_ready.pkl')"
   ]
  },
  {
   "cell_type": "markdown",
   "metadata": {},
   "source": [
    "# 5)- Build Topic Model"
   ]
  },
  {
   "cell_type": "markdown",
   "metadata": {},
   "source": [
    "### 5.1)- Create Dictionary"
   ]
  },
  {
   "cell_type": "code",
   "execution_count": 27,
   "metadata": {},
   "outputs": [],
   "source": [
    "#bag of words\n",
    "id2word = corpora.Dictionary(data_ready)"
   ]
  },
  {
   "cell_type": "code",
   "execution_count": 28,
   "metadata": {},
   "outputs": [
    {
     "name": "stdout",
     "output_type": "stream",
     "text": [
      "71260\n"
     ]
    }
   ],
   "source": [
    "print(len(id2word))"
   ]
  },
  {
   "cell_type": "code",
   "execution_count": 29,
   "metadata": {},
   "outputs": [
    {
     "name": "stdout",
     "output_type": "stream",
     "text": [
      "0 credit 102573\n",
      "1 dispute 33627\n",
      "2 information 54083\n",
      "3 meet 4678\n",
      "4 old 9727\n",
      "5 outdated 257\n",
      "6 previously 5703\n",
      "7 remove 33245\n",
      "8 report 74239\n",
      "9 reporting 16626\n",
      "10 requirement 4089\n"
     ]
    }
   ],
   "source": [
    "count = 0\n",
    "for k, v in id2word.iteritems():\n",
    "    print(k, v, id2word.dfs[k])\n",
    "    count += 1\n",
    "    if count > 10:\n",
    "        break"
   ]
  },
  {
   "cell_type": "markdown",
   "metadata": {},
   "source": [
    "Filter out tokens that appear in\n",
    "\n",
    "- less than 15 documents (absolute number) or\n",
    "- more than 0.5 documents (fraction of total corpus size, not absolute number).\n",
    "- after the above two steps, keep only the first 4000 most frequent tokens."
   ]
  },
  {
   "cell_type": "code",
   "execution_count": 30,
   "metadata": {},
   "outputs": [],
   "source": [
    "id2word.filter_extremes(no_below=15, no_above=0.5, keep_n=4000)"
   ]
  },
  {
   "cell_type": "code",
   "execution_count": 31,
   "metadata": {},
   "outputs": [
    {
     "name": "stdout",
     "output_type": "stream",
     "text": [
      "4000\n"
     ]
    }
   ],
   "source": [
    "print(len(id2word))"
   ]
  },
  {
   "cell_type": "code",
   "execution_count": 32,
   "metadata": {},
   "outputs": [
    {
     "name": "stdout",
     "output_type": "stream",
     "text": [
      "old\n"
     ]
    }
   ],
   "source": [
    "print (id2word[3])"
   ]
  },
  {
   "cell_type": "markdown",
   "metadata": {},
   "source": [
    "id2word is a dictionary that contains words. All of our data word."
   ]
  },
  {
   "cell_type": "markdown",
   "metadata": {},
   "source": [
    "### 5.2)-Create Corpus: Term Document Frequency"
   ]
  },
  {
   "cell_type": "code",
   "execution_count": 33,
   "metadata": {},
   "outputs": [
    {
     "data": {
      "text/plain": [
       "[(248, 1), (260, 1), (349, 1), (353, 2), (629, 1)]"
      ]
     },
     "execution_count": 33,
     "metadata": {},
     "output_type": "execute_result"
    }
   ],
   "source": [
    "corpus = [id2word.doc2bow(text) for text in data_ready]\n",
    "corpus[500]"
   ]
  },
  {
   "cell_type": "code",
   "execution_count": 34,
   "metadata": {},
   "outputs": [
    {
     "name": "stdout",
     "output_type": "stream",
     "text": [
      "199970\n"
     ]
    }
   ],
   "source": [
    "print(len(corpus))"
   ]
  },
  {
   "cell_type": "code",
   "execution_count": 35,
   "metadata": {},
   "outputs": [
    {
     "name": "stdout",
     "output_type": "stream",
     "text": [
      "Word 248 (\"never\") appears 1 time.\n",
      "Word 260 (\"show\") appears 1 time.\n",
      "Word 349 (\"bill\") appears 1 time.\n",
      "Word 353 (\"communication\") appears 2 time.\n",
      "Word 629 (\"live\") appears 1 time.\n"
     ]
    }
   ],
   "source": [
    "bow_doc_500 = corpus[500]\n",
    "\n",
    "for i in range(len(bow_doc_500)):\n",
    "    print(\"Word {} (\\\"{}\\\") appears {} time.\".format(bow_doc_500[i][0], \n",
    "                                                     id2word[bow_doc_500[i][0]], \n",
    "                                                     bow_doc_500[i][1]))"
   ]
  },
  {
   "cell_type": "markdown",
   "metadata": {},
   "source": [
    "### 5.3)-Vectorization with TF-IDF\n",
    "term frequency–inverse document frequency, is a numerical statistic that is intended to reflect how important a word is to a document in a collection or corpus"
   ]
  },
  {
   "cell_type": "code",
   "execution_count": 36,
   "metadata": {},
   "outputs": [],
   "source": [
    "from gensim import corpora, models\n",
    "\n",
    "tfidf = models.TfidfModel(corpus)"
   ]
  },
  {
   "cell_type": "code",
   "execution_count": 37,
   "metadata": {},
   "outputs": [],
   "source": [
    "corpus_tfidf = tfidf[corpus]"
   ]
  },
  {
   "cell_type": "code",
   "execution_count": 38,
   "metadata": {},
   "outputs": [
    {
     "name": "stdout",
     "output_type": "stream",
     "text": [
      "[(0, 0.16420850079409888),\n",
      " (1, 0.24088203510048548),\n",
      " (2, 0.3458820292915322),\n",
      " (3, 0.27845787548823264),\n",
      " (4, 0.6131296099909154),\n",
      " (5, 0.32763400900923817),\n",
      " (6, 0.16526079581269965),\n",
      " (7, 0.09126490685452844),\n",
      " (8, 0.2290838044383921),\n",
      " (9, 0.3582766353635814),\n",
      " (10, 0.13447800399414148)]\n"
     ]
    }
   ],
   "source": [
    "from pprint import pprint\n",
    "\n",
    "for doc in corpus_tfidf:\n",
    "    pprint(doc)\n",
    "    break"
   ]
  },
  {
   "cell_type": "markdown",
   "metadata": {},
   "source": [
    "### 5.4)- Model Building\n",
    "\n",
    "We shall apply LDA(Latent Dirichlet Allocation)"
   ]
  },
  {
   "cell_type": "code",
   "execution_count": 39,
   "metadata": {},
   "outputs": [],
   "source": [
    "lda_model_tfidf = gensim.models.LdaMulticore(corpus=corpus_tfidf, num_topics=10, id2word=id2word, passes=2, workers=2)"
   ]
  },
  {
   "cell_type": "code",
   "execution_count": 40,
   "metadata": {},
   "outputs": [],
   "source": [
    "lda_model_tfidf.save('topic_model_tfidf')"
   ]
  },
  {
   "cell_type": "code",
   "execution_count": 41,
   "metadata": {},
   "outputs": [],
   "source": [
    "from gensim.models import LdaModel\n",
    "lda_model_tfidf = LdaModel.load('topic_model_tfidf')"
   ]
  },
  {
   "cell_type": "code",
   "execution_count": 42,
   "metadata": {},
   "outputs": [
    {
     "name": "stdout",
     "output_type": "stream",
     "text": [
      "[(0,\n",
      "  '0.022*\"payment\" + 0.015*\"mortgage\" + 0.014*\"escrow\" + 0.011*\"late\" + '\n",
      "  '0.010*\"insurance\" + 0.009*\"statement\" + 0.008*\"pay\" + 0.008*\"loan\" + '\n",
      "  '0.007*\"fee\" + 0.007*\"month\"'),\n",
      " (1,\n",
      "  '0.038*\"inquiry\" + 0.021*\"report\" + 0.018*\"equifax\" + 0.012*\"remove\" + '\n",
      "  '0.011*\"address\" + 0.011*\"information\" + 0.011*\"name\" + 0.010*\"authorize\" + '\n",
      "  '0.010*\"fraud\" + 0.010*\"identity_theft\"'),\n",
      " (2,\n",
      "  '0.012*\"mortgage\" + 0.011*\"loan\" + 0.010*\"modification\" + 0.009*\"home\" + '\n",
      "  '0.006*\"foreclosure\" + 0.006*\"sale\" + 0.006*\"property\" + 0.005*\"bank\" + '\n",
      "  '0.005*\"fargo\" + 0.005*\"house\"'),\n",
      " (3,\n",
      "  '0.024*\"loan\" + 0.015*\"navient\" + 0.015*\"payment\" + 0.013*\"student\" + '\n",
      "  '0.012*\"interest\" + 0.009*\"pay\" + 0.008*\"rate\" + 0.007*\"school\" + '\n",
      "  '0.007*\"month\" + 0.006*\"forbearance\"'),\n",
      " (4,\n",
      "  '0.034*\"car\" + 0.026*\"vehicle\" + 0.016*\"lease\" + 0.009*\"ally\" + '\n",
      "  '0.009*\"apartment\" + 0.009*\"santander\" + 0.009*\"dealership\" + '\n",
      "  '0.009*\"finance\" + 0.007*\"auto\" + 0.007*\"pay\"'),\n",
      " (5,\n",
      "  '0.015*\"card\" + 0.012*\"bank\" + 0.011*\"account\" + 0.010*\"charge\" + '\n",
      "  '0.008*\"check\" + 0.008*\"fee\" + 0.006*\"chase\" + 0.006*\"money\" + '\n",
      "  '0.005*\"transaction\" + 0.005*\"deposit\"'),\n",
      " (6,\n",
      "  '0.018*\"report\" + 0.016*\"dispute\" + 0.015*\"verify\" + 0.013*\"information\" + '\n",
      "  '0.013*\"account\" + 0.012*\"delete\" + 0.011*\"equifax\" + 0.011*\"remove\" + '\n",
      "  '0.011*\"experian\" + 0.010*\"fcra\"'),\n",
      " (7,\n",
      "  '0.031*\"debt\" + 0.017*\"collection\" + 0.010*\"report\" + 0.010*\"owe\" + '\n",
      "  '0.009*\"collect\" + 0.009*\"company\" + 0.008*\"validation\" + 0.008*\"agency\" + '\n",
      "  '0.008*\"contract\" + 0.008*\"letter\"'),\n",
      " (8,\n",
      "  '0.029*\"report\" + 0.018*\"account\" + 0.015*\"remove\" + 0.012*\"show\" + '\n",
      "  '0.012*\"bankruptcy\" + 0.012*\"score\" + 0.011*\"late\" + 0.011*\"balance\" + '\n",
      "  '0.010*\"dispute\" + 0.009*\"collection\"'),\n",
      " (9,\n",
      "  '0.023*\"call\" + 0.012*\"phone\" + 0.012*\"debt\" + 0.011*\"number\" + 0.009*\"tell\" '\n",
      "  '+ 0.008*\"company\" + 0.007*\"ask\" + 0.007*\"work\" + 0.007*\"nt\" + 0.007*\"owe\"')]\n"
     ]
    }
   ],
   "source": [
    "#The trained topics (keywords and weights)\n",
    "pprint(lda_model_tfidf.print_topics())"
   ]
  },
  {
   "cell_type": "markdown",
   "metadata": {},
   "source": [
    "# 6)-Evaluating model"
   ]
  },
  {
   "cell_type": "markdown",
   "metadata": {},
   "source": [
    "### 6.1)- Compute Model Perplexity and Coherence Score\n",
    "Model perplexity and topic coherence provide a convenient measure to judge how good a given topic model is"
   ]
  },
  {
   "cell_type": "code",
   "execution_count": 43,
   "metadata": {},
   "outputs": [
    {
     "name": "stdout",
     "output_type": "stream",
     "text": [
      "\n",
      "Perplexity:  -7.83515763578667\n"
     ]
    }
   ],
   "source": [
    "# Compute Perplexity:a measure of how good the model is. lower the better.\n",
    "print('\\nPerplexity: ', lda_model_tfidf.log_perplexity(corpus_tfidf)) "
   ]
  },
  {
   "cell_type": "code",
   "execution_count": 44,
   "metadata": {},
   "outputs": [
    {
     "name": "stdout",
     "output_type": "stream",
     "text": [
      "\n",
      "Coherence Score:  0.5155994670641701\n"
     ]
    }
   ],
   "source": [
    "# Compute Coherence Score\n",
    "coherence_model_lda = CoherenceModel(model=lda_model_tfidf, texts=data_ready, dictionary=id2word, coherence='c_v')\n",
    "coherence_lda = coherence_model_lda.get_coherence()\n",
    "print('\\nCoherence Score: ', coherence_lda)"
   ]
  },
  {
   "cell_type": "markdown",
   "metadata": {},
   "source": [
    "### 6.2)-Analysis of LDA model"
   ]
  },
  {
   "cell_type": "code",
   "execution_count": 46,
   "metadata": {},
   "outputs": [
    {
     "data": {
      "text/plain": [
       "[(0, 0.015184734), (2, 0.01156549)]"
      ]
     },
     "execution_count": 46,
     "metadata": {},
     "output_type": "execute_result"
    }
   ],
   "source": [
    "lda_model_tfidf.get_term_topics('mortgage')"
   ]
  },
  {
   "cell_type": "code",
   "execution_count": 47,
   "metadata": {},
   "outputs": [
    {
     "name": "stdout",
     "output_type": "stream",
     "text": [
      "['outdated', 'information', 'credit', 'report', 'previously', 'dispute', 'remove', 'information', 'year', 'old', 'meet', 'credit', 'reporting', 'requirement']\n"
     ]
    }
   ],
   "source": [
    "print(data_ready[0])"
   ]
  },
  {
   "cell_type": "code",
   "execution_count": 48,
   "metadata": {},
   "outputs": [],
   "source": [
    "doc_number = 0\n",
    "doc_topic, word_topic, phi_value = lda_model_tfidf.get_document_topics(corpus_tfidf[doc_number], per_word_topics=True)"
   ]
  },
  {
   "cell_type": "code",
   "execution_count": 49,
   "metadata": {},
   "outputs": [
    {
     "data": {
      "text/plain": [
       "[(0, 0.025332663),\n",
       " (1, 0.025333755),\n",
       " (2, 0.025335273),\n",
       " (3, 0.025334725),\n",
       " (4, 0.025332578),\n",
       " (5, 0.025335638),\n",
       " (6, 0.7719846),\n",
       " (7, 0.025335485),\n",
       " (8, 0.025341053),\n",
       " (9, 0.025334233)]"
      ]
     },
     "execution_count": 49,
     "metadata": {},
     "output_type": "execute_result"
    }
   ],
   "source": [
    "doc_topic"
   ]
  },
  {
   "cell_type": "markdown",
   "metadata": {},
   "source": [
    "The output gives the topic distribution of the document"
   ]
  },
  {
   "cell_type": "code",
   "execution_count": 50,
   "metadata": {},
   "outputs": [
    {
     "data": {
      "text/plain": [
       "[(0, [6]),\n",
       " (1, [6]),\n",
       " (2, [6]),\n",
       " (3, [6]),\n",
       " (4, [6]),\n",
       " (5, [6]),\n",
       " (6, [6]),\n",
       " (7, [6]),\n",
       " (8, [6]),\n",
       " (9, [6]),\n",
       " (10, [6])]"
      ]
     },
     "execution_count": 50,
     "metadata": {},
     "output_type": "execute_result"
    }
   ],
   "source": [
    "word_topic"
   ]
  },
  {
   "cell_type": "markdown",
   "metadata": {},
   "source": [
    "Output gives you word belonging to topics in given documents. In our case, its 1st row"
   ]
  },
  {
   "cell_type": "code",
   "execution_count": 51,
   "metadata": {},
   "outputs": [
    {
     "data": {
      "text/plain": [
       "[(0, [(6, 0.16420382)]),\n",
       " (1, [(6, 0.24087194)]),\n",
       " (2, [(6, 0.34569302)]),\n",
       " (3, [(6, 0.27831104)]),\n",
       " (4, [(6, 0.6129574)]),\n",
       " (5, [(6, 0.32760057)]),\n",
       " (6, [(6, 0.16525188)]),\n",
       " (7, [(6, 0.0912599)]),\n",
       " (8, [(6, 0.22907498)]),\n",
       " (9, [(6, 0.35815927)]),\n",
       " (10, [(6, 0.13440433)])]"
      ]
     },
     "execution_count": 51,
     "metadata": {},
     "output_type": "execute_result"
    }
   ],
   "source": [
    "phi_value"
   ]
  },
  {
   "cell_type": "markdown",
   "metadata": {},
   "source": [
    "The output gives a ranked list of topics for every word. The lower the rank, more is the probability of the word belonging to that topic in the document.\n",
    "Phi values are essentially the probability of that word in that document belonging to a particular topic"
   ]
  },
  {
   "cell_type": "markdown",
   "metadata": {},
   "source": [
    "# 7)- Results"
   ]
  },
  {
   "cell_type": "code",
   "execution_count": 52,
   "metadata": {},
   "outputs": [
    {
     "name": "stdout",
     "output_type": "stream",
     "text": [
      "[nltk_data] Downloading package stopwords to\n",
      "[nltk_data]     C:\\Users\\69785hsh\\AppData\\Roaming\\nltk_data...\n",
      "[nltk_data]   Package stopwords is already up-to-date!\n"
     ]
    }
   ],
   "source": [
    "import nltk; nltk.download('stopwords')\n",
    "# NLTK Stop words\n",
    "from nltk.corpus import stopwords\n",
    "stop_words = stopwords.words('english')\n",
    "stop_words.extend(['from', 'subject', 're', 'edu', 'use'])"
   ]
  },
  {
   "cell_type": "code",
   "execution_count": 53,
   "metadata": {},
   "outputs": [],
   "source": [
    "from matplotlib import pyplot as plt\n",
    "from wordcloud import WordCloud, STOPWORDS\n",
    "import matplotlib.colors as mcolors"
   ]
  },
  {
   "cell_type": "code",
   "execution_count": 54,
   "metadata": {},
   "outputs": [
    {
     "data": {
      "image/png": "[encoded data removed]",
      "text/plain": [
       "<matplotlib.figure.Figure at 0x28d0b689780>"
      ]
     },
     "metadata": {
      "needs_background": "light"
     },
     "output_type": "display_data"
    }
   ],
   "source": [
    "cols = [color for name, color in mcolors.TABLEAU_COLORS.items()]  # more colors: 'mcolors.XKCD_COLORS'\n",
    "\n",
    "cloud = WordCloud(stopwords=stop_words,\n",
    "                  background_color='white',\n",
    "                  width=2500,\n",
    "                  height=1800,\n",
    "                  max_words=10,\n",
    "                  colormap='tab10',\n",
    "                  color_func=lambda *args, **kwargs: cols[i],\n",
    "                  prefer_horizontal=1.0)\n",
    "\n",
    "topics = lda_model_tfidf.show_topics(formatted=False)\n",
    "\n",
    "fig, axes = plt.subplots(4, 2, figsize=(10,10), sharex=True, sharey=True) # watch this value\n",
    "\n",
    "for i, ax in enumerate(axes.flatten()):\n",
    "    fig.add_subplot(ax)\n",
    "    topic_words = dict(topics[i][1])\n",
    "    cloud.generate_from_frequencies(topic_words, max_font_size=300)\n",
    "    plt.gca().imshow(cloud)\n",
    "    plt.gca().set_title('Topic ' + str(i), fontdict=dict(size=16))\n",
    "    plt.gca().axis('off')\n",
    "\n",
    "\n",
    "plt.subplots_adjust(wspace=0, hspace=0)\n",
    "plt.axis('off')\n",
    "plt.margins(x=0, y=0)\n",
    "plt.tight_layout()\n",
    "plt.show()"
   ]
  },
  {
   "cell_type": "code",
   "execution_count": 55,
   "metadata": {},
   "outputs": [
    {
     "data": {
      "image/png": "[encoded data removed]",
      "text/plain": [
       "<matplotlib.figure.Figure at 0x28d0b6894e0>"
      ]
     },
     "metadata": {
      "needs_background": "light"
     },
     "output_type": "display_data"
    }
   ],
   "source": [
    "# bar plot\n",
    "fiz=plt.figure(figsize=(15,30))\n",
    "for i in range(8):\n",
    "    df=pd.DataFrame(lda_model_tfidf.show_topic(i), columns=['term','prob']).set_index('term')\n",
    "    df=df.sort_values('prob')\n",
    "    \n",
    "    plt.subplot(5,2,i+1)\n",
    "    plt.title('topic '+str(i+1))\n",
    "    sns.barplot(x='prob', y=df.index, data=df, label='patents', palette='Reds_d')\n",
    "    plt.xlabel('probability')\n",
    "    \n",
    "\n",
    "plt.show()"
   ]
  },
  {
   "cell_type": "code",
   "execution_count": 57,
   "metadata": {},
   "outputs": [
    {
     "name": "stderr",
     "output_type": "stream",
     "text": [
      "C:\\Program Files\\Anaconda3\\lib\\site-packages\\numexpr\\cpuinfo.py:109: DeprecationWarning: invalid escape sequence \\d\n",
      "  nbits = re.compile('(\\d+)bit').search(abits).group(1)\n",
      "C:\\Program Files\\Anaconda3\\lib\\site-packages\\numexpr\\cpuinfo.py:662: DeprecationWarning: invalid escape sequence \\s\n",
      "  \"\\s+stepping\\s+(?P<STP>\\d+)\", re.IGNORECASE)\n"
     ]
    },
    {
     "data": {
      "text/html": [
       "\n",
       "<link rel=\"stylesheet\" type=\"text/css\" href=\"https://cdn.rawgit.com/bmabey/pyLDAvis/files/ldavis.v1.0.0.css\">\n",
       "\n",
       "\n",
       "<div id=\"ldavis_el735228048040825683564523410\"></div>\n",
       "<script type=\"text/javascript\">\n",
       "\n",
       "var ldavis_el735228048040825683564523410_data = {\"mdsDat\": {\"x\": [0.05796479110147128, 0.08964496212564328, 0.03635969295214985, -0.08863117653372098, 0.12456466565302927, 0.08587224850734705, -0.20039151864627694, -0.09254100923077589, -0.14750865206885244, 0.13466599613998564], \"y\": [0.009177578522847332, 0.04518095381651833, -0.08521196538975734, -0.01810785463870065, 0.0534449227880741, 0.08904805047785952, 0.026574239449397463, 0.06759813644273499, -0.06898295212735042, -0.11872110934162342], \"topics\": [1, 2, 3, 4, 5, 6, 7, 8, 9, 10], \"cluster\": [1, 1, 1, 1, 1, 1, 1, 1, 1, 1], \"Freq\": [18.963485717773438, 15.541413307189941, 10.996967315673828, 10.168694496154785, 9.941730499267578, 8.110152244567871, 7.972411155700684, 7.669342517852783, 6.343570232391357, 4.292232513427734]}, \"tinfo\": {\"Category\": [\"Default\", \"Default\", \"Default\", \"Default\", \"Default\", \"Default\", \"Default\", \"Default\", \"Default\", \"Default\", \"Default\", \"Default\", \"Default\", \"Default\", \"Default\", \"Default\", \"Default\", \"Default\", \"Default\", \"Default\", \"Default\", \"Default\", \"Default\", \"Default\", \"Default\", \"Default\", \"Default\", \"Default\", \"Default\", \"Default\", \"Topic1\", \"Topic1\", \"Topic1\", \"Topic1\", \"Topic1\", \"Topic1\", \"Topic1\", \"Topic1\", \"Topic1\", \"Topic1\", \"Topic1\", \"Topic1\", \"Topic1\", \"Topic1\", \"Topic1\", \"Topic1\", \"Topic1\", \"Topic1\", \"Topic1\", \"Topic1\", \"Topic1\", \"Topic1\", \"Topic1\", \"Topic1\", \"Topic1\", \"Topic1\", \"Topic1\", \"Topic1\", \"Topic1\", \"Topic1\", \"Topic1\", \"Topic1\", \"Topic1\", \"Topic1\", \"Topic1\", \"Topic1\", \"Topic1\", \"Topic1\", \"Topic1\", \"Topic1\", \"Topic1\", \"Topic1\", \"Topic1\", \"Topic1\", \"Topic1\", \"Topic1\", \"Topic1\", \"Topic1\", \"Topic1\", \"Topic1\", \"Topic1\", \"Topic1\", \"Topic1\", \"Topic1\", \"Topic1\", \"Topic1\", \"Topic1\", \"Topic1\", \"Topic1\", \"Topic1\", \"Topic1\", \"Topic1\", \"Topic1\", \"Topic1\", \"Topic1\", \"Topic1\", \"Topic1\", \"Topic1\", \"Topic1\", \"Topic1\", \"Topic1\", \"Topic1\", \"Topic1\", \"Topic1\", \"Topic1\", \"Topic1\", \"Topic1\", \"Topic2\", \"Topic2\", \"Topic2\", \"Topic2\", \"Topic2\", \"Topic2\", \"Topic2\", \"Topic2\", \"Topic2\", \"Topic2\", \"Topic2\", \"Topic2\", \"Topic2\", \"Topic2\", \"Topic2\", \"Topic2\", \"Topic2\", \"Topic2\", \"Topic2\", \"Topic2\", \"Topic2\", \"Topic2\", \"Topic2\", \"Topic2\", \"Topic2\", \"Topic2\", \"Topic2\", \"Topic2\", \"Topic2\", \"Topic2\", \"Topic2\", \"Topic2\", \"Topic2\", \"Topic2\", \"Topic2\", \"Topic2\", \"Topic2\", \"Topic2\", \"Topic2\", \"Topic2\", \"Topic2\", \"Topic2\", \"Topic2\", \"Topic2\", \"Topic2\", \"Topic2\", \"Topic2\", \"Topic2\", \"Topic2\", \"Topic2\", \"Topic2\", \"Topic2\", \"Topic2\", \"Topic2\", \"Topic2\", \"Topic2\", \"Topic2\", \"Topic2\", \"Topic2\", \"Topic2\", \"Topic2\", \"Topic2\", \"Topic2\", \"Topic2\", \"Topic2\", \"Topic2\", \"Topic2\", \"Topic2\", \"Topic2\", \"Topic2\", \"Topic2\", \"Topic2\", \"Topic2\", \"Topic2\", \"Topic2\", \"Topic2\", \"Topic2\", \"Topic2\", \"Topic2\", \"Topic2\", \"Topic2\", \"Topic2\", \"Topic2\", \"Topic3\", \"Topic3\", \"Topic3\", \"Topic3\", \"Topic3\", \"Topic3\", \"Topic3\", \"Topic3\", \"Topic3\", \"Topic3\", \"Topic3\", \"Topic3\", \"Topic3\", \"Topic3\", \"Topic3\", \"Topic3\", \"Topic3\", \"Topic3\", \"Topic3\", \"Topic3\", \"Topic3\", \"Topic3\", \"Topic3\", \"Topic3\", \"Topic3\", \"Topic3\", \"Topic3\", \"Topic3\", \"Topic3\", \"Topic3\", \"Topic3\", \"Topic3\", \"Topic3\", \"Topic3\", \"Topic3\", \"Topic3\", \"Topic3\", \"Topic3\", \"Topic3\", \"Topic3\", \"Topic3\", \"Topic3\", \"Topic3\", \"Topic3\", \"Topic3\", \"Topic3\", \"Topic3\", \"Topic3\", \"Topic3\", \"Topic3\", \"Topic3\", \"Topic3\", \"Topic3\", \"Topic3\", \"Topic3\", \"Topic3\", \"Topic3\", \"Topic3\", \"Topic3\", \"Topic3\", \"Topic3\", \"Topic3\", \"Topic3\", \"Topic3\", \"Topic3\", \"Topic3\", \"Topic3\", \"Topic3\", \"Topic3\", \"Topic3\", \"Topic3\", \"Topic3\", \"Topic3\", \"Topic3\", \"Topic3\", \"Topic3\", \"Topic3\", \"Topic4\", \"Topic4\", \"Topic4\", \"Topic4\", \"Topic4\", \"Topic4\", \"Topic4\", \"Topic4\", \"Topic4\", \"Topic4\", \"Topic4\", \"Topic4\", \"Topic4\", \"Topic4\", \"Topic4\", \"Topic4\", \"Topic4\", \"Topic4\", \"Topic4\", \"Topic4\", \"Topic4\", \"Topic4\", \"Topic4\", \"Topic4\", \"Topic4\", \"Topic4\", \"Topic4\", \"Topic4\", \"Topic4\", \"Topic4\", \"Topic4\", \"Topic4\", \"Topic4\", \"Topic4\", \"Topic4\", \"Topic4\", \"Topic4\", \"Topic4\", \"Topic4\", \"Topic4\", \"Topic4\", \"Topic4\", \"Topic4\", \"Topic4\", \"Topic4\", \"Topic4\", \"Topic4\", \"Topic4\", \"Topic4\", \"Topic4\", \"Topic4\", \"Topic4\", \"Topic4\", \"Topic4\", \"Topic4\", \"Topic4\", \"Topic4\", \"Topic4\", \"Topic4\", \"Topic4\", \"Topic4\", \"Topic4\", \"Topic4\", \"Topic4\", \"Topic4\", \"Topic4\", \"Topic4\", \"Topic4\", \"Topic4\", \"Topic4\", \"Topic4\", \"Topic4\", \"Topic4\", \"Topic4\", \"Topic4\", \"Topic4\", \"Topic4\", \"Topic4\", \"Topic5\", \"Topic5\", \"Topic5\", \"Topic5\", \"Topic5\", \"Topic5\", \"Topic5\", \"Topic5\", \"Topic5\", \"Topic5\", \"Topic5\", \"Topic5\", \"Topic5\", \"Topic5\", \"Topic5\", \"Topic5\", \"Topic5\", \"Topic5\", \"Topic5\", \"Topic5\", \"Topic5\", \"Topic5\", \"Topic5\", \"Topic5\", \"Topic5\", \"Topic5\", \"Topic5\", \"Topic5\", \"Topic5\", \"Topic5\", \"Topic5\", \"Topic5\", \"Topic5\", \"Topic5\", \"Topic5\", \"Topic5\", \"Topic5\", \"Topic5\", \"Topic5\", \"Topic5\", \"Topic5\", \"Topic5\", \"Topic5\", \"Topic5\", \"Topic5\", \"Topic5\", \"Topic5\", \"Topic5\", \"Topic5\", \"Topic5\", \"Topic5\", \"Topic5\", \"Topic5\", \"Topic5\", \"Topic5\", \"Topic5\", \"Topic5\", \"Topic5\", \"Topic5\", \"Topic5\", \"Topic5\", \"Topic5\", \"Topic5\", \"Topic5\", \"Topic5\", \"Topic5\", \"Topic5\", \"Topic5\", \"Topic5\", \"Topic5\", \"Topic5\", \"Topic5\", \"Topic5\", \"Topic6\", \"Topic6\", \"Topic6\", \"Topic6\", \"Topic6\", \"Topic6\", \"Topic6\", \"Topic6\", \"Topic6\", \"Topic6\", \"Topic6\", \"Topic6\", \"Topic6\", \"Topic6\", \"Topic6\", \"Topic6\", \"Topic6\", \"Topic6\", \"Topic6\", \"Topic6\", \"Topic6\", \"Topic6\", \"Topic6\", \"Topic6\", \"Topic6\", \"Topic6\", \"Topic6\", \"Topic6\", \"Topic6\", \"Topic6\", \"Topic6\", \"Topic6\", \"Topic6\", \"Topic6\", \"Topic6\", \"Topic6\", \"Topic6\", \"Topic6\", \"Topic6\", \"Topic6\", \"Topic6\", \"Topic6\", \"Topic6\", \"Topic6\", \"Topic6\", \"Topic6\", \"Topic6\", \"Topic6\", \"Topic6\", \"Topic6\", \"Topic6\", \"Topic6\", \"Topic6\", \"Topic6\", \"Topic6\", \"Topic6\", \"Topic6\", \"Topic6\", \"Topic6\", \"Topic6\", \"Topic6\", \"Topic6\", \"Topic6\", \"Topic6\", \"Topic6\", \"Topic6\", \"Topic6\", \"Topic6\", \"Topic6\", \"Topic6\", \"Topic6\", \"Topic6\", \"Topic6\", \"Topic6\", \"Topic7\", \"Topic7\", \"Topic7\", \"Topic7\", \"Topic7\", \"Topic7\", \"Topic7\", \"Topic7\", \"Topic7\", \"Topic7\", \"Topic7\", \"Topic7\", \"Topic7\", \"Topic7\", \"Topic7\", \"Topic7\", \"Topic7\", \"Topic7\", \"Topic7\", \"Topic7\", \"Topic7\", \"Topic7\", \"Topic7\", \"Topic7\", \"Topic7\", \"Topic7\", \"Topic7\", \"Topic7\", \"Topic7\", \"Topic7\", \"Topic7\", \"Topic7\", \"Topic7\", \"Topic7\", \"Topic7\", \"Topic7\", \"Topic7\", \"Topic7\", \"Topic7\", \"Topic7\", \"Topic7\", \"Topic7\", \"Topic7\", \"Topic7\", \"Topic7\", \"Topic7\", \"Topic7\", \"Topic7\", \"Topic7\", \"Topic7\", \"Topic7\", \"Topic7\", \"Topic7\", \"Topic7\", \"Topic7\", \"Topic7\", \"Topic7\", \"Topic7\", \"Topic7\", \"Topic7\", \"Topic7\", \"Topic7\", \"Topic7\", \"Topic7\", \"Topic7\", \"Topic7\", \"Topic7\", \"Topic7\", \"Topic7\", \"Topic8\", \"Topic8\", \"Topic8\", \"Topic8\", \"Topic8\", \"Topic8\", \"Topic8\", \"Topic8\", \"Topic8\", \"Topic8\", \"Topic8\", \"Topic8\", \"Topic8\", \"Topic8\", \"Topic8\", \"Topic8\", \"Topic8\", \"Topic8\", \"Topic8\", \"Topic8\", \"Topic8\", \"Topic8\", \"Topic8\", \"Topic8\", \"Topic8\", \"Topic8\", \"Topic8\", \"Topic8\", \"Topic8\", \"Topic8\", \"Topic8\", \"Topic8\", \"Topic8\", \"Topic8\", \"Topic8\", \"Topic8\", \"Topic8\", \"Topic8\", \"Topic8\", \"Topic8\", \"Topic8\", \"Topic8\", \"Topic8\", \"Topic8\", \"Topic8\", \"Topic8\", \"Topic8\", \"Topic8\", \"Topic8\", \"Topic8\", \"Topic8\", \"Topic8\", \"Topic8\", \"Topic8\", \"Topic8\", \"Topic8\", \"Topic8\", \"Topic8\", \"Topic8\", \"Topic8\", \"Topic8\", \"Topic8\", \"Topic8\", \"Topic8\", \"Topic8\", \"Topic8\", \"Topic8\", \"Topic8\", \"Topic8\", \"Topic8\", \"Topic8\", \"Topic8\", \"Topic9\", \"Topic9\", \"Topic9\", \"Topic9\", \"Topic9\", \"Topic9\", \"Topic9\", \"Topic9\", \"Topic9\", \"Topic9\", \"Topic9\", \"Topic9\", \"Topic9\", \"Topic9\", \"Topic9\", \"Topic9\", \"Topic9\", \"Topic9\", \"Topic9\", \"Topic9\", \"Topic9\", \"Topic9\", \"Topic9\", \"Topic9\", \"Topic9\", \"Topic9\", \"Topic9\", \"Topic9\", \"Topic9\", \"Topic9\", \"Topic9\", \"Topic9\", \"Topic9\", \"Topic9\", \"Topic9\", \"Topic9\", \"Topic9\", \"Topic9\", \"Topic9\", \"Topic9\", \"Topic9\", \"Topic9\", \"Topic9\", \"Topic9\", \"Topic9\", \"Topic9\", \"Topic9\", \"Topic9\", \"Topic9\", \"Topic9\", \"Topic9\", \"Topic9\", \"Topic9\", \"Topic9\", \"Topic9\", \"Topic9\", \"Topic9\", \"Topic9\", \"Topic9\", \"Topic9\", \"Topic9\", \"Topic9\", \"Topic9\", \"Topic9\", \"Topic9\", \"Topic9\", \"Topic9\", \"Topic10\", \"Topic10\", \"Topic10\", \"Topic10\", \"Topic10\", \"Topic10\", \"Topic10\", \"Topic10\", \"Topic10\", \"Topic10\", \"Topic10\", \"Topic10\", \"Topic10\", \"Topic10\", \"Topic10\", \"Topic10\", \"Topic10\", \"Topic10\", \"Topic10\", \"Topic10\", \"Topic10\", \"Topic10\", \"Topic10\", \"Topic10\", \"Topic10\", \"Topic10\", \"Topic10\", \"Topic10\", \"Topic10\", \"Topic10\", \"Topic10\", \"Topic10\", \"Topic10\", \"Topic10\", \"Topic10\", \"Topic10\", \"Topic10\", \"Topic10\", \"Topic10\", \"Topic10\", \"Topic10\", \"Topic10\", \"Topic10\", \"Topic10\", \"Topic10\", \"Topic10\", \"Topic10\", \"Topic10\", \"Topic10\", \"Topic10\", \"Topic10\", \"Topic10\", \"Topic10\", \"Topic10\", \"Topic10\", \"Topic10\", \"Topic10\", \"Topic10\", \"Topic10\", \"Topic10\", \"Topic10\", \"Topic10\", \"Topic10\", \"Topic10\"], \"Freq\": [3053.0, 7181.0, 6035.0, 1898.0, 2851.0, 6092.0, 6363.0, 3545.0, 1301.0, 1523.0, 3854.0, 3796.0, 4068.0, 1271.0, 6870.0, 5389.0, 1796.0, 1563.0, 1679.0, 1713.0, 3174.0, 2258.0, 1756.0, 847.0, 4179.0, 4318.0, 2054.0, 1875.0, 1226.0, 2496.0, 359.1882019042969, 293.6011962890625, 363.8008117675781, 133.1487274169922, 132.43238830566406, 126.42283630371094, 115.72593688964844, 110.51322174072266, 87.06482696533203, 76.94340515136719, 75.5279769897461, 706.765625, 61.209049224853516, 57.62166976928711, 64.71184539794922, 426.4132385253906, 79.27307891845703, 44.490013122558594, 74.07991790771484, 319.30560302734375, 41.20961380004883, 40.049861907958984, 39.8463020324707, 651.7521362304688, 34.22501754760742, 294.796142578125, 198.61492919921875, 72.1297607421875, 36.73988723754883, 164.21278381347656, 300.30609130859375, 333.7120056152344, 159.5659637451172, 260.0062255859375, 104.63394927978516, 705.9153442382812, 230.03036499023438, 399.32611083984375, 1056.588134765625, 666.0709228515625, 611.4655151367188, 1073.21240234375, 554.8486328125, 384.46417236328125, 2889.28076171875, 159.65576171875, 240.9910430908203, 644.5472412109375, 1248.7764892578125, 2374.58349609375, 368.6178283691406, 1548.1343994140625, 1869.140625, 912.8482666015625, 1549.15576171875, 742.4117431640625, 938.4469604492188, 1224.6282958984375, 2089.446044921875, 572.4263305664062, 934.4205932617188, 716.2110595703125, 748.7509155273438, 592.103271484375, 578.5533447265625, 895.5708618164062, 684.7344360351562, 633.435791015625, 932.3319091796875, 845.1931762695312, 960.498291015625, 735.6138305664062, 752.6537475585938, 886.7772216796875, 797.9835205078125, 786.7606811523438, 715.7196044921875, 116.02560424804688, 104.26963806152344, 86.14836120605469, 67.73982238769531, 64.79769897460938, 154.79989624023438, 58.500118255615234, 58.00205993652344, 56.70563888549805, 54.53785705566406, 51.208251953125, 140.2482147216797, 123.23356628417969, 67.41017150878906, 102.1672134399414, 47.0145378112793, 45.282779693603516, 69.62371063232422, 44.45587921142578, 43.71330261230469, 42.55012512207031, 41.42595672607422, 40.06609344482422, 39.43797302246094, 39.16557693481445, 39.5006217956543, 172.8415985107422, 37.84132385253906, 540.0470581054688, 35.010257720947266, 216.42498779296875, 1570.148193359375, 204.09507751464844, 250.44435119628906, 1007.7164306640625, 381.4093017578125, 127.94538879394531, 119.97721099853516, 414.3755187988281, 137.89114379882812, 220.0811309814453, 970.7786865234375, 236.00146484375, 285.7890319824219, 325.43719482421875, 140.34051513671875, 143.44354248046875, 313.6356506347656, 99.99124145507812, 945.6782836914062, 493.2342224121094, 1442.3323974609375, 1857.3599853515625, 774.3748168945312, 564.262451171875, 272.09844970703125, 780.2156372070312, 538.8807373046875, 633.93798828125, 261.6338195800781, 299.6777038574219, 1801.9949951171875, 344.0782165527344, 761.734619140625, 424.7570495605469, 572.3143920898438, 593.9824829101562, 487.9710693359375, 689.5340576171875, 496.23663330078125, 849.6168823242188, 372.0692443847656, 415.71087646484375, 486.32794189453125, 434.2900695800781, 455.8609313964844, 666.87060546875, 554.8479614257812, 524.993896484375, 523.07275390625, 501.8583068847656, 463.08135986328125, 478.3269348144531, 102.84288024902344, 72.77082061767578, 65.35631561279297, 60.97219467163086, 58.28125, 54.607826232910156, 53.972068786621094, 51.70051193237305, 40.768898010253906, 36.36357498168945, 53.4872932434082, 28.851482391357422, 37.66292190551758, 24.718029022216797, 19.10569953918457, 43.10009765625, 40.22699737548828, 51.4631233215332, 44.819637298583984, 37.17010498046875, 37.889896392822266, 33.22073745727539, 205.75961303710938, 19.084142684936523, 77.01089477539062, 11.440815925598145, 26.53131675720215, 16.30344009399414, 87.17507934570312, 89.26158142089844, 61.25213623046875, 169.3529815673828, 137.62464904785156, 521.8577880859375, 160.43096923828125, 351.27178955078125, 74.77960205078125, 569.1954345703125, 626.9298706054688, 591.778076171875, 378.571533203125, 315.16961669921875, 2599.079345703125, 219.54005432128906, 638.1307373046875, 1365.77490234375, 256.9034423828125, 1292.7491455078125, 722.8399047851562, 299.175537109375, 564.592529296875, 147.96478271484375, 790.5098266601562, 293.1496887207031, 294.116943359375, 518.7874145507812, 1331.8297119140625, 997.08056640625, 830.261962890625, 276.11383056640625, 443.1907653808594, 759.5232543945312, 682.2122192382812, 589.0304565429688, 736.8673095703125, 655.04541015625, 772.3973388671875, 854.4890747070312, 405.0338134765625, 739.1369018554688, 647.8558959960938, 488.6595764160156, 587.5076293945312, 655.8313598632812, 591.8732299804688, 497.86663818359375, 483.9774169921875, 280.7929382324219, 116.56742095947266, 101.50492858886719, 79.46746063232422, 53.043453216552734, 52.06714630126953, 44.908714294433594, 44.14862823486328, 37.004676818847656, 36.34941864013672, 214.1778564453125, 64.31651306152344, 41.19194793701172, 26.825815200805664, 24.788921356201172, 142.9437255859375, 18.31900405883789, 91.28963470458984, 17.90676498413086, 19.916751861572266, 107.66165924072266, 14.210774421691895, 18.63726234436035, 33.24089431762695, 40.37298583984375, 58.98207092285156, 23.088489532470703, 18.075010299682617, 107.3577651977539, 16.300128936767578, 315.9020690917969, 364.4128112792969, 163.76116943359375, 220.72171020507812, 74.74191284179688, 391.7323303222656, 888.2112426757812, 464.8932800292969, 3259.963623046875, 174.5515899658203, 293.1929626464844, 971.68896484375, 1800.1239013671875, 116.94300842285156, 552.239501953125, 294.61810302734375, 841.0462036132812, 514.8050537109375, 538.3167724609375, 184.9505615234375, 354.5531921386719, 1018.38427734375, 273.2883605957031, 874.9120483398438, 266.15203857421875, 592.8665771484375, 583.8453979492188, 434.0998229980469, 938.3447265625, 563.3048706054688, 816.6168823242188, 400.7279052734375, 631.1107788085938, 1028.9661865234375, 502.9783630371094, 541.73681640625, 581.7447509765625, 643.9058227539062, 649.642822265625, 497.9871826171875, 594.5263061523438, 580.2129516601562, 581.1608276367188, 693.3413696289062, 590.2310791015625, 477.7638854980469, 497.4521484375, 480.9566345214844, 334.8522033691406, 214.115234375, 131.1627655029297, 90.21197509765625, 84.67865753173828, 75.44761657714844, 72.50724792480469, 70.40306854248047, 62.19076156616211, 59.41040802001953, 54.15087127685547, 44.62417984008789, 45.289764404296875, 1492.3642578125, 241.61875915527344, 39.243282318115234, 59.5925407409668, 34.23110580444336, 69.1863784790039, 27.836517333984375, 25.383426666259766, 25.222185134887695, 24.485143661499023, 22.001977920532227, 23.26976203918457, 25.055034637451172, 21.337310791015625, 457.2843322753906, 23.318180084228516, 84.86821746826172, 661.6315307617188, 73.27896881103516, 731.314453125, 246.77890014648438, 121.67364501953125, 606.82666015625, 281.5250244140625, 356.3026428222656, 331.5328063964844, 1343.8690185546875, 153.9894561767578, 272.0036315917969, 241.0467529296875, 94.67656707763672, 210.1930694580078, 228.47702026367188, 416.6015625, 134.84739685058594, 1208.8394775390625, 2434.97705078125, 601.8985595703125, 775.3067626953125, 193.1610870361328, 465.1355285644531, 503.8697204589844, 420.6854248046875, 1492.000244140625, 309.9629821777344, 400.33782958984375, 394.108642578125, 940.5787353515625, 690.8632202148438, 466.0369873046875, 593.2513427734375, 531.3601684570312, 506.2104187011719, 430.8435974121094, 461.884033203125, 453.8785400390625, 421.482666015625, 398.8464660644531, 377.5627746582031, 365.5184326171875, 398.9299011230469, 246.578857421875, 81.20479583740234, 78.73884582519531, 47.52703094482422, 47.506919860839844, 36.855552673339844, 29.132793426513672, 194.51382446289062, 21.96607780456543, 21.876953125, 19.93039894104004, 38.58552551269531, 16.58662223815918, 52.02069854736328, 85.76258087158203, 11.929461479187012, 77.66739654541016, 24.817052841186523, 51.201393127441406, 27.635601043701172, 8.160567283630371, 1132.4134521484375, 82.05372619628906, 145.69610595703125, 15.719335556030273, 88.21968841552734, 25.56356430053711, 62.040367126464844, 39.38121795654297, 36.693504333496094, 211.30564880371094, 45.272003173828125, 522.2242431640625, 54.71149826049805, 45.025604248046875, 595.41162109375, 193.55792236328125, 75.6275405883789, 127.18311309814453, 134.99533081054688, 428.0177307128906, 808.5792236328125, 352.8128662109375, 142.05508422851562, 1272.7706298828125, 1869.818603515625, 377.5064697265625, 955.6663818359375, 717.009521484375, 144.02064514160156, 127.02161407470703, 504.0377502441406, 381.8181457519531, 325.24090576171875, 229.60618591308594, 585.9129638671875, 603.1417236328125, 602.549560546875, 570.2224731445312, 705.3642578125, 429.9386291503906, 278.322998046875, 660.2395629882812, 485.6728515625, 439.2492370605469, 414.35400390625, 429.7959899902344, 389.4343566894531, 410.3218078613281, 368.49090576171875, 419.18890380859375, 431.28143310546875, 389.02069091796875, 159.29116821289062, 91.90362548828125, 53.439109802246094, 40.128665924072266, 39.0739631652832, 45.572994232177734, 33.26387405395508, 28.24872589111328, 22.390356063842773, 21.107973098754883, 59.49606704711914, 214.17294311523438, 171.87835693359375, 39.72444534301758, 15.942517280578613, 130.43699645996094, 29.512235641479492, 20.616947174072266, 12.123248100280762, 157.50686645507812, 16.286300659179688, 14.721866607666016, 22.614473342895508, 70.42928314208984, 24.124555587768555, 26.278156280517578, 24.24490737915039, 4.378075122833252, 170.47689819335938, 219.21023559570312, 21.79511260986328, 40.63730239868164, 839.6934204101562, 200.70782470703125, 116.24825286865234, 448.51092529296875, 148.1103515625, 1028.8583984375, 1229.4559326171875, 867.409423828125, 824.2593383789062, 788.3676147460938, 538.03271484375, 1354.419921875, 511.65618896484375, 424.23150634765625, 474.3838806152344, 426.1236572265625, 940.7992553710938, 735.3524780273438, 447.6982116699219, 467.91351318359375, 1098.023193359375, 1466.4111328125, 889.3387451171875, 754.5120849609375, 559.5362548828125, 768.255615234375, 1055.71630859375, 518.7958374023438, 739.3770751953125, 498.7522277832031, 607.0403442382812, 482.10906982421875, 473.45654296875, 604.3781127929688, 453.8252868652344, 469.8535461425781, 458.72601318359375, 179.55902099609375, 73.45084381103516, 74.94068908691406, 69.0602798461914, 27.20095443725586, 26.14799690246582, 34.835655212402344, 84.59132385253906, 10.602561950683594, 40.17898178100586, 21.18536949157715, 27.73013687133789, 27.425472259521484, 25.002803802490234, 42.07004928588867, 28.98190689086914, 63.52009582519531, 11.512591361999512, 51.23936462402344, 44.26041030883789, 222.32833862304688, 18.422954559326172, 30.246742248535156, 85.01960754394531, 25.41590690612793, 24.72196388244629, 41.1561279296875, 31.203088760375977, 19.43337059020996, 48.60398864746094, 85.05390930175781, 286.38360595703125, 410.67547607421875, 475.8540954589844, 353.47332763671875, 485.5170593261719, 942.5870971679688, 928.2626953125, 116.3484115600586, 680.5844116210938, 2289.377685546875, 454.3794250488281, 951.262939453125, 519.0758056640625, 727.4202270507812, 653.7789916992188, 1152.3831787109375, 218.5334930419922, 464.22308349609375, 287.5270080566406, 388.77606201171875, 853.36962890625, 855.5963134765625, 542.3442993164062, 1394.8177490234375, 308.1795654296875, 628.0838623046875, 675.142822265625, 505.7655334472656, 780.2553100585938, 369.0091857910156, 613.92529296875, 728.6901245117188, 475.5851135253906, 563.0225219726562, 724.323486328125, 567.2796630859375, 605.0216674804688, 480.5431213378906, 589.506591796875, 506.1014709472656, 522.5875244140625, 60.1793212890625, 47.71477508544922, 53.476051330566406, 41.17771530151367, 42.90550994873047, 29.46125030517578, 49.80704116821289, 20.109066009521484, 30.392169952392578, 98.11662292480469, 17.484596252441406, 11.550908088684082, 11.612719535827637, 27.55411148071289, 36.99655532836914, 19.970172882080078, 6.239858627319336, 24.570329666137695, 42.52803039550781, 31.076444625854492, 41.647586822509766, 2487.2041015625, 21.502777099609375, 21.552602767944336, 124.03543090820312, 602.5833740234375, 28.9072265625, 149.15162658691406, 83.64927673339844, 209.0121307373047, 567.5829467773438, 423.06463623046875, 503.73919677734375, 661.0961303710938, 623.52880859375, 549.0325927734375, 208.21115112304688, 512.9840087890625, 641.4161376953125, 539.1862182617188, 1194.83349609375, 459.57562255859375, 128.7383575439453, 395.8978576660156, 244.23684692382812, 146.49900817871094, 410.8110656738281, 647.0333862304688, 505.66876220703125, 550.6806640625, 722.7037963867188, 164.29757690429688, 699.19091796875, 264.13519287109375, 1366.32958984375, 256.19525146484375, 799.449951171875, 441.48291015625, 449.0845031738281, 700.1857299804688, 449.46368408203125, 326.64068603515625, 323.7294616699219, 467.66119384765625, 495.9552917480469, 402.2786560058594, 404.3902282714844, 150.3692169189453, 133.02882385253906, 102.15423583984375, 96.6296157836914, 88.01968383789062, 77.26703643798828, 66.36443328857422, 64.05266571044922, 53.273475646972656, 48.84233856201172, 46.34850311279297, 41.04184341430664, 37.99271011352539, 388.25634765625, 36.16680908203125, 231.56182861328125, 28.763805389404297, 72.38187408447266, 23.42087173461914, 296.2728576660156, 95.87149047851562, 20.61212730407715, 18.624055862426758, 43.71416473388672, 46.34130096435547, 413.8083190917969, 57.2283935546875, 26.592384338378906, 399.2246398925781, 23.676733016967773, 1173.6572265625, 165.08795166015625, 171.30642700195312, 730.822265625, 1510.166748046875, 70.71562957763672, 152.90476989746094, 403.410888671875, 105.69677734375, 173.7303009033203, 300.96807861328125, 119.67335510253906, 112.22322845458984, 380.1060791015625, 331.531494140625, 270.2344055175781, 154.63087463378906, 154.00323486328125, 135.41094970703125, 137.1630401611328, 233.2747039794922, 290.2814636230469, 305.6197204589844, 221.1162109375, 274.3360595703125, 270.2765808105469, 193.1328887939453, 185.76467895507812, 195.81939697265625, 188.35009765625, 181.0909881591797, 178.31985473632812, 166.870849609375, 164.77305603027344], \"Term\": [\"inquiry\", \"report\", \"debt\", \"car\", \"equifax\", \"loan\", \"payment\", \"mortgage\", \"vehicle\", \"navient\", \"remove\", \"dispute\", \"collection\", \"escrow\", \"account\", \"call\", \"experian\", \"student\", \"modification\", \"transunion\", \"late\", \"verify\", \"delete\", \"lease\", \"card\", \"information\", \"reporting\", \"bankruptcy\", \"identity_theft\", \"interest\", \"atm\", \"amex\", \"macy\", \"western_union\", \"amazon\", \"nfcu\", \"macys\", \"walmart\", \"rushcard\", \"hacker\", \"barclaycard\", \"overdraft\", \"citigold\", \"airline\", \"platinum\", \"bonus\", \"merchandise\", \"promo\", \"capitalone\", \"promotion\", \"chargeback\", \"overdraw\", \"cash_advance\", \"paypal\", \"activation\", \"reward\", \"overdrawn\", \"flight\", \"overdrafte\", \"teller\", \"barclay\", \"usaa\", \"comenity\", \"visa\", \"mastercard\", \"citibank\", \"promotional\", \"merchant\", \"deposit\", \"citi\", \"branch\", \"transaction\", \"checking\", \"synchrony\", \"card\", \"gift\", \"app\", \"debit\", \"chase\", \"bank\", \"saving\", \"fee\", \"charge\", \"fund\", \"check\", \"refund\", \"customer\", \"money\", \"account\", \"cash\", \"close\", \"america\", \"transfer\", \"capital\", \"cancel\", \"balance\", \"purchase\", \"online\", \"tell\", \"day\", \"call\", \"open\", \"service\", \"payment\", \"receive\", \"nt\", \"pay\", \"phh\", \"appraiser\", \"rushmore\", \"countrywide\", \"builder\", \"realtor\", \"fay_service\", \"farm\", \"earnest\", \"dual_track\", \"hoa\", \"underwriter\", \"mod\", \"forclosure\", \"postpone\", \"selene_finance\", \"bpo\", \"appraise\", \"negotiator\", \"shell\", \"relocation\", \"selene\", \"dual_tracking\", \"rma\", \"valuation\", \"trade_line\", \"loss_mitigation\", \"deferral\", \"appraisal\", \"disperse\", \"hamp\", \"modification\", \"investor\", \"sps\", \"foreclosure\", \"deed\", \"lieu\", \"underwriting\", \"foreclose\", \"quicken\", \"fha\", \"sale\", \"trustee\", \"modify\", \"trial\", \"hud\", \"contractor\", \"caliber\", \"harp\", \"property\", \"short\", \"home\", \"mortgage\", \"house\", \"ocwen\", \"equity\", \"fargo\", \"refinance\", \"lender\", \"buyer\", \"value\", \"loan\", \"closing\", \"document\", \"nationstar\", \"america\", \"process\", \"application\", \"well\", \"attorney\", \"bank\", \"servicer\", \"approve\", \"rate\", \"deny\", \"sell\", \"payment\", \"request\", \"year\", \"tell\", \"time\", \"help\", \"send\", \"hunter_warfield\", \"moneygram\", \"robocall\", \"bmw\", \"keybank\", \"ford\", \"mini_miranda\", \"workplace\", \"gym\", \"lowes\", \"medicaid\", \"pm\", \"cr\", \"curse\", \"maker\", \"coworker\", \"google\", \"receptionist\", \"threate\", \"landline\", \"wages_garnish\", \"licensed\", \"caller\", \"receivable\", \"calling\", \"bet\", \"belligerent\", \"command\", \"harassing\", \"yell\", \"maiden\", \"family_member\", \"jail\", \"cell\", \"arrest\", \"voicemail\", \"global\", \"hang\", \"harass\", \"threaten\", \"rude\", \"payday\", \"call\", \"voice\", \"message\", \"phone\", \"harassment\", \"number\", \"stop\", \"employer\", \"leave\", \"everyday\", \"work\", \"hospital\", \"mother\", \"person\", \"debt\", \"tell\", \"ask\", \"arrangement\", \"answer\", \"owe\", \"name\", \"speak\", \"contact\", \"bill\", \"nt\", \"company\", \"collector\", \"collection\", \"time\", \"keep\", \"day\", \"pay\", \"receive\", \"give\", \"state\", \"erc\", \"pinnacle\", \"convergent\", \"hipaa\", \"resurgent\", \"scottrade\", \"usc_sec\", \"repository\", \"burea\", \"pioneer\", \"afni\", \"pra\", \"indebtedness\", \"invalidated\", \"lawfully\", \"midland_funding\", \"portion_thereof\", \"franklin\", \"enforceable\", \"construe\", \"hippa\", \"notifie\", \"securitization\", \"writ\", \"emergency_room\", \"ar\", \"invalidate\", \"behave\", \"bond\", \"expressly\", \"statute\", \"limitation\", \"statue\", \"midland\", \"commonwealth\", \"fdcpa\", \"validation\", \"allege\", \"debt\", \"alleged\", \"license\", \"collect\", \"collection\", \"usc\", \"validate\", \"judgment\", \"contract\", \"medical\", \"collector\", \"equipment\", \"inc\", \"owe\", \"cease\", \"agency\", \"judgement\", \"original\", \"creditor\", \"violation\", \"company\", \"proof\", \"letter\", \"verification\", \"provide\", \"report\", \"law\", \"claim\", \"bill\", \"dispute\", \"send\", \"notice\", \"request\", \"state\", \"never\", \"account\", \"receive\", \"attempt\", \"amount\", \"service\", \"fedloan\", \"nelnet\", \"ibr\", \"acs\", \"pslf\", \"costco\", \"usbank\", \"westlake\", \"semester\", \"graduation\", \"big_picture\", \"gram\", \"tire\", \"navient\", \"graduate\", \"harrassing\", \"sallie_mae\", \"campus\", \"rehabilitation\", \"stafford\", \"periodically\", \"platform\", \"obama\", \"astronomical\", \"abroad\", \"ent\", \"funeral\", \"deferment\", \"asc\", \"tuition\", \"forbearance\", \"nation_star\", \"school\", \"university\", \"consolidated\", \"repayment\", \"forgiveness\", \"college\", \"education\", \"student\", \"degree\", \"attend\", \"consolidate\", \"forebearance\", \"consolidation\", \"defer\", \"private\", \"cosigner\", \"interest\", \"loan\", \"plan\", \"rate\", \"repay\", \"program\", \"income\", \"low\", \"payment\", \"afford\", \"high\", \"option\", \"pay\", \"month\", \"monthly\", \"year\", \"amount\", \"nt\", \"help\", \"time\", \"tell\", \"due\", \"balance\", \"work\", \"apply\", \"loancare\", \"coinbase\", \"bsi\", \"tcf\", \"ebay\", \"ave\", \"dormant\", \"doe\", \"shortage\", \"mortgagor\", \"atms\", \"amendment\", \"deliquent\", \"examination\", \"bal\", \"impound\", \"exclusively\", \"coupon\", \"condominium\", \"inactivity\", \"cushion\", \"entice\", \"escrow\", \"suspense\", \"analysis\", \"understandable\", \"misapply\", \"inept\", \"hazard\", \"annoying\", \"external\", \"shocked\", \"escrowe\", \"ditech\", \"unapplied\", \"dmv\", \"taxis\", \"seterus\", \"overage\", \"flood\", \"carrington\", \"principal\", \"insurance\", \"payoff\", \"green_tree\", \"mortgage\", \"payment\", \"nationstar\", \"late\", \"statement\", \"coverage\", \"freedom\", \"monthly\", \"tax\", \"ocwen\", \"extra\", \"due\", \"fee\", \"month\", \"amount\", \"pay\", \"apply\", \"increase\", \"loan\", \"receive\", \"day\", \"check\", \"send\", \"date\", \"charge\", \"interest\", \"call\", \"account\", \"company\", \"promptly_delete\", \"reinsertion\", \"kohl\", \"reinsert\", \"completeness\", \"cmre\", \"summit\", \"disputed\", \"civil_liability\", \"subparagraph\", \"reinvestigate\", \"reinserte\", \"furnisher\", \"undeliverable\", \"derive\", \"unverifie\", \"retained\", \"willful_non\", \"absent\", \"verifiable\", \"fully_intend\", \"https\", \"obsolete\", \"reinvestigation\", \"deleting\", \"authenticity\", \"publishing\", \"adopt\", \"unverified\", \"accuracy\", \"furnished\", \"safeguard\", \"fcra\", \"cra\", \"insert\", \"section\", \"furnish\", \"delete\", \"verify\", \"experian\", \"item\", \"transunion\", \"investigation\", \"dispute\", \"inaccurate\", \"certify\", \"belong\", \"investigate\", \"equifax\", \"reporting\", \"verification\", \"identity_theft\", \"information\", \"report\", \"remove\", \"file\", \"proof\", \"request\", \"account\", \"consumer\", \"letter\", \"law\", \"provide\", \"bureau\", \"bureaus\", \"send\", \"response\", \"agency\", \"document\", \"onxx\", \"chexsystem\", \"cbna\", \"elan\", \"clueless\", \"variation\", \"adjudicate\", \"citicard\", \"slap\", \"resold\", \"goodwill\", \"wreck\", \"intr\", \"fcc\", \"reported\", \"deferred\", \"aged\", \"retaliatory\", \"fidelity\", \"chargeoff\", \"remark\", \"column\", \"removing\", \"revolve\", \"unfamiliar\", \"stellar\", \"tha\", \"individually\", \"positively\", \"bk\", \"tradeline\", \"derogatory\", \"chapter\", \"discharge\", \"delinquency\", \"lien\", \"bankruptcy\", \"score\", \"fico\", \"update\", \"report\", \"status\", \"show\", \"negative\", \"reporting\", \"bureaus\", \"remove\", \"incorrectly\", \"incorrect\", \"reflect\", \"history\", \"balance\", \"late\", \"correct\", \"account\", \"closed\", \"open\", \"equifax\", \"full\", \"dispute\", \"inaccurate\", \"agency\", \"collection\", \"bureau\", \"still\", \"pay\", \"date\", \"information\", \"close\", \"payment\", \"file\", \"debt\", \"unauthorize\", \"reage\", \"frca\", \"ambulance\", \"alias\", \"deactivate\", \"soft\", \"electricity\", \"karma\", \"detect\", \"scare_tactics\", \"degrade\", \"stat\", \"browser\", \"clinic\", \"reporter\", \"horrific\", \"impersonate\", \"computer_glitch\", \"breech\", \"purse\", \"inquiry\", \"legally_entitl\", \"rehabilitate\", \"driver_license\", \"breach\", \"mixed\", \"drivers_license\", \"leak\", \"hack\", \"unauthorized\", \"identity\", \"alert\", \"authorize\", \"hard\", \"inquire\", \"compromise\", \"victim\", \"identity_theft\", \"pull\", \"equifax\", \"social_security\", \"ss\", \"steal\", \"freeze\", \"data\", \"police\", \"fraud\", \"personal\", \"fraudulent\", \"address\", \"birth\", \"name\", \"consent\", \"report\", \"free\", \"remove\", \"transunion\", \"experian\", \"information\", \"open\", \"live\", \"mine\", \"company\", \"account\", \"file\", \"never\", \"repo\", \"toyota\", \"gm\", \"netspend\", \"pal\", \"honda\", \"alliance\", \"speedy_cash\", \"nissan\", \"counterfeit\", \"motor_vehicle\", \"lemon\", \"income_driven\", \"dealership\", \"swipe\", \"repossess\", \"mechanic\", \"salesman\", \"driveway\", \"dealer\", \"tow\", \"basement\", \"conspire\", \"restaurant\", \"engine\", \"ally\", \"leasing\", \"garage\", \"santander\", \"pickup\", \"vehicle\", \"repossession\", \"truck\", \"lease\", \"car\", \"automobile\", \"gap\", \"apartment\", \"warranty\", \"accident\", \"rent\", \"acceptance\", \"landlord\", \"finance\", \"auto\", \"title\", \"trade\", \"financing\", \"usa\", \"drive\", \"move\", \"purchase\", \"pay\", \"insurance\", \"payment\", \"loan\", \"financial\", \"contract\", \"company\", \"tell\", \"owe\", \"month\", \"charge\", \"nt\"], \"Total\": [3053.0, 7181.0, 6035.0, 1898.0, 2851.0, 6092.0, 6363.0, 3545.0, 1301.0, 1523.0, 3854.0, 3796.0, 4068.0, 1271.0, 6870.0, 5389.0, 1796.0, 1563.0, 1679.0, 1713.0, 3174.0, 2258.0, 1756.0, 847.0, 4179.0, 4318.0, 2054.0, 1875.0, 1226.0, 2496.0, 360.4183654785156, 294.6493225097656, 365.2399597167969, 134.08082580566406, 133.37493896484375, 127.38517761230469, 116.69622039794922, 111.45491027832031, 87.99029541015625, 77.874755859375, 76.4553451538086, 716.6661376953125, 62.136131286621094, 58.5554313659668, 65.83867645263672, 435.2069396972656, 80.90819549560547, 45.41505432128906, 75.7122802734375, 326.52044677734375, 42.146881103515625, 40.97914123535156, 40.77204132080078, 667.748046875, 35.153053283691406, 302.8158874511719, 204.59703063964844, 74.31794738769531, 37.85532760620117, 169.35995483398438, 311.58148193359375, 347.4271545410156, 165.64649963378906, 272.5274658203125, 108.22502136230469, 776.0659790039062, 244.76284790039062, 434.54913330078125, 1243.6107177734375, 784.0211791992188, 717.1220092773438, 1314.3619384765625, 657.8429565429688, 441.75408935546875, 4179.36083984375, 172.50347900390625, 274.8166809082031, 878.947021484375, 1986.596435546875, 4324.53125, 464.4224548339844, 2902.466796875, 3695.463134765625, 1508.2235107421875, 2990.8818359375, 1170.7147216796875, 1688.9869384765625, 2782.856201171875, 6870.453125, 921.7014770507812, 2264.36279296875, 1477.1832275390625, 1697.1455078125, 1072.970458984375, 1085.7479248046875, 3095.401611328125, 1640.7001953125, 1375.401123046875, 3914.3759765625, 3361.7685546875, 5389.29296875, 2311.501953125, 2727.627685546875, 6363.6005859375, 3834.69384765625, 3794.208984375, 4891.34814453125, 116.95210266113281, 105.34857940673828, 87.06253051757812, 68.65989685058594, 65.71501922607422, 157.1798553466797, 59.41360855102539, 58.94169616699219, 57.62754821777344, 55.451927185058594, 52.12728500366211, 142.7881622314453, 125.48963928222656, 68.68745422363281, 104.18209838867188, 47.94804763793945, 46.19658279418945, 71.03417205810547, 45.370849609375, 44.62779235839844, 43.46722412109375, 42.34681701660156, 40.979591369628906, 40.351985931396484, 40.079437255859375, 40.42366027832031, 176.8978729248047, 38.761436462402344, 553.1853637695312, 35.937870025634766, 222.90292358398438, 1679.7518310546875, 213.0849151611328, 263.083251953125, 1104.2039794921875, 413.5219421386719, 134.7548828125, 126.14119720458984, 456.33880615234375, 146.05543518066406, 241.7513427734375, 1185.0916748046875, 264.34136962890625, 327.4896545410156, 377.57666015625, 154.66769409179688, 158.45726013183594, 383.29779052734375, 106.85079956054688, 1391.93408203125, 690.427490234375, 2449.578369140625, 3545.264892578125, 1256.3123779296875, 890.4463500976562, 360.89447021484375, 1603.4947509765625, 970.5296630859375, 1214.5828857421875, 362.6870422363281, 444.3643798828125, 6092.41796875, 566.1195678710938, 2032.16552734375, 803.1324462890625, 1477.1832275390625, 1629.8671875, 1145.408447265625, 2363.74853515625, 1225.5208740234375, 4324.53125, 713.8151245117188, 933.1402587890625, 1563.1190185546875, 1198.1793212890625, 1423.982421875, 6363.6005859375, 3324.8125, 3137.876953125, 3914.3759765625, 3556.89208984375, 2190.48583984375, 3924.7880859375, 103.76432037353516, 73.68450927734375, 66.27071380615234, 61.88874435424805, 59.19649124145508, 55.52379608154297, 54.88593292236328, 52.63774871826172, 41.682498931884766, 37.28690719604492, 55.11674499511719, 29.773351669311523, 39.38044357299805, 25.85753631591797, 20.0301456451416, 45.187889099121094, 42.24458312988281, 54.16780090332031, 47.404850006103516, 39.32411575317383, 40.42487335205078, 35.66449737548828, 221.37034606933594, 20.57718849182129, 83.25955963134766, 12.383591651916504, 28.791837692260742, 17.69645881652832, 95.17378997802734, 97.5760726928711, 67.7991714477539, 191.76956176757812, 155.36322021484375, 624.4365234375, 186.2669677734375, 434.33612060546875, 84.94580841064453, 774.9132080078125, 893.8238525390625, 856.1021728515625, 558.2679443359375, 458.6567687988281, 5389.29296875, 305.24188232421875, 1087.7283935546875, 2854.91650390625, 398.7120056152344, 3257.7119140625, 1564.0802001953125, 513.9017333984375, 1250.378173828125, 214.93629455566406, 2180.3427734375, 556.6021118164062, 597.3849487304688, 1401.648681640625, 6035.30419921875, 3914.3759765625, 3103.982666015625, 566.4632568359375, 1210.9691162109375, 3026.038818359375, 2582.64013671875, 2011.60498046875, 3231.700927734375, 2636.864990234375, 3794.208984375, 4653.63232421875, 1069.532470703125, 4068.86572265625, 3556.89208984375, 1871.4183349609375, 3361.7685546875, 4891.34814453125, 3834.69384765625, 2376.07958984375, 3197.739990234375, 281.72149658203125, 117.49723815917969, 102.43311309814453, 80.40058135986328, 53.97224044799805, 52.99461364746094, 45.83732986450195, 45.08016586303711, 37.933685302734375, 37.2773323059082, 220.21420288085938, 66.30651092529297, 42.481658935546875, 27.753517150878906, 25.72437858581543, 148.78392028808594, 19.24635887145996, 96.10494995117188, 18.93039894104004, 21.065378189086914, 113.97701263427734, 15.168241500854492, 19.90342140197754, 35.54875564575195, 43.62238693237305, 63.901512145996094, 25.460430145263672, 20.04906463623047, 120.1431884765625, 18.478260040283203, 359.7310485839844, 421.2271423339844, 190.44277954101562, 276.6184997558594, 88.12773132324219, 523.4515380859375, 1280.229248046875, 639.6860961914062, 6035.30419921875, 226.30360412597656, 428.5508117675781, 1766.8231201171875, 4068.86572265625, 151.43356323242188, 988.6361083984375, 471.14764404296875, 1735.284912109375, 983.880615234375, 1069.532470703125, 273.85357666015625, 656.1751098632812, 3026.038818359375, 491.5877685546875, 2825.463623046875, 484.12322998046875, 1682.510498046875, 1746.127685546875, 1090.42431640625, 4653.63232421875, 1907.7921142578125, 3750.18115234375, 1085.0616455078125, 2664.950439453125, 7181.56201171875, 1741.8538818359375, 2091.7470703125, 2636.864990234375, 3796.966796875, 3924.7880859375, 1949.5462646484375, 3324.8125, 3197.739990234375, 3408.19384765625, 6870.453125, 3834.69384765625, 1792.3121337890625, 3170.74462890625, 2727.627685546875, 335.7732238769531, 215.04010009765625, 132.0802764892578, 91.1495590209961, 85.59586334228516, 76.36457061767578, 73.42522430419922, 71.3196792602539, 63.109519958496094, 60.328651428222656, 55.0797119140625, 45.54338836669922, 46.224674224853516, 1523.5279541015625, 247.13771057128906, 40.17234420776367, 61.146732330322266, 35.40056228637695, 71.57880401611328, 28.800819396972656, 26.307453155517578, 26.1552677154541, 25.413042068481445, 22.92070960998535, 24.242122650146484, 26.107770919799805, 22.261871337890625, 479.40020751953125, 24.484207153320312, 89.18889617919922, 710.14208984375, 77.0375747680664, 793.919921875, 265.5872497558594, 130.04592895507812, 676.1038818359375, 310.0281066894531, 395.96160888671875, 368.405029296875, 1563.3763427734375, 168.776123046875, 309.6056823730469, 272.5936584472656, 101.26507568359375, 242.03758239746094, 287.0544128417969, 625.4454956054688, 162.83444213867188, 2496.827392578125, 6092.41796875, 1070.246337890625, 1563.1190185546875, 262.8755798339844, 873.672119140625, 1031.2127685546875, 836.4752807617188, 6363.6005859375, 593.3899536132812, 938.0875854492188, 912.7750244140625, 4891.34814453125, 3261.723876953125, 1503.0101318359375, 3137.876953125, 3170.74462890625, 3794.208984375, 2190.48583984375, 3556.89208984375, 3914.3759765625, 2728.67333984375, 3095.401611328125, 2180.3427734375, 1920.085693359375, 400.3450622558594, 247.48646545410156, 82.11406707763672, 79.64678192138672, 48.44101333618164, 48.42366409301758, 37.76591110229492, 30.04663848876953, 202.28477478027344, 22.882169723510742, 22.790494918823242, 20.857290267944336, 40.59187698364258, 17.51119041442871, 54.978694915771484, 91.47195434570312, 12.846888542175293, 83.81466674804688, 26.924583435058594, 55.78021240234375, 30.709592819213867, 9.082898139953613, 1271.317138671875, 92.12236785888672, 164.25863647460938, 17.763914108276367, 99.9129638671875, 28.989423751831055, 70.5927505493164, 44.82026290893555, 41.763851165771484, 245.13731384277344, 51.65070343017578, 656.381103515625, 63.0661506652832, 51.6383056640625, 849.047607421875, 261.0150146484375, 93.08321380615234, 177.22848510742188, 194.36192321777344, 820.0941162109375, 1788.0357666015625, 656.068603515625, 215.47320556640625, 3545.264892578125, 6363.6005859375, 803.1324462890625, 3174.374755859375, 2166.2529296875, 230.81539916992188, 197.278076171875, 1503.0101318359375, 1015.269287109375, 890.4463500976562, 532.9498291015625, 2728.67333984375, 2902.466796875, 3261.723876953125, 3170.74462890625, 4891.34814453125, 1920.085693359375, 871.6845092773438, 6092.41796875, 3834.69384765625, 3361.7685546875, 2990.8818359375, 3924.7880859375, 2812.34521484375, 3695.463134765625, 2496.827392578125, 5389.29296875, 6870.453125, 4653.63232421875, 160.2660675048828, 92.83226013183594, 54.36585998535156, 41.07517623901367, 40.0810661315918, 46.756317138671875, 34.3110466003418, 29.178632736206055, 23.318485260009766, 22.034934997558594, 62.180240631103516, 224.07139587402344, 180.08139038085938, 41.76858139038086, 16.882883071899414, 139.989501953125, 31.831113815307617, 22.376667022705078, 13.24470043182373, 176.7156524658203, 18.31283950805664, 16.61075210571289, 26.48014259338379, 83.30363464355469, 28.59513282775879, 31.43955421447754, 29.061176300048828, 5.319697380065918, 207.49502563476562, 267.2132873535156, 26.656187057495117, 50.17521286010742, 1104.4859619140625, 265.8609924316406, 149.74093627929688, 681.7060546875, 205.46923828125, 1756.9495849609375, 2258.738525390625, 1796.42578125, 1748.616455078125, 1713.59423828125, 1110.84912109375, 3796.966796875, 1129.4432373046875, 952.3809204101562, 1105.5550537109375, 967.67919921875, 2851.9541015625, 2054.4921875, 1085.0616455078125, 1226.5069580078125, 4318.396484375, 7181.56201171875, 3854.06298828125, 3098.087158203125, 1907.7921142578125, 3324.8125, 6870.453125, 1753.865478515625, 3750.18115234375, 1741.8538818359375, 2664.950439453125, 1816.138427734375, 1800.7279052734375, 3924.7880859375, 1635.0465087890625, 2825.463623046875, 2032.16552734375, 180.585205078125, 74.37116241455078, 75.91619110107422, 69.98055267333984, 28.131147384643555, 27.27857780456543, 37.20806884765625, 91.61509704589844, 11.545605659484863, 44.73707580566406, 23.725433349609375, 32.001708984375, 32.16812515258789, 30.081083297729492, 51.507808685302734, 35.750614166259766, 80.38818359375, 14.717394828796387, 66.24308776855469, 57.334930419921875, 288.30169677734375, 24.112972259521484, 39.834983825683594, 112.81891632080078, 33.8212776184082, 33.857330322265625, 57.90778350830078, 43.962066650390625, 27.852964401245117, 69.9384765625, 123.13356018066406, 423.1072998046875, 612.7522583007812, 715.5914916992188, 534.2750244140625, 824.5518188476562, 1875.980712890625, 1889.392333984375, 184.1496124267578, 1521.279296875, 7181.56201171875, 1034.1968994140625, 2787.51513671875, 1327.705078125, 2054.4921875, 1800.7279052734375, 3854.06298828125, 449.14520263671875, 1235.248046875, 655.62451171875, 986.23388671875, 3095.401611328125, 3174.374755859375, 1699.424560546875, 6870.453125, 771.832763671875, 2311.501953125, 2851.9541015625, 1797.6134033203125, 3796.966796875, 1129.4432373046875, 2825.463623046875, 4068.86572265625, 1816.138427734375, 2602.157470703125, 4891.34814453125, 2812.34521484375, 4318.396484375, 2264.36279296875, 6363.6005859375, 3098.087158203125, 6035.30419921875, 61.111881256103516, 48.65517044067383, 54.63983154296875, 42.1094970703125, 44.256141662597656, 30.397619247436523, 51.45796585083008, 21.13346290588379, 31.96001625061035, 103.22055053710938, 18.425697326660156, 12.488998413085938, 12.572748184204102, 30.42755889892578, 41.88960647583008, 22.891826629638672, 7.190173149108887, 28.635845184326172, 50.29885482788086, 36.81415557861328, 50.19026565551758, 3053.580078125, 27.370027542114258, 27.698013305664062, 160.44480895996094, 782.4143676757812, 37.96194076538086, 197.37062072753906, 112.54999542236328, 296.510009765625, 867.6127319335938, 643.06982421875, 801.4453735351562, 1109.107666015625, 1092.9058837890625, 956.1582641601562, 325.9131774902344, 935.5724487304688, 1226.5069580078125, 1020.153564453125, 2851.9541015625, 949.1973266601562, 200.68170166015625, 828.2547607421875, 454.1773681640625, 240.80401611328125, 927.5596313476562, 1867.9935302734375, 1370.8668212890625, 1575.7528076171875, 2346.22314453125, 289.697265625, 2582.64013671875, 594.3626708984375, 7181.56201171875, 576.183349609375, 3854.06298828125, 1713.59423828125, 1796.42578125, 4318.396484375, 2311.501953125, 1158.288818359375, 1283.696044921875, 4653.63232421875, 6870.453125, 3098.087158203125, 3408.19384765625, 151.275390625, 133.92176818847656, 103.0501480102539, 97.54515838623047, 88.90975189208984, 78.16394805908203, 67.25804901123047, 64.9455795288086, 54.17251205444336, 49.73365783691406, 47.24044418334961, 41.931819915771484, 38.88860321044922, 397.7825012207031, 37.06221389770508, 238.51173400878906, 29.65547752380371, 74.98661041259766, 24.313642501831055, 307.59246826171875, 100.02006530761719, 21.514436721801758, 19.523151397705078, 46.1230354309082, 48.9118537902832, 436.8782653808594, 60.45829391479492, 28.120744705200195, 433.2057189941406, 25.77227020263672, 1301.607666015625, 180.720947265625, 189.79727172851562, 847.162109375, 1898.670166015625, 78.84801483154297, 185.55645751953125, 552.6156005859375, 126.44049835205078, 248.43173217773438, 531.7890625, 168.7440948486328, 160.3567352294922, 900.3431396484375, 948.6565551757812, 740.2457275390625, 298.8668212890625, 300.5989074707031, 246.699462890625, 253.99996948242188, 952.1087036132812, 1640.7001953125, 4891.34814453125, 1788.0357666015625, 6363.6005859375, 6092.41796875, 1603.16259765625, 1735.284912109375, 4653.63232421875, 3914.3759765625, 3026.038818359375, 3261.723876953125, 3695.463134765625, 3794.208984375], \"loglift\": [30.0, 29.0, 28.0, 27.0, 26.0, 25.0, 24.0, 23.0, 22.0, 21.0, 20.0, 19.0, 18.0, 17.0, 16.0, 15.0, 14.0, 13.0, 12.0, 11.0, 10.0, 9.0, 8.0, 7.0, 6.0, 5.0, 4.0, 3.0, 2.0, 1.0, 1.6591999530792236, 1.65910005569458, 1.6586999893188477, 1.6556999683380127, 1.6555999517440796, 1.6550999879837036, 1.6542999744415283, 1.6541999578475952, 1.6520999670028687, 1.6505999565124512, 1.6505000591278076, 1.6486999988555908, 1.6476000547409058, 1.6466000080108643, 1.645400047302246, 1.642199993133545, 1.642199993133545, 1.6420999765396118, 1.6409000158309937, 1.6403000354766846, 1.6402000188827515, 1.6397000551223755, 1.6397000551223755, 1.6383999586105347, 1.6359000205993652, 1.6358000040054321, 1.6330000162124634, 1.6327999830245972, 1.632699966430664, 1.6318000555038452, 1.6258000135421753, 1.6224000453948975, 1.6253000497817993, 1.6155999898910522, 1.6289000511169434, 1.5678999423980713, 1.600600004196167, 1.5780999660491943, 1.4996999502182007, 1.4996000528335571, 1.5032999515533447, 1.4600000381469727, 1.492400050163269, 1.523800015449524, 1.2934999465942383, 1.5852999687194824, 1.5312999486923218, 1.3524999618530273, 1.1984000205993652, 1.0631999969482422, 1.4315999746322632, 1.03410005569458, 0.9810000061988831, 1.1605000495910645, 1.0047999620437622, 1.207200050354004, 1.0750000476837158, 0.8417999744415283, 0.4722999930381775, 1.1863000392913818, 0.7774999737739563, 0.9387000203132629, 0.8443999886512756, 1.0680999755859375, 1.0332000255584717, 0.42239999771118164, 0.7888000011444092, 0.8873000144958496, 0.22789999842643738, 0.28200000524520874, -0.06210000067949295, 0.5177000164985657, 0.3750999867916107, -0.30809998512268066, 0.09290000051259995, 0.0892999991774559, -0.25929999351501465, 1.853700041770935, 1.8514000177383423, 1.851099967956543, 1.8481999635696411, 1.847599983215332, 1.8464000225067139, 1.8461999893188477, 1.8456000089645386, 1.8454999923706055, 1.8450000286102295, 1.8438999652862549, 1.8437000513076782, 1.843500018119812, 1.842900037765503, 1.8421000242233276, 1.8420000076293945, 1.8416999578475952, 1.841599941253662, 1.8413000106811523, 1.840999960899353, 1.8402999639511108, 1.8396999835968018, 1.8391000032424927, 1.8387999534606934, 1.8386000394821167, 1.8386000394821167, 1.8385000228881836, 1.8375999927520752, 1.8375999927520752, 1.8355000019073486, 1.832200050354004, 1.7941999435424805, 1.818600058555603, 1.812399983406067, 1.7702000141143799, 1.7807999849319458, 1.8098000288009644, 1.8115999698638916, 1.7652000188827515, 1.8041000366210938, 1.767699956893921, 1.6621999740600586, 1.7482999563217163, 1.7254999876022339, 1.7130999565124512, 1.7645000219345093, 1.7620999813079834, 1.6611000299453735, 1.795300006866455, 1.475100040435791, 1.5253000259399414, 1.3320000171661377, 1.2151999473571777, 1.3777999877929688, 1.405500054359436, 1.579200029373169, 1.1412999629974365, 1.273300051689148, 1.2115000486373901, 1.535099983215332, 1.4677000045776367, 0.6434999704360962, 1.363700032234192, 0.8804000020027161, 1.2246999740600586, 0.9135000109672546, 0.8522999882698059, 1.0083999633789062, 0.6297000050544739, 0.9575999975204468, 0.23440000414848328, 1.2101000547409058, 1.0530999898910522, 0.694100022315979, 0.8468000292778015, 0.722599983215332, -0.39410001039505005, 0.07119999825954437, 0.07370000332593918, -0.1509999930858612, -0.09669999778270721, 0.3077000081539154, -0.24310000240802765, 2.1986000537872314, 2.1951000690460205, 2.193700075149536, 2.1926000118255615, 2.191999912261963, 2.1909000873565674, 2.1907999515533447, 2.1895999908447266, 2.1854000091552734, 2.182499885559082, 2.177500009536743, 2.176100015640259, 2.1630001068115234, 2.1624999046325684, 2.1603000164031982, 2.1602001190185547, 2.158600091934204, 2.1563000679016113, 2.1514999866485596, 2.15120005607605, 2.1428000926971436, 2.1366000175476074, 2.134399890899658, 2.132200002670288, 2.129499912261963, 2.1284000873565674, 2.1257998943328857, 2.1256000995635986, 2.119800090789795, 2.118499994277954, 2.1059999465942383, 2.083199977874756, 2.0862998962402344, 2.02810001373291, 2.058199882507324, 1.995300054550171, 2.0801000595092773, 1.8990000486373901, 1.8529000282287598, 1.8382999897003174, 1.819100022315979, 1.8323999643325806, 1.4782999753952026, 1.878000020980835, 1.6742000579833984, 1.4701999425888062, 1.7680000066757202, 1.2833000421524048, 1.4357000589370728, 1.6664999723434448, 1.412500023841858, 1.8342000246047974, 1.1929999589920044, 1.5664000511169434, 1.4989999532699585, 1.2136000394821167, 0.6965000033378601, 0.8399999737739563, 0.8888999819755554, 1.4889999628067017, 1.2023999691009521, 0.8252000212669373, 0.8762999773025513, 0.9793000221252441, 0.729200005531311, 0.8148999810218811, 0.6158000230789185, 0.5127000212669373, 1.2365000247955322, 0.5019000172615051, 0.5045999884605408, 0.864799976348877, 0.46320000290870667, 0.19820000231266022, 0.33899998664855957, 0.6446999907493591, 0.31940001249313354, 2.282599925994873, 2.277899980545044, 2.2767999172210693, 2.274199962615967, 2.2685000896453857, 2.268199920654297, 2.265399932861328, 2.265000104904175, 2.2611000537872314, 2.2606000900268555, 2.2581000328063965, 2.2553999423980713, 2.255000114440918, 2.2518999576568604, 2.248800039291382, 2.245800018310547, 2.2365000247955322, 2.234499931335449, 2.230299949645996, 2.22979998588562, 2.2288999557495117, 2.2207000255584717, 2.220099925994873, 2.2186999320983887, 2.208400011062622, 2.205699920654297, 2.1881000995635986, 2.1821999549865723, 2.17330002784729, 2.160399913787842, 2.155900001525879, 2.1410000324249268, 2.1349000930786133, 2.0601000785827637, 2.1210999488830566, 1.996000051498413, 1.920300006866455, 1.9666999578475952, 1.6698999404907227, 2.02620005607605, 1.9062999486923218, 1.687999963760376, 1.4702999591827393, 2.027400016784668, 1.7035000324249268, 1.8164000511169434, 1.5615999698638916, 1.638100028038025, 1.5993000268936157, 1.893399953842163, 1.670300006866455, 1.1967999935150146, 1.698699951171875, 1.1136000156402588, 1.687600016593933, 1.242799997329712, 1.1902999877929688, 1.364799976348877, 0.6845999956130981, 1.065999984741211, 0.7615000009536743, 1.2897000312805176, 0.8453999757766724, 0.34290000796318054, 1.0436999797821045, 0.9348999857902527, 0.7745000123977661, 0.5115000009536743, 0.487199991941452, 0.9211000204086304, 0.5644999742507935, 0.5791000127792358, 0.5169000029563904, -0.007600000128149986, 0.41449999809265137, 0.963699996471405, 0.4336000084877014, 0.5504000186920166, 2.3057000637054443, 2.3041000366210938, 2.301500082015991, 2.298099994659424, 2.2976999282836914, 2.296299934387207, 2.295799970626831, 2.2955000400543213, 2.293800115585327, 2.293100118637085, 2.2913999557495117, 2.2880001068115234, 2.2880001068115234, 2.2878000736236572, 2.285799980163574, 2.2850000858306885, 2.2827000617980957, 2.2748000621795654, 2.274399995803833, 2.274399995803833, 2.272700071334839, 2.2720999717712402, 2.271199941635132, 2.2674999237060547, 2.2674999237060547, 2.2672998905181885, 2.2660000324249268, 2.261199951171875, 2.2595999240875244, 2.2588000297546387, 2.2376999855041504, 2.2583999633789062, 2.226300001144409, 2.234999895095825, 2.2418999671936035, 2.2002999782562256, 2.2119998931884766, 2.202899932861328, 2.203000068664551, 2.157099962234497, 2.2167000770568848, 2.1789000034332275, 2.1854000091552734, 2.2411999702453613, 2.1673998832702637, 2.080199956893921, 1.9020999670028687, 2.119800090789795, 1.5830999612808228, 1.3912999629974365, 1.7329000234603882, 1.607200026512146, 2.0002999305725098, 1.6780999898910522, 1.5923000574111938, 1.6210999488830566, 0.8579999804496765, 1.659000039100647, 1.4569000005722046, 1.4686000347137451, 0.6596999764442444, 0.7563999891281128, 1.1375000476837158, 0.6427000164985657, 0.5220999717712402, 0.29420000314712524, 0.6822999715805054, 0.2671000063419342, 0.15379999577999115, 0.4406000077724457, 0.25929999351501465, 0.5548999905586243, 0.6496000289916992, 2.508500099182129, 2.5083999633789062, 2.5009000301361084, 2.5006000995635986, 2.493000030517578, 2.4928998947143555, 2.4876999855041504, 2.4811999797821045, 2.472899913787842, 2.4711999893188477, 2.471100091934204, 2.466599941253662, 2.461400032043457, 2.4577999114990234, 2.456700086593628, 2.4475998878479004, 2.437999963760376, 2.4358999729156494, 2.430500030517578, 2.4263999462127686, 2.406599998474121, 2.4049999713897705, 2.396399974822998, 2.3963000774383545, 2.3921000957489014, 2.3898000717163086, 2.3875999450683594, 2.3863000869750977, 2.3828999996185303, 2.382699966430664, 2.3826000690460205, 2.3635001182556152, 2.380199909210205, 2.283400058746338, 2.3698999881744385, 2.375, 2.1572000980377197, 2.213099956512451, 2.3043999671936035, 2.1802000999450684, 2.147599935531616, 1.861799955368042, 1.718500018119812, 1.891700029373169, 2.095400094985962, 1.4875999689102173, 1.2872999906539917, 1.757099986076355, 1.3115999698638916, 1.4063999652862549, 2.0404000282287598, 2.0717999935150146, 1.4194999933242798, 1.53410005569458, 1.5048999786376953, 1.6699999570846558, 0.9736999869346619, 0.9409000277519226, 0.823199987411499, 0.7964000105857849, 0.5755000114440918, 1.0155999660491943, 1.3703999519348145, 0.289900004863739, 0.4456999897956848, 0.47690001130104065, 0.5354999899864197, 0.3003000020980835, 0.5350000262260437, 0.3140999972820282, 0.5986999869346619, -0.04179999977350235, -0.25619998574256897, 0.030300000682473183, 2.523099899291992, 2.5190999507904053, 2.51200008392334, 2.5058999061584473, 2.503700017929077, 2.503499984741211, 2.498199939727783, 2.496799945831299, 2.488600015640259, 2.4862000942230225, 2.485100030899048, 2.4839999675750732, 2.482599973678589, 2.4790000915527344, 2.47189998626709, 2.4584999084472656, 2.4535000324249268, 2.4472999572753906, 2.440700054168701, 2.414099931716919, 2.411900043487549, 2.4084999561309814, 2.3714001178741455, 2.361299991607666, 2.3592000007629395, 2.349900007247925, 2.3480000495910645, 2.334399938583374, 2.33270001411438, 2.331199884414673, 2.3278000354766846, 2.3183000087738037, 2.2551000118255615, 2.2481000423431396, 2.2760000228881836, 2.1105000972747803, 2.2018001079559326, 1.9940999746322632, 1.9208999872207642, 1.8011000156402588, 1.7770999670028687, 1.7527999877929688, 1.8042000532150269, 1.4983999729156494, 1.7374000549316406, 1.7204999923706055, 1.6830999851226807, 1.7089999914169312, 1.420199990272522, 1.5017000436782837, 1.6439000368118286, 1.565500020980835, 1.1598000526428223, 0.940500020980835, 1.0628000497817993, 1.1167000532150269, 1.3026000261306763, 1.0641000270843506, 0.6561999917030334, 1.3111000061035156, 0.9053999781608582, 1.2785999774932861, 1.0498000383377075, 1.2029000520706177, 1.1933000087738037, 0.65829998254776, 1.247499942779541, 0.7351999878883362, 1.0407999753952026, 2.5622000694274902, 2.555500030517578, 2.555000066757202, 2.5546998977661133, 2.5343000888824463, 2.525599956512451, 2.5020999908447266, 2.4881999492645264, 2.4827001094818115, 2.4605000019073486, 2.454699993133545, 2.4247000217437744, 2.408400058746338, 2.382999897003174, 2.365499973297119, 2.3580000400543213, 2.33240008354187, 2.3224000930786133, 2.3111000061035156, 2.3090999126434326, 2.3080999851226807, 2.298799991607666, 2.29259991645813, 2.2850000858306885, 2.2822000980377197, 2.253499984741211, 2.2265000343322754, 2.225100040435791, 2.2079999446868896, 2.2039999961853027, 2.197999954223633, 2.1775999069213867, 2.167799949645996, 2.159899950027466, 2.1547999382019043, 2.038300037384033, 1.879699945449829, 1.857200026512146, 2.108799934387207, 1.7635999917984009, 1.4247000217437744, 1.7454999685287476, 1.492799997329712, 1.6288000345230103, 1.5297000408172607, 1.554800033569336, 1.3605999946594238, 1.847499966621399, 1.5893000364303589, 1.7437000274658203, 1.6369999647140503, 1.2795000076293945, 1.2568999528884888, 1.4257999658584595, 0.9735000133514404, 1.649899959564209, 1.2649999856948853, 1.1270999908447266, 1.2998000383377075, 0.9855999946594238, 1.4493000507354736, 1.0413999557495117, 0.8481000065803528, 1.2280000448226929, 1.0371999740600586, 0.6579999923706055, 0.9670000076293945, 0.6025999784469604, 1.017799973487854, 0.18889999389648438, 0.7560999989509583, 0.12139999866485596, 2.7423999309539795, 2.7381999492645264, 2.7362000942230225, 2.7353999614715576, 2.7267000675201416, 2.7263998985290527, 2.725100040435791, 2.7079999446868896, 2.70740008354187, 2.7070000171661377, 2.7053000926971436, 2.6796000003814697, 2.678299903869629, 2.6584999561309814, 2.633500099182129, 2.6212000846862793, 2.615999937057495, 2.604599952697754, 2.589900016784668, 2.5882999897003174, 2.571199893951416, 2.5525999069213867, 2.5164999961853027, 2.5069000720977783, 2.5002999305725098, 2.4965999126434326, 2.4851999282836914, 2.47760009765625, 2.4609999656677246, 2.4079999923706055, 2.333400011062622, 2.3389999866485596, 2.2934000492095947, 2.240299940109253, 2.196500062942505, 2.203000068664551, 2.3097000122070312, 2.1568000316619873, 2.109499931335449, 2.1201000213623047, 1.8876999616622925, 2.032399892807007, 2.313800096511841, 2.0195999145507812, 2.137399911880493, 2.2607998847961426, 1.9433000087738037, 1.6974999904632568, 1.7604000568389893, 1.7064000368118286, 1.580199956893921, 2.1905999183654785, 1.4510999917984009, 1.9466999769210815, 1.0982999801635742, 1.9471999406814575, 1.1848000288009644, 1.4014999866485596, 1.371399998664856, 0.9383999705314636, 1.1201000213623047, 1.4918999671936035, 1.3801000118255615, 0.460099995136261, 0.12919999659061432, 0.7163000106811523, 0.6262000203132629, 3.142400026321411, 3.141700029373169, 3.1396000385284424, 3.1389000415802, 3.1382999420166016, 3.1368000507354736, 3.134999990463257, 3.134500026702881, 3.1315999031066895, 3.1303000450134277, 3.129300117492676, 3.1268999576568604, 3.1250998973846436, 3.1240999698638916, 3.1238999366760254, 3.118799924850464, 3.117799997329712, 3.11299991607666, 3.1110000610351562, 3.1108999252319336, 3.1059999465942383, 3.1054999828338623, 3.1012001037597656, 3.0947000980377197, 3.094399929046631, 3.094099998474121, 3.0934998989105225, 3.0924999713897705, 3.066699981689453, 3.0636000633239746, 3.0448999404907227, 3.0578999519348145, 3.0459001064300537, 3.0006000995635986, 2.9193999767303467, 3.0394999980926514, 2.9547998905181885, 2.833699941635132, 2.9691998958587646, 2.7906999588012695, 2.5790998935699463, 2.8046998977661133, 2.7915000915527344, 2.2860000133514404, 2.0969998836517334, 2.140700101852417, 2.4893999099731445, 2.479599952697754, 2.5485000610351562, 2.5322000980377197, 1.7418999671936035, 1.4163000583648682, 0.37549999356269836, 1.0582000017166138, 0.004399999976158142, 0.032999999821186066, 1.031999945640564, 0.9139000177383423, -0.01979999989271164, 0.11429999768733978, 0.33239999413490295, 0.2418999969959259, 0.050700001418590546, 0.011699999682605267], \"logprob\": [30.0, 29.0, 28.0, 27.0, 26.0, 25.0, 24.0, 23.0, 22.0, 21.0, 20.0, 19.0, 18.0, 17.0, 16.0, 15.0, 14.0, 13.0, 12.0, 11.0, 10.0, 9.0, 8.0, 7.0, 6.0, 5.0, 4.0, 3.0, 2.0, 1.0, -6.301499843597412, -6.5030999183654785, -6.28879976272583, -7.293900012969971, -7.299300193786621, -7.345699787139893, -7.434100151062012, -7.480199813842773, -7.718699932098389, -7.842299938201904, -7.860899925231934, -5.62470006942749, -8.071100234985352, -8.131500244140625, -8.015399932861328, -6.130000114440918, -7.8125, -8.39009952545166, -7.880199909210205, -6.4191999435424805, -8.466699600219727, -8.495200157165527, -8.500300407409668, -5.705699920654297, -8.652400016784668, -6.499100208282471, -6.894000053405762, -7.906899929046631, -8.581500053405762, -7.084199905395508, -6.480599880218506, -6.375100135803223, -7.1128997802734375, -6.62470006942749, -7.534900188446045, -5.625899791717529, -6.747200012207031, -6.1956000328063965, -5.222599983215332, -5.684000015258789, -5.769499778747559, -5.206999778747559, -5.866700172424316, -6.233500003814697, -4.216599941253662, -7.112400054931641, -6.7006001472473145, -5.716800212860107, -5.055500030517578, -4.412799835205078, -6.275599956512451, -4.84060001373291, -4.652100086212158, -5.368800163269043, -4.839900016784668, -5.575500011444092, -5.341100215911865, -5.074999809265137, -4.5406999588012695, -5.8354997634887695, -5.345399856567383, -5.611400127410889, -5.566999912261963, -5.801700115203857, -5.82480001449585, -5.387899875640869, -5.656300067901611, -5.7342000007629395, -5.347700119018555, -5.445799827575684, -5.31790018081665, -5.584700107574463, -5.561800003051758, -5.397799968719482, -5.503300189971924, -5.517399787902832, -5.612100124359131, -7.232600212097168, -7.339399814605713, -7.530300140380859, -7.770699977874756, -7.815100193023682, -6.944200038909912, -7.917300224304199, -7.925899982452393, -7.948500156402588, -7.987500190734863, -8.05049991607666, -7.043000221252441, -7.172299861907959, -7.775599956512451, -7.359799861907959, -8.135899543762207, -8.173399925231934, -7.743299961090088, -8.191900253295898, -8.208700180053711, -8.235699653625488, -8.262499809265137, -8.29580020904541, -8.311599731445312, -8.318599700927734, -8.3100004196167, -6.834000110626221, -8.352999687194824, -5.694699764251709, -8.430700302124023, -6.609099864959717, -4.627399921417236, -6.667799949645996, -6.463099956512451, -5.070899963378906, -6.042500019073486, -7.134799957275391, -7.199100017547607, -5.95959997177124, -7.059899806976318, -6.592400074005127, -5.10830020904541, -6.522500038146973, -6.331099987030029, -6.201200008392334, -7.042300224304199, -7.020400047302246, -6.238100051879883, -7.38129997253418, -5.134500026702881, -5.785399913787842, -4.712299823760986, -4.459499835968018, -5.3343000411987305, -5.6508002281188965, -6.380199909210205, -5.3267998695373535, -5.696899890899658, -5.53439998626709, -6.419400215148926, -6.283699989318848, -4.489699840545654, -6.145500183105469, -5.350800037384033, -5.934800148010254, -5.63670015335083, -5.5995001792907715, -5.79610013961792, -5.450300216674805, -5.779300212860107, -5.241600036621094, -6.067299842834473, -5.956399917602539, -5.799499988555908, -5.912700176239014, -5.864200115203857, -5.483799934387207, -5.667699813842773, -5.7230000495910645, -5.726600170135498, -5.76800012588501, -5.848499774932861, -5.816100120544434, -7.007299900054932, -7.3531999588012695, -7.460599899291992, -7.530099868774414, -7.575200080871582, -7.6402997970581055, -7.6519999504089355, -7.695000171661377, -7.932600021362305, -8.046899795532227, -7.660999774932861, -8.278300285339355, -8.011799812316895, -8.432900428771973, -8.690500259399414, -7.876999855041504, -7.945899963378906, -7.6996002197265625, -7.837800025939941, -8.024999618530273, -8.005800247192383, -8.137299537658691, -6.313799858093262, -8.69159984588623, -7.296500205993652, -9.203300476074219, -8.362099647521973, -8.849100112915039, -7.172599792480469, -7.148900032043457, -7.5254998207092285, -6.508500099182129, -6.71589994430542, -5.3831000328063965, -6.562600135803223, -5.778900146484375, -7.325900077819824, -5.296299934387207, -5.1996002197265625, -5.257299900054932, -5.704100131988525, -5.887400150299072, -3.777600049972534, -6.248899936676025, -5.1819000244140625, -4.421000003814697, -6.091800212860107, -4.475900173187256, -5.057300090789795, -5.9394001960754395, -5.3043999671936035, -6.643499851226807, -4.967800140380859, -5.959799766540527, -5.956500053405762, -5.388999938964844, -4.446199893951416, -4.735599994659424, -4.918700218200684, -6.019700050354004, -5.546500205993652, -5.007800102233887, -5.115099906921387, -5.26200008392334, -5.038099765777588, -5.155799865722656, -4.991000175476074, -4.889999866485596, -5.636499881744385, -5.034999847412109, -5.166800022125244, -5.448800086975098, -5.264599800109863, -5.154600143432617, -5.257199764251709, -5.430099964141846, -5.458399772644043, -5.924600124359131, -6.803699970245361, -6.9421000480651855, -7.186800003051758, -7.591100215911865, -7.609600067138672, -7.757500171661377, -7.774600028991699, -7.951099872589111, -7.968999862670898, -6.195400238037109, -7.398399829864502, -7.843900203704834, -8.27280044555664, -8.351799964904785, -6.599699974060059, -8.654199600219727, -7.048099994659424, -8.677000045776367, -8.570599555969238, -6.883200168609619, -8.90820026397705, -8.63700008392334, -8.05840015411377, -7.863999843597412, -7.484899997711182, -8.422800064086914, -8.66759967803955, -6.886000156402588, -8.770999908447266, -5.806700229644775, -5.663899898529053, -6.463799953460693, -6.165299892425537, -7.2480998039245605, -5.591599941253662, -4.7729997634887695, -5.420400142669678, -3.4727001190185547, -6.399899959564209, -5.88129997253418, -4.68310022354126, -4.0665998458862305, -6.80049991607666, -5.248199939727783, -5.876500129699707, -4.827499866485596, -5.318399906158447, -5.27370023727417, -6.342100143432617, -5.691299915313721, -4.636199951171875, -5.951600074768066, -4.788000106811523, -5.978099822998047, -5.177199840545654, -5.192500114440918, -5.488900184631348, -4.718100070953369, -5.228300094604492, -4.85699987411499, -5.568900108337402, -5.114699840545654, -4.625899791717529, -5.341599941253662, -5.267399787902832, -5.196100234985352, -5.094600200653076, -5.085700035095215, -5.351600170135498, -5.1743998527526855, -5.198800086975098, -5.1971001625061035, -5.020599842071533, -5.181700229644775, -5.393099784851074, -5.352700233459473, -5.38640022277832, -5.725900173187256, -6.173099994659424, -6.6631999015808105, -7.037399768829346, -7.1006999015808105, -7.21619987487793, -7.255899906158447, -7.285399913787842, -7.40939998626709, -7.455100059509277, -7.547800064086914, -7.741300106048584, -7.726500034332275, -4.231500148773193, -6.052199840545654, -7.869800090789795, -7.452099800109863, -8.006500244140625, -7.302800178527832, -8.213199615478516, -8.305500030517578, -8.31190013885498, -8.341500282287598, -8.44849967956543, -8.392399787902832, -8.318499565124512, -8.479100227355957, -5.414299964904785, -8.390399932861328, -7.098499774932861, -5.044899940490723, -7.245299816131592, -4.944799900054932, -6.031099796295166, -6.73829984664917, -5.131400108337402, -5.899400234222412, -5.66379976272583, -5.735899925231934, -4.336299896240234, -6.502699851989746, -5.933800220489502, -6.054599761962891, -6.989099979400635, -6.1915998458862305, -6.1082000732421875, -5.507500171661377, -6.635499954223633, -4.442200183868408, -3.7418999671936035, -5.139500141143799, -4.886300086975098, -6.276100158691406, -5.397299766540527, -5.317299842834473, -5.497700214385986, -4.2316999435424805, -5.803100109100342, -5.547299861907959, -5.563000202178955, -4.6930999755859375, -5.001699924468994, -5.395299911499023, -5.1539998054504395, -5.264200210571289, -5.312600135803223, -5.473899841308594, -5.404300212860107, -5.421800136566162, -5.495800018310547, -5.551000118255615, -5.605899810791016, -5.638299942016602, -5.3471999168396, -5.8282999992370605, -6.939000129699707, -6.969799995422363, -7.474699974060059, -7.475100040435791, -7.729000091552734, -7.964099884033203, -6.065499782562256, -8.246500015258789, -8.250499725341797, -8.343700408935547, -7.68310022354126, -8.527400016784668, -7.384300231933594, -6.884399890899658, -8.857000350952148, -6.983500003814697, -8.12440013885498, -7.400199890136719, -8.016900062561035, -9.236700057983398, -4.303899765014648, -6.928599834442139, -6.354400157928467, -8.581100463867188, -6.856100082397461, -8.094799995422363, -7.208199977874756, -7.662700176239014, -7.733399868011475, -5.982699871063232, -7.5233001708984375, -5.077899932861328, -7.333899974822998, -7.52869987487793, -4.946700096130371, -6.070400238037109, -7.010200023651123, -6.490300178527832, -6.430699825286865, -5.276800155639648, -4.640699863433838, -5.46999979019165, -6.379799842834473, -4.186999797821045, -3.8024001121520996, -5.402400016784668, -4.473599910736084, -4.760900020599365, -6.366000175476074, -6.491600036621094, -5.11329984664917, -5.390999794006348, -5.551400184631348, -5.899600028991699, -4.962800025939941, -4.933800220489502, -4.934800148010254, -4.9899001121521, -4.777299880981445, -5.272299766540527, -5.707200050354004, -4.843400001525879, -5.150400161743164, -5.250899791717529, -5.309299945831299, -5.27269983291626, -5.371300220489502, -5.318999767303467, -5.426599979400635, -5.297699928283691, -5.269199848175049, -5.372300148010254, -6.2480998039245605, -6.798099994659424, -7.3403000831604, -7.626800060272217, -7.65339994430542, -7.499499797821045, -7.8144001960754395, -7.977799892425537, -8.210200309753418, -8.269200325012207, -7.232900142669678, -5.952099800109863, -6.172100067138672, -7.636899948120117, -8.54990005493164, -6.447999954223633, -7.934000015258789, -8.292699813842773, -8.823699951171875, -6.259399890899658, -8.528499603271484, -8.629500389099121, -8.200300216674805, -7.064199924468994, -8.135600090026855, -8.050100326538086, -8.130599975585938, -9.84220027923584, -6.180200099945068, -5.928800106048584, -8.237199783325195, -7.614200115203857, -4.5858001708984375, -6.017000198364258, -6.5630998611450195, -5.212900161743164, -6.320899963378906, -4.382599830627441, -4.204500198364258, -4.553299903869629, -4.604400157928467, -4.648900032043457, -5.030900001525879, -4.107699871063232, -5.081200122833252, -5.268599987030029, -5.156799793243408, -5.264100074768066, -4.472099781036377, -4.718500137329102, -5.214700222015381, -5.170599937438965, -4.317599773406982, -4.028299808502197, -4.52839994430542, -4.692800045013428, -4.991700172424316, -4.674699783325195, -4.356900215148926, -5.067299842834473, -4.7129998207092285, -5.1066999435424805, -4.910200119018555, -5.140699863433838, -5.15880012512207, -4.914599895477295, -5.201099872589111, -5.166399955749512, -5.190400123596191, -6.089600086212158, -6.983500003814697, -6.963399887084961, -7.045100212097168, -7.976799964904785, -8.016300201416016, -7.729400157928467, -6.842299938201904, -8.918999671936035, -7.586699962615967, -8.226799964904785, -7.957600116729736, -7.968599796295166, -8.061100006103516, -7.540800094604492, -7.913400173187256, -7.128699779510498, -8.836600303649902, -7.343599796295166, -7.489999771118164, -5.875899791717529, -8.366499900817871, -7.870699882507324, -6.837200164794922, -8.044699668884277, -8.072400093078613, -7.562699794769287, -7.839600086212158, -8.31309986114502, -7.396399974822998, -6.8368000984191895, -5.622799873352051, -5.26230001449585, -5.114999771118164, -5.412300109863281, -5.094900131225586, -4.43149995803833, -4.446800231933594, -6.523499965667725, -4.7571001052856445, -3.544100046157837, -5.161200046539307, -4.422299861907959, -5.0279998779296875, -4.6905999183654785, -4.797299861907959, -4.230500221252441, -5.893099784851074, -5.139699935913086, -5.618800163269043, -5.3171000480651855, -4.530900001525879, -4.528299808502197, -4.9842000007629395, -4.039599895477295, -5.5493998527526855, -4.837399959564209, -4.765200138092041, -5.053999900817871, -4.620500087738037, -5.36929988861084, -4.860199928283691, -4.688799858093262, -5.115499973297119, -4.946800231933594, -4.694799900054932, -4.939199924468994, -4.874800205230713, -5.105199813842773, -4.9008002281188965, -5.053299903869629, -5.021299839019775, -6.993000030517578, -7.225100040435791, -7.111100196838379, -7.372399806976318, -7.331299781799316, -7.707200050354004, -7.18209981918335, -8.089099884033203, -7.67609977722168, -6.5040998458862305, -8.229000091552734, -8.643500328063965, -8.638199806213379, -7.774099826812744, -7.479499816894531, -8.096099853515625, -9.259300231933594, -7.888800144195557, -7.340099811553955, -7.653800010681152, -7.361100196838379, -3.271399974822998, -8.022100448608398, -8.019800186157227, -6.269700050354004, -4.6890997886657715, -7.726200103759766, -6.085299968719482, -6.663700103759766, -5.747900009155273, -4.748899936676025, -5.042799949645996, -4.868199825286865, -4.596399784088135, -4.654900074005127, -4.782100200653076, -5.751699924468994, -4.850100040435791, -4.6265997886657715, -4.80019998550415, -4.004499912261963, -4.960000038146973, -6.232500076293945, -5.109099864959717, -5.592199802398682, -6.103300094604492, -5.072199821472168, -4.6178998947143555, -4.8643999099731445, -4.779099941253662, -4.507299900054932, -5.98859977722168, -4.54040002822876, -5.513800144195557, -3.8703999519348145, -5.544400215148926, -4.406400203704834, -5.000199794769287, -4.983099937438965, -4.539000034332275, -4.9822001457214355, -5.301400184631348, -5.310400009155273, -4.942599773406982, -4.883800029754639, -5.093200206756592, -5.087900161743164, -5.686600208282471, -5.809100151062012, -6.073200225830078, -6.128799915313721, -6.222099781036377, -6.352399826049805, -6.504499912261963, -6.539999961853027, -6.7241997718811035, -6.811100006103516, -6.863500118255615, -6.985099792480469, -7.062300205230713, -4.73799991607666, -7.111499786376953, -5.254799842834473, -7.3404998779296875, -6.417699813842773, -7.546000003814697, -5.008399963378906, -6.13670015335083, -7.673799991607666, -7.775199890136719, -6.921999931335449, -6.86359977722168, -4.674300193786621, -6.652599811553955, -7.419000148773193, -4.710100173950195, -7.535200119018555, -3.6317999362945557, -5.593200206756592, -5.55620002746582, -4.105500221252441, -3.379699945449829, -6.440999984741211, -5.6697998046875, -4.699699878692627, -6.039100170135498, -5.542200088500977, -4.992700099945068, -5.914899826049805, -5.9791998863220215, -4.759200096130371, -4.895899772644043, -5.100399971008301, -5.658599853515625, -5.662700176239014, -5.791299819946289, -5.778500080108643, -5.247399806976318, -5.028800010681152, -4.97730016708374, -5.301000118255615, -5.085299968719482, -5.100200176239014, -5.436299800872803, -5.475200176239014, -5.422500133514404, -5.461400032043457, -5.500699996948242, -5.51609992980957, -5.582399845123291, -5.595099925994873]}, \"token.table\": {\"Topic\": [5, 7, 1, 2, 3, 5, 6, 8, 10, 1, 2, 3, 4, 5, 6, 8, 10, 1, 2, 3, 4, 5, 6, 7, 8, 9, 10, 1, 2, 4, 5, 6, 7, 8, 9, 5, 1, 1, 2, 3, 4, 5, 6, 7, 8, 9, 10, 1, 8, 7, 1, 2, 3, 4, 5, 6, 7, 8, 9, 10, 3, 4, 2, 4, 7, 8, 1, 2, 3, 4, 5, 6, 7, 8, 9, 10, 1, 1, 2, 3, 4, 5, 6, 7, 8, 9, 10, 2, 9, 1, 2, 3, 4, 5, 6, 7, 8, 10, 1, 2, 3, 4, 6, 7, 8, 10, 1, 3, 4, 5, 10, 1, 9, 6, 1, 2, 3, 4, 5, 6, 7, 8, 9, 10, 1, 1, 2, 3, 4, 5, 6, 7, 8, 9, 10, 1, 2, 5, 6, 5, 6, 1, 2, 3, 4, 5, 6, 7, 8, 9, 10, 1, 2, 3, 4, 5, 7, 8, 9, 10, 1, 2, 3, 4, 5, 7, 9, 10, 1, 2, 3, 4, 5, 6, 7, 8, 9, 10, 1, 2, 3, 4, 5, 6, 7, 8, 9, 10, 2, 6, 2, 6, 2, 1, 2, 3, 4, 5, 6, 7, 8, 9, 10, 3, 4, 1, 2, 3, 4, 5, 6, 8, 10, 1, 2, 3, 4, 9, 10, 5, 1, 2, 3, 4, 5, 6, 7, 8, 9, 10, 5, 1, 6, 1, 2, 3, 4, 5, 6, 7, 8, 9, 10, 1, 2, 3, 4, 5, 9, 10, 1, 2, 3, 4, 5, 6, 7, 8, 9, 10, 2, 7, 1, 2, 3, 4, 5, 6, 7, 9, 10, 1, 2, 3, 4, 5, 6, 7, 8, 9, 10, 1, 2, 5, 10, 6, 5, 6, 1, 2, 3, 4, 5, 6, 7, 8, 9, 10, 1, 2, 3, 4, 5, 6, 7, 8, 9, 10, 1, 2, 3, 4, 5, 6, 7, 8, 9, 10, 1, 7, 8, 9, 1, 10, 4, 8, 3, 4, 5, 1, 2, 3, 4, 5, 6, 7, 8, 9, 10, 3, 5, 1, 2, 3, 4, 5, 6, 7, 8, 9, 10, 1, 2, 3, 4, 5, 7, 9, 2, 7, 8, 3, 2, 3, 4, 1, 2, 5, 2, 1, 2, 3, 5, 6, 9, 10, 1, 2, 3, 4, 5, 6, 7, 9, 10, 1, 9, 3, 9, 6, 2, 4, 1, 2, 3, 4, 5, 6, 7, 8, 9, 10, 1, 2, 3, 4, 5, 6, 7, 8, 9, 10, 1, 2, 4, 6, 7, 8, 10, 2, 6, 1, 2, 3, 4, 5, 6, 7, 8, 9, 10, 1, 2, 3, 4, 5, 6, 1, 2, 3, 5, 5, 1, 2, 3, 4, 5, 6, 7, 8, 9, 10, 1, 2, 3, 4, 5, 6, 7, 8, 9, 10, 1, 10, 1, 2, 3, 4, 5, 6, 7, 8, 9, 10, 1, 2, 3, 4, 5, 6, 7, 8, 9, 10, 2, 6, 1, 2, 3, 4, 5, 6, 8, 9, 10, 1, 8, 1, 2, 3, 4, 5, 6, 7, 8, 1, 2, 3, 4, 5, 6, 7, 8, 9, 10, 1, 2, 3, 4, 5, 6, 7, 8, 9, 10, 2, 3, 4, 5, 6, 7, 8, 10, 1, 2, 3, 4, 5, 6, 7, 8, 9, 10, 1, 7, 8, 1, 2, 3, 4, 5, 6, 7, 8, 9, 10, 1, 2, 3, 4, 5, 6, 7, 8, 9, 10, 1, 2, 3, 4, 5, 6, 8, 9, 10, 8, 1, 2, 3, 5, 6, 8, 1, 2, 3, 4, 5, 6, 8, 5, 8, 1, 7, 1, 2, 3, 4, 5, 6, 7, 8, 9, 10, 6, 9, 1, 2, 3, 4, 5, 6, 7, 8, 9, 10, 1, 2, 3, 4, 5, 6, 7, 8, 9, 10, 1, 2, 3, 4, 5, 6, 7, 8, 10, 8, 7, 6, 1, 2, 3, 4, 5, 6, 7, 8, 9, 10, 1, 2, 3, 4, 5, 6, 7, 8, 9, 10, 1, 2, 3, 4, 5, 6, 7, 8, 9, 10, 1, 2, 3, 4, 5, 9, 10, 2, 8, 1, 8, 3, 8, 3, 4, 7, 1, 2, 3, 4, 5, 6, 7, 8, 9, 10, 7, 1, 2, 3, 4, 5, 7, 9, 10, 6, 9, 4, 6, 1, 2, 3, 4, 5, 6, 7, 8, 9, 10, 1, 2, 3, 4, 5, 8, 2, 5, 8, 1, 2, 3, 5, 8, 10, 4, 1, 2, 3, 4, 5, 6, 7, 8, 9, 10, 1, 2, 3, 4, 5, 6, 7, 8, 9, 10, 1, 2, 3, 4, 5, 6, 7, 8, 9, 10, 1, 2, 3, 4, 5, 4, 1, 2, 3, 4, 5, 6, 7, 8, 9, 10, 2, 3, 5, 10, 5, 10, 2, 3, 5, 6, 2, 3, 4, 5, 6, 10, 2, 3, 4, 3, 6, 2, 4, 7, 8, 9, 1, 2, 3, 4, 5, 6, 7, 8, 9, 10, 3, 2, 6, 1, 2, 3, 4, 5, 6, 7, 8, 9, 10, 1, 2, 3, 4, 5, 7, 8, 9, 1, 2, 3, 4, 5, 6, 7, 8, 9, 10, 1, 2, 3, 4, 5, 6, 7, 8, 9, 10, 9, 1, 8, 9, 10, 1, 9, 10, 1, 2, 3, 4, 5, 6, 8, 9, 10, 1, 2, 3, 4, 5, 6, 7, 8, 9, 10, 1, 2, 4, 6, 7, 8, 10, 1, 2, 5, 6, 8, 10, 2, 5, 8, 10, 2, 2, 8, 9, 1, 2, 3, 4, 5, 1, 2, 3, 4, 5, 6, 7, 8, 9, 10, 4, 7, 1, 2, 3, 4, 5, 6, 7, 8, 10, 1, 6, 1, 2, 3, 4, 5, 6, 7, 8, 9, 10, 1, 2, 3, 4, 5, 6, 9, 10, 7, 1, 2, 3, 4, 5, 6, 7, 8, 9, 10, 2, 9, 2, 3, 4, 5, 6, 7, 8, 2, 1, 2, 3, 4, 5, 6, 7, 8, 9, 10, 7, 2, 6, 3, 6, 1, 2, 3, 4, 5, 6, 7, 8, 9, 10, 6, 6, 1, 2, 3, 5, 6, 7, 9, 10, 1, 2, 3, 4, 7, 9, 10, 1, 2, 4, 7, 9, 10, 10, 2, 2, 1, 2, 3, 4, 5, 6, 7, 8, 9, 10, 2, 6, 1, 2, 3, 4, 5, 7, 8, 9, 8, 9, 4, 6, 1, 2, 3, 4, 5, 7, 8, 9, 4, 2, 10, 5, 6, 1, 4, 7, 8, 9, 10, 1, 3, 4, 5, 10, 1, 2, 4, 5, 6, 8, 10, 4, 1, 2, 5, 6, 2, 6, 1, 2, 3, 5, 6, 10, 6, 6, 1, 4, 7, 8, 9, 10, 4, 5, 4, 6, 1, 2, 3, 4, 5, 6, 7, 8, 10, 1, 2, 3, 4, 5, 1, 2, 3, 4, 5, 6, 8, 9, 10, 2, 2, 1, 5, 8, 1, 2, 4, 7, 8, 9, 2, 3, 4, 7, 5, 1, 2, 3, 4, 5, 6, 7, 8, 9, 10, 2, 6, 1, 2, 4, 5, 7, 8, 9, 4, 8, 1, 2, 3, 4, 5, 6, 7, 8, 9, 10, 1, 2, 3, 4, 5, 6, 7, 8, 9, 10, 1, 2, 3, 4, 5, 6, 7, 8, 9, 10, 1, 2, 4, 5, 6, 7, 8, 9, 10, 1, 2, 2, 6, 10, 2, 5, 6, 2, 3, 2, 5, 2, 4, 5, 6, 8, 2, 4, 5, 6, 8, 10, 1, 2, 5, 2, 4, 1, 2, 3, 4, 5, 6, 7, 8, 9, 10, 1, 2, 3, 4, 5, 6, 7, 8, 9, 10, 9, 1, 2, 3, 4, 5, 6, 7, 8, 9, 10, 1, 2, 5, 6, 1, 2, 3, 4, 5, 7, 9, 10, 1, 2, 3, 4, 5, 6, 7, 8, 9, 10, 2, 7, 1, 2, 3, 4, 5, 6, 7, 8, 9, 10, 5, 1, 2, 3, 4, 6, 7, 8, 10, 1, 2, 7, 4, 7, 8, 1, 2, 5, 6, 10, 1, 10, 1, 2, 3, 10, 1, 2, 3, 4, 5, 6, 7, 8, 9, 10, 2, 3, 4, 10, 2, 8, 3, 4, 1, 2, 5, 5, 5, 2, 6, 3, 1, 2, 3, 4, 7, 9, 10, 1, 2, 6, 1, 2, 3, 4, 5, 6, 7, 8, 9, 10, 1, 2, 3, 4, 5, 6, 7, 8, 9, 10, 3, 4, 5, 6, 10, 1, 2, 3, 4, 5, 6, 10, 1, 2, 3, 4, 5, 6, 7, 8, 9, 10, 2, 6, 5, 2, 6, 1, 2, 3, 4, 5, 6, 7, 8, 9, 10, 1, 2, 3, 4, 5, 6, 7, 8, 9, 10, 4, 3, 4, 1, 2, 3, 4, 5, 6, 7, 8, 9, 10, 2, 1, 2, 3, 4, 5, 6, 7, 8, 9, 10, 10, 9, 1, 2, 3, 4, 5, 6, 8, 9, 10, 1, 2, 3, 4, 5, 6, 7, 8, 9, 10, 7, 10, 2, 6, 3, 5, 1, 2, 3, 4, 7, 8, 9, 1, 2, 3, 4, 7, 8, 9, 10, 2, 9, 10, 2, 6, 1, 2, 3, 4, 5, 6, 7, 8, 9, 10, 2, 6, 1, 2, 3, 4, 5, 6, 7, 8, 9, 10, 1, 2, 3, 4, 5, 6, 8, 9, 10, 10, 1, 2, 3, 4, 5, 6, 7, 8, 9, 10, 1, 2, 3, 4, 5, 6, 7, 8, 9, 10, 1, 2, 3, 4, 5, 6, 7, 8, 9, 10, 4, 1, 2, 4, 5, 8, 3, 6, 8, 1, 2, 3, 4, 5, 6, 7, 8, 9, 10, 1, 2, 3, 4, 5, 6, 7, 8, 9, 10, 1, 2, 3, 4, 5, 6, 7, 8, 9, 10, 1, 2, 4, 7, 8, 1, 2, 3, 4, 5, 6, 7, 8, 9, 10, 1, 2, 3, 4, 5, 6, 7, 8, 9, 10, 1, 8, 4, 7, 4, 1, 2, 3, 4, 5, 6, 7, 8, 9, 10, 1, 2, 3, 4, 5, 6, 7, 8, 9, 10, 1, 2, 3, 6, 10, 1, 2, 3, 4, 5, 6, 7, 8, 9, 10, 1, 2, 3, 10, 1, 2, 3, 4, 5, 7, 8, 9, 10, 2, 3, 4, 5, 7, 8, 10, 1, 9, 1, 2, 3, 4, 5, 6, 7, 8, 9, 10, 3, 7, 1, 3, 1, 2, 3, 4, 10, 1, 2, 3, 4, 5, 6, 7, 8, 9, 10, 1, 2, 3, 4, 5, 6, 7, 8, 9, 10, 4, 2, 4, 9, 1, 2, 3, 4, 5, 7, 8, 9, 10, 4, 10, 1, 2, 3, 4, 5, 6, 7, 8, 9, 10, 4, 9, 10, 1, 2, 3, 4, 5, 6, 7, 8, 9, 10, 1, 2, 3, 4, 5, 6, 7, 8, 9, 10, 1, 2, 3, 4, 5, 6, 7, 9, 10, 1, 3, 2, 3, 4, 5, 6, 7, 8, 10, 1, 2, 4, 1, 2, 3, 4, 5, 6, 7, 8, 1, 2, 3, 4, 5, 6, 7, 8, 9, 10, 1, 2, 3, 4, 5, 6, 7, 8, 9, 10, 2, 6, 2, 6, 1, 2, 3, 4, 5, 6, 7, 8, 9, 10, 3, 1, 3, 1, 2, 3, 3, 1, 3, 5, 10, 3, 5, 1, 2, 3, 4, 5, 6, 7, 8, 9, 10, 1, 5, 1, 3, 4, 7, 8, 9, 10, 1, 2, 3, 4, 5, 6, 7, 8, 9, 10, 2, 3, 4, 3, 4, 1, 2, 3, 4, 5, 6, 7, 8, 9, 10, 3, 1, 2, 5, 6, 1, 5, 7, 9, 2, 6, 2, 5, 6, 8, 10, 1, 2, 5, 6, 7, 8, 10, 1, 2, 3, 4, 5, 6, 7, 8, 9, 10, 3, 1, 2, 3, 4, 5, 6, 7, 8, 9, 10, 1, 2, 3, 4, 5, 6, 7, 8, 9, 10, 1, 2, 3, 4, 5, 6, 7, 8, 9, 10, 6, 1, 2, 3, 4, 5, 6, 8, 9, 10, 10, 1, 2, 3, 4, 5, 6, 7, 8, 9, 10, 1, 2, 3, 4, 5, 6, 7, 8, 9, 10, 3, 5, 2, 6, 3, 5, 8, 1, 2, 3, 4, 5, 6, 7, 8, 9, 10, 2, 5, 10, 1, 2, 3, 4, 5, 6, 7, 8, 9, 10, 1, 10, 1, 2, 3, 4, 5, 6, 7, 8, 9, 10, 4, 1, 2, 3, 4, 5, 6, 7, 8, 9, 10, 1, 2, 3, 4, 5, 6, 7, 8, 9, 10, 5, 1, 3, 7, 2, 6, 1, 2, 3, 4, 5, 6, 7, 8, 9, 10, 8, 1, 2, 3, 4, 5, 6, 7, 8, 9, 10, 1, 2, 3, 4, 5, 6, 7, 8, 9, 10, 1, 2, 3, 4, 5, 6, 7, 8, 9, 10, 1, 2, 6, 10, 1, 2, 3, 5, 6, 1, 1, 1, 5, 6, 1, 2, 3, 4, 5, 6, 7, 8, 9, 10, 10, 1, 2, 3, 4, 5, 6, 7, 8, 9, 10, 1, 3, 4, 5, 9, 10, 1, 2, 3, 4, 5, 6, 7, 8, 9, 10, 1, 2, 3, 4, 5, 6, 8, 10, 1, 6, 9, 5, 1, 2, 3, 4, 5, 6, 7, 8, 9, 10, 1, 2, 3, 4, 5, 6, 7, 8, 9, 10, 2, 1, 2, 3, 4, 5, 6, 7, 8, 9, 10, 2, 10, 4, 4, 1, 2, 3, 4, 5, 6, 7, 8, 9, 10, 5, 1, 3, 1, 2, 3, 4, 7, 9, 10, 4, 4, 8, 1, 2, 2, 4, 1, 2, 3, 4, 5, 6, 10, 1, 2, 3, 4, 5, 6, 7, 9, 10, 1, 2, 3, 4, 5, 6, 7, 8, 9, 10, 1, 2, 3, 4, 5, 6, 7, 8, 9, 10, 1, 1, 2, 5, 10, 1, 5, 7, 9, 7, 1, 2, 3, 4, 5, 6, 7, 8, 9, 10, 1, 2, 3, 4, 5, 6, 7, 8, 9, 10, 1, 2, 3, 4, 5, 6, 7, 8, 9, 10, 5, 1, 4, 7, 1, 2, 3, 4, 5, 6, 7, 8, 9, 10, 1, 2, 3, 4, 5, 6, 7, 8, 9, 10, 5, 7, 9, 10, 2, 6, 1, 2, 3, 4, 5, 6, 7, 8, 9, 10, 9, 1, 2, 3, 6, 1, 2, 3, 4, 5, 6, 7, 8, 9, 10, 1, 3, 1, 2, 3, 4, 5, 6, 7, 8, 9, 10, 1, 2, 3, 4, 5, 6, 7, 8, 9, 10, 1, 2, 3, 4, 5, 6, 8, 10, 4, 9, 2, 5, 7, 7, 8, 7, 7, 8, 4, 7, 8, 2, 1, 2, 3, 4, 5, 6, 7, 8, 10, 1, 2, 3, 4, 5, 6, 7, 8, 9, 10, 1, 6, 8, 1, 2, 3, 4, 5, 9, 10, 1, 2, 3, 4, 5, 6, 10, 1, 2, 3, 4, 5, 6, 8, 10, 1, 2, 3, 4, 5, 6, 7, 8, 9, 10, 5, 7, 8, 4, 9, 1, 2, 3, 4, 5, 6, 7, 8, 9, 10, 4, 2, 5, 8, 10, 3, 4, 8, 10, 1, 2, 3, 4, 5, 6, 7, 8, 9, 10, 5, 6, 8, 1, 2, 3, 4, 5, 6, 7, 8, 9, 10, 2, 10, 4, 1, 7, 8, 10, 1, 2, 4, 5, 8, 1, 2, 5, 2, 3, 1, 2, 3, 4, 5, 6, 7, 8, 9, 10, 1, 2, 2, 4, 7, 1, 2, 3, 4, 5, 6, 7, 8, 9, 10, 2, 10, 3, 5, 1, 5, 8, 10, 1, 2, 3, 4, 5, 6, 8, 9, 10, 9, 1, 2, 3, 4, 5, 6, 8, 9, 10, 1, 2, 3, 4, 5, 6, 7, 8, 9, 10, 4, 1, 2, 3, 4, 5, 6, 7, 8, 9, 10, 4, 2, 2, 1, 2, 3, 4, 5, 6, 7, 8, 9, 10, 5, 1, 2, 3, 4, 5, 6, 7, 8, 9, 10, 1, 2, 3, 4, 5, 6, 7, 8, 9, 10, 1, 2, 4, 5, 6, 8, 2, 6, 2, 1, 2, 3, 5, 6, 7, 10, 1, 2, 3, 4, 5, 6, 7, 8, 9, 10, 2, 6, 1, 2, 3, 4, 5, 6, 7, 8, 9, 10, 8, 1, 2, 3, 4, 5, 6, 7, 8, 9, 10, 2, 9, 1, 2, 3, 4, 5, 6, 7, 8, 9, 10, 10, 2, 6, 1, 2, 4, 5, 6, 7, 8, 9, 10, 5, 9, 1, 2, 3, 4, 5, 6, 7, 8, 9, 10, 1, 2, 3, 4, 5, 6, 7, 8, 9, 10, 2, 3, 4, 7, 1, 2, 3, 4, 5, 6, 7, 8, 9, 10, 2, 3, 4, 6, 7, 8, 1, 2, 3, 4, 5, 6, 7, 8, 9, 10, 1, 2, 4, 8, 1, 2, 3, 4, 5, 6, 7, 8, 9, 10, 1, 2, 3, 4, 5, 6, 7, 8, 9, 10, 1, 2, 3, 4, 5, 6, 7, 8, 9, 7, 7, 2, 6, 10, 1, 3, 4, 5, 7, 8, 9, 1, 2, 3, 4, 5, 6, 7, 8, 9, 10, 1, 2, 3, 4, 5, 6, 8, 9, 10, 6, 1, 2, 3, 4, 5, 6, 7, 8, 9, 10, 1, 2, 10, 4, 8, 2, 3, 1, 2, 3, 4, 5, 6, 9, 10, 1, 2, 3, 4, 5, 6, 7, 8, 9, 10, 5, 1, 2, 3, 4, 5, 6, 7, 8, 10, 3, 6, 10, 10, 1, 2, 4, 5, 6, 7, 8, 10, 2, 4, 8, 1, 2, 3, 4, 5, 6, 7, 8, 9, 10, 1, 2, 3, 4, 5, 6, 7, 8, 9, 10, 1, 4, 5, 7, 8, 9, 10, 1, 2, 3, 4, 5, 6, 1, 2, 3, 8, 10, 2, 4, 5, 6, 8, 10, 1, 5, 2, 6, 9, 1, 2, 3, 4, 5, 6, 7, 9, 10, 7, 8, 9, 4, 6, 1, 2, 6, 1, 2, 6, 8, 1, 2, 8, 1, 3, 4, 5, 7, 8, 9, 4, 7, 4, 7, 1, 2, 3, 4, 5, 6, 7, 8, 9, 10, 1, 2, 3, 4, 5, 6, 7, 8, 9, 10, 1, 5, 6, 8, 5, 4, 7, 4, 1, 2, 3, 4, 5, 6, 7, 8, 9, 1, 2, 3, 4, 7, 8, 9, 10, 2, 1, 2, 4, 5, 6, 8, 10, 8, 1, 2, 3, 4, 5, 6, 7, 8, 9, 10, 1, 2, 4, 7, 8, 9, 1, 2, 3, 4, 5, 6, 7, 8, 9, 1, 2, 3, 4, 5, 6, 7, 8, 9, 10, 1, 2, 3, 4, 5, 6, 7, 9, 10, 1, 2, 3, 4, 5, 6, 7, 8, 9, 10, 1, 2, 3, 5, 9, 10, 1, 2, 3, 4, 5, 6, 7, 10, 1, 2, 3, 4, 5, 6, 10, 2, 3, 1, 1, 2, 10, 1, 2, 3, 4, 5, 6, 7, 8, 9, 10, 1, 5, 4, 7, 1, 2, 3, 4, 5, 6, 7, 8, 9, 10, 3, 1, 8, 2, 4, 1, 2, 3, 4, 5, 6, 7, 8, 9, 10, 1, 2, 3, 5, 10], \"Freq\": [0.9487618207931519, 0.9060227274894714, 0.05333520099520683, 0.08889199793338776, 0.03555680066347122, 0.03555680066347122, 0.005926133133471012, 0.07111360132694244, 0.711135983467102, 0.036227256059646606, 0.05635350942611694, 0.10868176817893982, 0.024151504039764404, 0.04427775740623474, 0.008050501346588135, 0.020126253366470337, 0.7003936171531677, 0.3040556311607361, 0.01819385029375553, 0.04599405452609062, 0.10086671262979507, 0.03143897280097008, 0.06273239850997925, 0.15370164811611176, 0.2030433714389801, 0.0721931979060173, 0.007714192848652601, 0.0074846576899290085, 0.011226986534893513, 0.03742329031229019, 0.0074846576899290085, 0.0037423288449645042, 0.819570004940033, 0.07858890295028687, 0.029938630759716034, 0.9873881936073303, 0.9671990871429443, 0.12061938643455505, 0.05540819838643074, 0.16451972723007202, 0.11166883260011673, 0.014491375535726547, 0.049867380410432816, 0.1248815581202507, 0.03963817283511162, 0.308154821395874, 0.010655422694981098, 0.053751781582832336, 0.9406561851501465, 0.7519224882125854, 0.04887174069881439, 0.19717219471931458, 0.1011139452457428, 0.028648952022194862, 0.5224220752716064, 0.04550127685070038, 0.0033704647794365883, 0.0033704647794365883, 0.0016852323897182941, 0.04887174069881439, 0.022705165669322014, 0.9717810750007629, 0.012439639307558537, 0.17415495216846466, 0.012439639307558537, 0.7961369156837463, 0.02300507389008999, 0.020173680037260056, 0.1383843719959259, 0.3096836805343628, 0.02548254281282425, 0.013803044334053993, 0.16634438931941986, 0.21730947494506836, 0.06830737739801407, 0.017696211114525795, 0.9905144572257996, 0.15971145033836365, 0.007486474234610796, 0.022459421306848526, 0.053653065115213394, 0.007486474234610796, 0.011229710653424263, 0.046166591346263885, 0.0611395388841629, 0.6288638114929199, 0.002495491411536932, 0.022595733404159546, 0.9716165661811829, 0.025012267753481865, 0.039081670343875885, 0.034391868859529495, 0.7269190549850464, 0.004689800087362528, 0.015632666647434235, 0.1328776776790619, 0.020322468131780624, 0.0015632667345926166, 0.008837684988975525, 0.03976958245038986, 0.0353507399559021, 0.7732974290847778, 0.0044188424944877625, 0.11488990485668182, 0.022094212472438812, 0.9812951683998108, 0.00915586855262518, 0.03433450683951378, 0.002288967138156295, 0.002288967138156295, 0.947632372379303, 0.9896911978721619, 0.9736520648002625, 0.9588973522186279, 0.4847062826156616, 0.3872234523296356, 0.016247138381004333, 0.020308922976255417, 0.008800533600151539, 0.03655606135725975, 0.001353928237222135, 0.03452516719698906, 0.00676964083686471, 0.0020308922976255417, 0.9977962970733643, 0.174722358584404, 0.07916121929883957, 0.0719074010848999, 0.15674550831317902, 0.16746854782104492, 0.17976850271224976, 0.019553765654563904, 0.10376111418008804, 0.004730749875307083, 0.04163059964776039, 0.030439799651503563, 0.07305552065372467, 0.006087959744036198, 0.8888421654701233, 0.11155668646097183, 0.8701421618461609, 0.16846011579036713, 0.16515697538852692, 0.3658227026462555, 0.04046345874667168, 0.06936593353748322, 0.08257848769426346, 0.03468296676874161, 0.014038342982530594, 0.046243954449892044, 0.013212557882070541, 0.010857456363737583, 0.041620250791311264, 0.05609685927629471, 0.07781177014112473, 0.012667032890021801, 0.0018095761770382524, 0.00904788076877594, 0.05609685927629471, 0.729259192943573, 0.8769482374191284, 0.04366547241806984, 0.02183273620903492, 0.003638789290562272, 0.025471525266766548, 0.003638789290562272, 0.014555157162249088, 0.01091636810451746, 0.1606413871049881, 0.4260489046573639, 0.01396881602704525, 0.03928729519248009, 0.13794206082820892, 0.009603560902178288, 0.0488908551633358, 0.005238306242972612, 0.15016476809978485, 0.007857458665966988, 0.19217891991138458, 0.15884707868099213, 0.015103492885828018, 0.010416201315820217, 0.19061648845672607, 0.22394834458827972, 0.009895391762256622, 0.029686175286769867, 0.15311816334724426, 0.016665922477841377, 0.9761646389961243, 0.02169254794716835, 0.9854412078857422, 0.014077731408178806, 0.9871988892555237, 0.22183160483837128, 0.44580650329589844, 0.015003103762865067, 0.0021433006040751934, 0.15003103017807007, 0.02036135457456112, 0.006429901346564293, 0.035364460200071335, 0.06537066400051117, 0.03857940807938576, 0.06259632855653763, 0.9232958555221558, 0.060021545737981796, 0.04236815124750137, 0.4872337281703949, 0.060021545737981796, 0.20654472708702087, 0.04589882865548134, 0.051194846630096436, 0.04589882865548134, 0.01610591448843479, 0.01610591448843479, 0.8589821457862854, 0.021474553272128105, 0.05905502289533615, 0.021474553272128105, 0.9393810629844666, 0.16591587662696838, 0.12145686149597168, 0.2673983871936798, 0.10019385814666748, 0.0786086842417717, 0.05992301553487778, 0.0892401859164238, 0.03801567479968071, 0.05154667794704437, 0.027706339955329895, 0.959830641746521, 0.9960646629333496, 0.9653146862983704, 0.1612442284822464, 0.11326152086257935, 0.14952751994132996, 0.2666946053504944, 0.05746766924858093, 0.05244622379541397, 0.06695262342691422, 0.05690972879528999, 0.060257360339164734, 0.015622278675436974, 0.029069233685731888, 0.04198889434337616, 0.025839319452643394, 0.01937948912382126, 0.8785368204116821, 0.0032299149315804243, 0.0032299149315804243, 0.027743306010961533, 0.4047258794307709, 0.1713557094335556, 0.22602634131908417, 0.01795154996216297, 0.03998300060629845, 0.04243093729019165, 0.04895877465605736, 0.0024479387793689966, 0.01795154996216297, 0.1272282600402832, 0.8269837498664856, 0.20196415483951569, 0.02975364960730076, 0.02975364960730076, 0.05590079352259636, 0.008114631287753582, 0.014426011592149734, 0.05770404636859894, 0.5959746241569519, 0.006311379838734865, 0.1539018452167511, 0.010541222989559174, 0.046381380409002304, 0.007378855720162392, 0.12016993761062622, 0.1401982605457306, 0.009487100876867771, 0.10014161467552185, 0.062193214893341064, 0.3499685823917389, 0.03804788365960121, 0.03804788365960121, 0.025365255773067474, 0.9004665613174438, 0.9912508726119995, 0.03637772798538208, 0.9458209276199341, 0.2894616425037384, 0.03359822556376457, 0.03844412416219711, 0.06590420752763748, 0.12890088558197021, 0.11145564913749695, 0.016799112781882286, 0.2755700647830963, 0.005492017604410648, 0.034890465438365936, 0.549192488193512, 0.1965530961751938, 0.035379558801651, 0.019192831590771675, 0.026361238211393356, 0.07445893436670303, 0.00739964609965682, 0.038154423236846924, 0.03052353858947754, 0.023586371913552284, 0.002665272681042552, 0.14445777237415314, 0.030384108424186707, 0.02825189009308815, 0.03731381520628929, 0.036780763417482376, 0.20895737409591675, 0.502670407295227, 0.0037313816137611866, 0.004797490779310465, 0.9628300070762634, 0.022466033697128296, 0.009628299623727798, 0.0032094332855194807, 0.994044303894043, 0.9760887622833252, 0.8977974653244019, 0.04987763985991478, 0.9377657771110535, 0.034732066094875336, 0.034732066094875336, 0.01175879966467619, 0.00814070738852024, 0.05065329000353813, 0.15105535089969635, 0.0009045230108313262, 0.002713568974286318, 0.4287438988685608, 0.0687437504529953, 0.27226144075393677, 0.003618092043325305, 0.8882721662521362, 0.9803972840309143, 0.1937907338142395, 0.0231335312128067, 0.24840103089809418, 0.22071664035320282, 0.06712516397237778, 0.11035832017660141, 0.007964002899825573, 0.06295354664325714, 0.025029722601175308, 0.04057849198579788, 0.031066913157701492, 0.006903758738189936, 0.19675712287425995, 0.04487442970275879, 0.010355638340115547, 0.13807517290115356, 0.566108226776123, 0.21447421610355377, 0.07149140536785126, 0.7006157636642456, 0.9856396317481995, 0.08323401212692261, 0.01664680242538452, 0.8906039595603943, 0.9788447022438049, 0.013786545023322105, 0.004595514852553606, 0.9740980267524719, 0.852016806602478, 0.08645669370889664, 0.016733553260564804, 0.006972314324229956, 0.018128016963601112, 0.004183388315141201, 0.015339091420173645, 0.06773903965950012, 0.07540761679410934, 0.0076685706153512, 0.03578666225075722, 0.0153371412307024, 0.0076685706153512, 0.008946665562689304, 0.7706913948059082, 0.011502856388688087, 0.13581731915473938, 0.8420674204826355, 0.06572988629341125, 0.9202184081077576, 0.986432671546936, 0.9891194105148315, 0.975386381149292, 0.037442080676555634, 0.029733415693044662, 0.03138527274131775, 0.15637575089931488, 0.018721040338277817, 0.04129641130566597, 0.2653982639312744, 0.26209455728530884, 0.1371040791273117, 0.020923515781760216, 0.017770592123270035, 0.00721930293366313, 0.0049979789182543755, 0.14882870018482208, 0.011106619611382484, 0.021102577447891235, 0.262671560049057, 0.36318644881248474, 0.15105003118515015, 0.011661950498819351, 0.07720154523849487, 0.7223858833312988, 0.10477352887392044, 0.019300386309623718, 0.011028791777789593, 0.013785989955067635, 0.05238676443696022, 0.8192064166069031, 0.18001669645309448, 0.17813096940517426, 0.06902575492858887, 0.4822525084018707, 0.03673951327800751, 0.06253139674663544, 0.07774674892425537, 0.012617610394954681, 0.025420773774385452, 0.03191513195633888, 0.023379690945148468, 0.022586584091186523, 0.004517316818237305, 0.9305672645568848, 0.027103900909423828, 0.004517316818237305, 0.004517316818237305, 0.024021266028285027, 0.012010633014142513, 0.924818754196167, 0.024021266028285027, 0.9604367017745972, 0.533272922039032, 0.09578650444746017, 0.06447168439626694, 0.07183987647294998, 0.03776198625564575, 0.11512801051139832, 0.003684096271172166, 0.04973530024290085, 0.0027630722615867853, 0.026709698140621185, 0.5517393350601196, 0.020503826439380646, 0.04846359044313431, 0.0894712433218956, 0.03541570156812668, 0.009319921024143696, 0.01770785078406334, 0.11929498612880707, 0.06989941000938416, 0.03727968409657478, 0.9773843884468079, 0.013207896612584591, 0.034234486520290375, 0.011587057262659073, 0.02844095788896084, 0.0015800532419234514, 0.04318812116980553, 0.014747164212167263, 0.0010533687891438603, 0.035814542323350906, 0.034234486520290375, 0.7952934503555298, 0.6912540197372437, 0.008853028528392315, 0.050486188381910324, 0.0260805431753397, 0.028951795771718025, 0.01076719630509615, 0.008613756857812405, 0.07752381265163422, 0.09283716231584549, 0.004546149633824825, 0.3035573959350586, 0.6945804953575134, 0.620591402053833, 0.11174985021352768, 0.0726916491985321, 0.014104349538683891, 0.03471839800477028, 0.0900508463382721, 0.010849500074982643, 0.0032548499293625355, 0.040143150836229324, 0.9810644388198853, 0.9879315495491028, 0.018308022990822792, 0.0386502705514431, 0.333612859249115, 0.5553433299064636, 0.01220534835010767, 0.006102674175053835, 0.026444921270012856, 0.008136899210512638, 0.04323898255825043, 0.019217325374484062, 0.8359536528587341, 0.04644187167286873, 0.012811550870537758, 0.012811550870537758, 0.0032028877176344395, 0.0016014438588172197, 0.01761588267982006, 0.0048043313436210155, 0.028350001201033592, 0.06825000047683716, 0.037800002843141556, 0.26669999957084656, 0.018900001421570778, 0.04725000262260437, 0.44520002603530884, 0.022050000727176666, 0.05460000038146973, 0.009450000710785389, 0.17462195456027985, 0.004895942751318216, 0.04895942658185959, 0.017951790243387222, 0.03263961896300316, 0.04895942658185959, 0.6707441806793213, 0.0032639617566019297, 0.5057553052902222, 0.03166044130921364, 0.04086091369390488, 0.07198015600442886, 0.0779334008693695, 0.11094684898853302, 0.01731853373348713, 0.0844278484582901, 0.014071308076381683, 0.04519054666161537, 0.9727884531021118, 0.20929649472236633, 0.7674204707145691, 0.6287134885787964, 0.22450457513332367, 0.004530361387878656, 0.0015101204626262188, 0.013591084629297256, 0.06090819463133812, 0.0050337351858615875, 0.03674626722931862, 0.01963156647980213, 0.0050337351858615875, 0.517907440662384, 0.06185466796159744, 0.06820730865001678, 0.04714328795671463, 0.03677845001220703, 0.1384207159280777, 0.00902743823826313, 0.029422760009765625, 0.05617072433233261, 0.0347723551094532, 0.8436663746833801, 0.018241435289382935, 0.022801794111728668, 0.0060804784297943115, 0.04256334900856018, 0.03648287057876587, 0.0060804784297943115, 0.02128167450428009, 0.0030402392148971558, 0.9815632700920105, 0.849466860294342, 0.11734376847743988, 0.003826427273452282, 0.006377378944307566, 0.012754757888615131, 0.007652854546904564, 0.9097164869308472, 0.028348105028271675, 0.011596952565014362, 0.003865650622174144, 0.014174052514135838, 0.0025771004147827625, 0.029636655002832413, 0.06549138575792313, 0.9277946949005127, 0.9817154407501221, 0.9434574842453003, 0.2409469187259674, 0.10613137483596802, 0.12190766632556915, 0.2591135501861572, 0.03489905595779419, 0.061192866414785385, 0.07744722068309784, 0.03967975080013275, 0.016254356130957603, 0.042070094496011734, 0.09548907727003098, 0.8832740187644958, 0.4124780595302582, 0.16605113446712494, 0.034446775913238525, 0.03665490448474884, 0.0454874113202095, 0.04902041330933571, 0.017665013670921326, 0.21242178976535797, 0.01192388404160738, 0.014132010750472546, 0.4016413986682892, 0.04016414284706116, 0.025912348181009293, 0.04534661024808884, 0.023321114480495453, 0.025912348181009293, 0.015547409653663635, 0.39905017614364624, 0.015547409653663635, 0.006478087045252323, 0.22080141305923462, 0.6076455116271973, 0.003532822709530592, 0.008832056075334549, 0.019430523738265038, 0.09715262055397034, 0.003532822709530592, 0.030028991401195526, 0.005299233831465244, 0.9597902297973633, 0.9838242530822754, 0.9980343580245972, 0.03565721958875656, 0.024337466806173325, 0.23997874557971954, 0.5501399636268616, 0.029997343197464943, 0.040185119956731796, 0.013583702966570854, 0.036789193749427795, 0.009055801667273045, 0.01980956643819809, 0.01867842487990856, 0.006144218612462282, 0.18162310123443604, 0.442383736371994, 0.0243311058729887, 0.015237662009894848, 0.08380714058876038, 0.17916540801525116, 0.028017636388540268, 0.020398804917931557, 0.005609927698969841, 0.007479903753846884, 0.3786701261997223, 0.5030235052108765, 0.019634747877717018, 0.02337469905614853, 0.02898462675511837, 0.028049638494849205, 0.0009349879692308605, 0.003739951876923442, 0.03030596859753132, 0.020203979685902596, 0.022729476913809776, 0.010101989842951298, 0.8990770578384399, 0.005050994921475649, 0.010101989842951298, 0.2073572725057602, 0.7464861273765564, 0.9659123420715332, 0.030184760689735413, 0.9041357040405273, 0.05650848150253296, 0.11347165703773499, 0.8510374426841736, 0.034041497856378555, 0.08122687041759491, 0.07886312901973724, 0.18351256847381592, 0.20156298577785492, 0.058663852512836456, 0.08359061926603317, 0.09218605607748032, 0.07778869569301605, 0.10056660324335098, 0.042117636650800705, 0.9730280041694641, 0.2577373683452606, 0.03681962192058563, 0.024546414613723755, 0.006136603653430939, 0.012273207306861877, 0.012273207306861877, 0.6382067799568176, 0.006136603653430939, 0.1391681730747223, 0.8548902273178101, 0.037140779197216034, 0.9285194873809814, 0.14637526869773865, 0.07571134716272354, 0.04710928350687027, 0.1480577439069748, 0.03869691118597984, 0.016824744641780853, 0.06056908145546913, 0.008412372320890427, 0.44417324662208557, 0.015142270363867283, 0.011005391366779804, 0.02934771217405796, 0.01467385608702898, 0.003668464021757245, 0.8840997815132141, 0.055026959627866745, 0.030758364126086235, 0.9381300806999207, 0.030758364126086235, 0.0165263582020998, 0.0330527164041996, 0.07436861842870712, 0.8676338791847229, 0.00413158955052495, 0.9732035398483276, 0.9494251608848572, 0.15508601069450378, 0.09806909412145615, 0.022236596792936325, 0.1653490513563156, 0.038771502673625946, 0.03021896444261074, 0.2959177792072296, 0.06727995723485947, 0.07868334650993347, 0.04789420962333679, 0.150075763463974, 0.0943775475025177, 0.2280532866716385, 0.1308908313512802, 0.057554829865694046, 0.06033974140882492, 0.07704921066761017, 0.08014355599880219, 0.09468697756528854, 0.02661137282848358, 0.04667821526527405, 0.11410229653120041, 0.04206801950931549, 0.48464664816856384, 0.032847631722688675, 0.026508614420890808, 0.12505151331424713, 0.014983130618929863, 0.0051864683628082275, 0.10718701034784317, 0.044175948947668076, 0.9024515748023987, 0.01893254928290844, 0.012621699832379818, 0.012621699832379818, 0.9957717657089233, 0.09885699301958084, 0.07002370059490204, 0.033540766686201096, 0.04413258656859398, 0.047074757516384125, 0.1629963517189026, 0.11592159420251846, 0.3189314901828766, 0.09414951503276825, 0.014122427441179752, 0.03070603497326374, 0.08597689867019653, 0.8290629386901855, 0.05527086183428764, 0.9821308255195618, 0.9852482676506042, 0.9903889298439026, 0.023862171918153763, 0.047724343836307526, 0.9306247234344482, 0.06498699635267258, 0.06498699635267258, 0.06065453216433525, 0.004332466516643763, 0.6238752007484436, 0.18196359276771545, 0.02212982252240181, 0.9515823721885681, 0.02212982252240181, 0.9649459719657898, 0.02539331465959549, 0.01504545658826828, 0.0752272829413414, 0.7560341954231262, 0.12412501871585846, 0.03009091317653656, 0.01317200344055891, 0.009735828265547752, 0.05497879907488823, 0.33445435762405396, 0.0103085245937109, 0.01431739516556263, 0.21533362567424774, 0.23136910796165466, 0.1128210723400116, 0.00400887057185173, 0.9668360948562622, 0.06512623280286789, 0.9117672443389893, 0.5553625226020813, 0.07815335690975189, 0.049733955413103104, 0.011249346658587456, 0.07519300282001495, 0.1403208076953888, 0.00888106320053339, 0.018946267664432526, 0.04026082158088684, 0.021906623616814613, 0.08305509388446808, 0.04152754694223404, 0.004152754787355661, 0.029069282114505768, 0.008305509574711323, 0.18272119760513306, 0.045680299401283264, 0.6063022017478943, 0.12160669267177582, 0.14614138007164001, 0.04444688931107521, 0.12445129454135895, 0.04942494258284569, 0.1383187174797058, 0.0856936052441597, 0.20161110162734985, 0.0736040472984314, 0.014223004691302776, 0.2513557970523834, 0.10321947932243347, 0.17490793764591217, 0.045809220522642136, 0.05562548339366913, 0.13058602809906006, 0.09459307044744492, 0.08537173271179199, 0.02171475999057293, 0.036885347217321396, 0.9540221095085144, 0.022757384926080704, 0.0032510547898709774, 0.006502109579741955, 0.9623122215270996, 0.002513936720788479, 0.02011149376630783, 0.9754074215888977, 0.733832597732544, 0.005688624922186136, 0.0819161981344223, 0.03982037678360939, 0.06940122693777084, 0.03982037678360939, 0.014790425077080727, 0.005688624922186136, 0.009101799689233303, 0.00878166127949953, 0.01540933083742857, 0.22070138156414032, 0.5401550531387329, 0.033138345927000046, 0.003645217977464199, 0.06859637796878815, 0.08665677160024643, 0.01540933083742857, 0.007456128019839525, 0.0024182514753192663, 0.9213537573814392, 0.007254754193127155, 0.03143726661801338, 0.0241825133562088, 0.009673005901277065, 0.0024182514753192663, 0.02786928042769432, 0.052254900336265564, 0.7942745089530945, 0.07315686345100403, 0.01393464021384716, 0.034836601465940475, 0.01042969897389412, 0.9532744884490967, 0.02085939794778824, 0.014601578935980797, 0.9803557991981506, 0.16782929003238678, 0.8111748695373535, 0.9608456492424011, 0.011850017122924328, 0.04740006849169731, 0.011850017122924328, 0.017775025218725204, 0.9124513268470764, 0.00853752437978983, 0.0017075048526749015, 0.01252170279622078, 0.09049776196479797, 0.002845841459929943, 0.002845841459929943, 0.5856741666793823, 0.20945392549037933, 0.08366774022579193, 0.002276673214510083, 0.13988395035266876, 0.8393036723136902, 0.03556220978498459, 0.054279159754514694, 0.005615085829049349, 0.061765942722558975, 0.07112441956996918, 0.061765942722558975, 0.04866407439112663, 0.6607084274291992, 0.0018716951599344611, 0.024635471403598785, 0.9607833623886108, 0.2220035046339035, 0.3622162342071533, 0.026707187294960022, 0.035887785255908966, 0.10432495176792145, 0.030045585706830025, 0.03338398411870003, 0.06426417082548141, 0.09764815121889114, 0.024203388020396233, 0.8499444127082825, 0.04663838818669319, 0.008845211938023567, 0.01608220301568508, 0.00804110150784254, 0.019298642873764038, 0.0008041101391427219, 0.0514630489051342, 0.9477054476737976, 0.018907733261585236, 0.016544267535209656, 0.014180799946188927, 0.1276271939277649, 0.014180799946188927, 0.014180799946188927, 0.10162906348705292, 0.6759514808654785, 0.0023634666576981544, 0.011817333288490772, 0.03875197470188141, 0.9494233131408691, 0.12577007710933685, 0.02515401691198349, 0.05589781329035759, 0.0978211760520935, 0.013974453322589397, 0.015371899120509624, 0.665183961391449, 0.9739030003547668, 0.10692745447158813, 0.011324829421937466, 0.025283338502049446, 0.16960906982421875, 0.005794098600745201, 0.011588197201490402, 0.35660043358802795, 0.2054271250963211, 0.09375905245542526, 0.013431774452328682, 0.9596062898635864, 0.20262618362903595, 0.7952696681022644, 0.11619281023740768, 0.8714460730552673, 0.062494907528162, 0.3749694526195526, 0.042811471968889236, 0.11219558119773865, 0.037890613079071045, 0.05216110497713089, 0.22586742043495178, 0.03985895961523056, 0.0354301854968071, 0.016238834708929062, 0.9651662111282349, 0.9797195196151733, 0.16535435616970062, 0.09055119007825851, 0.10629922896623611, 0.05511811748147011, 0.015748033300042152, 0.007874016650021076, 0.011811025440692902, 0.5393701195716858, 0.09349009394645691, 0.012465345673263073, 0.024930691346526146, 0.018698018044233322, 0.056094054132699966, 0.7728514075279236, 0.012465345673263073, 0.11653203517198563, 0.010133220814168453, 0.015199830755591393, 0.08106576651334763, 0.7549248933792114, 0.020266441628336906, 0.9459709525108337, 0.9918501377105713, 0.9760956168174744, 0.16711418330669403, 0.11544071137905121, 0.05900303274393082, 0.05643768236041069, 0.1542874276638031, 0.21475636959075928, 0.03261658176779747, 0.12680155038833618, 0.027852362021803856, 0.04580980911850929, 0.9891102910041809, 0.9908958673477173, 0.005428807344287634, 0.008143211714923382, 0.005428807344287634, 0.01900082640349865, 0.9011820554733276, 0.016286423429846764, 0.021715229377150536, 0.02442963421344757, 0.985988199710846, 0.9463664293289185, 0.9169603586196899, 0.045848019421100616, 0.10118666291236877, 0.05059333145618439, 0.5818232893943787, 0.08172768354415894, 0.07199820131063461, 0.005837691947817802, 0.005837691947817802, 0.10118666291236877, 0.9508516192436218, 0.040889885276556015, 0.9404672980308533, 0.9575693011283875, 0.8807761669158936, 0.005259551573544741, 0.0084152827039361, 0.32994920015335083, 0.2366798222064972, 0.4190109372138977, 0.0007012735586613417, 0.08398649096488953, 0.2117920070886612, 0.675543487071991, 0.0036515863612294197, 0.021909518167376518, 0.03325071558356285, 0.7536829113960266, 0.030479824170470238, 0.016625357791781425, 0.07758500427007675, 0.05541786178946495, 0.030479824170470238, 0.9974389672279358, 0.003932929132133722, 0.10382932424545288, 0.0015731715830042958, 0.8904151320457458, 0.1161649227142334, 0.8712369203567505, 0.16749149560928345, 0.046525415033102036, 0.6885761022567749, 0.06513557583093643, 0.009305082261562347, 0.023262707516551018, 0.9708077907562256, 0.9340783357620239, 0.010576557368040085, 0.010019896551966667, 0.48262500762939453, 0.2443741410970688, 0.24994075298309326, 0.0016699826810508966, 0.865882396697998, 0.05411764979362488, 0.09577661007642746, 0.8859336376190186, 0.1594896912574768, 0.07317762076854706, 0.022516191005706787, 0.0037526984233409166, 0.25143080949783325, 0.43156030774116516, 0.0018763492116704583, 0.007505396846681833, 0.04878507927060127, 0.020858367905020714, 0.02607295848429203, 0.8812660574913025, 0.02607295848429203, 0.03650214150547981, 0.3423771858215332, 0.48643749952316284, 0.00748365418985486, 0.0006236378103494644, 0.03679463267326355, 0.06610561162233353, 0.019332772120833397, 0.0024945512413978577, 0.03804190829396248, 0.9840232729911804, 0.9930384755134583, 0.09973045438528061, 0.033243484795093536, 0.8310871124267578, 0.0018107971409335732, 0.0009053985704667866, 0.1457691639661789, 0.7605347633361816, 0.05975630506873131, 0.030783550813794136, 0.007641586009413004, 0.09360942989587784, 0.7488754391670227, 0.14901092648506165, 0.9976971745491028, 0.5333394408226013, 0.07855387032032013, 0.015159518457949162, 0.026873692870140076, 0.08682269603013992, 0.20775431394577026, 0.0006890690419822931, 0.0062016211450099945, 0.0006890690419822931, 0.04375588521361351, 0.910025954246521, 0.0868661180138588, 0.13032880425453186, 0.06516440212726593, 0.005430367309600115, 0.0597340390086174, 0.01086073461920023, 0.6299225687980652, 0.09774661064147949, 0.21134281158447266, 0.769891619682312, 0.07617603987455368, 0.13589030504226685, 0.06778375804424286, 0.12394744902849197, 0.02485404536128044, 0.021626247093081474, 0.24369876086711884, 0.16332659125328064, 0.12975747883319855, 0.012911192141473293, 0.09662982821464539, 0.10884738713502884, 0.06997331976890564, 0.03998475521802902, 0.1310611367225647, 0.05775575712323189, 0.012217564508318901, 0.041095443069934845, 0.021103065460920334, 0.4220612943172455, 0.10791169852018356, 0.17590230703353882, 0.09917896240949631, 0.12288210541009903, 0.16467450559139252, 0.07110944390296936, 0.04615876078605652, 0.05863410234451294, 0.033059652894735336, 0.12038704007863998, 0.08982068300247192, 0.18629474937915802, 0.009980075992643833, 0.05655376613140106, 0.013306768611073494, 0.0033266921527683735, 0.07318722456693649, 0.053227074444293976, 0.5123105645179749, 0.9688103795051575, 0.013455700129270554, 0.21441248059272766, 0.716589093208313, 0.06770920753479004, 0.06336759775876999, 0.9322078227996826, 0.0028163378592580557, 0.9754328727722168, 0.9905662536621094, 0.05925043672323227, 0.9381319284439087, 0.9072206616401672, 0.004382708575576544, 0.002191354287788272, 0.07450604438781738, 0.008765417151153088, 0.9128748178482056, 0.0027168893720954657, 0.0027168893720954657, 0.06611097604036331, 0.01539570651948452, 0.0009056297712959349, 0.003225513966754079, 0.08708887547254562, 0.9095949530601501, 0.04162116348743439, 0.9468815326690674, 0.33565425872802734, 0.07815872877836227, 0.055674709379673004, 0.06477538496255875, 0.016595346853137016, 0.009100673720240593, 0.07387606054544449, 0.010171341709792614, 0.3463609516620636, 0.010171341709792614, 0.24750074744224548, 0.05711555853486061, 0.021576987579464912, 0.08059639483690262, 0.0203077532351017, 0.012057729065418243, 0.1789620816707611, 0.0253846924751997, 0.34967413544654846, 0.006346173118799925, 0.9699883460998535, 0.2828960716724396, 0.06421566754579544, 0.024297820404171944, 0.00867779366672039, 0.08157125860452652, 0.01735558733344078, 0.031240055337548256, 0.01388446893543005, 0.4443030059337616, 0.029504496604204178, 0.0912417620420456, 0.24331137537956238, 0.02027594856917858, 0.6437613368034363, 0.3236621022224426, 0.01761426404118538, 0.02201782912015915, 0.011008914560079575, 0.00880713202059269, 0.07045705616474152, 0.5372350215911865, 0.00880713202059269, 0.1429673433303833, 0.07676845043897629, 0.08789431303739548, 0.1084771603345871, 0.11626526713371277, 0.10458310693502426, 0.027258364483714104, 0.28148433566093445, 0.0077881040051579475, 0.047284916043281555, 0.054606497287750244, 0.8737039566040039, 0.6053479313850403, 0.13459543883800507, 0.01657579280436039, 0.023206109181046486, 0.03779280558228493, 0.16774702072143555, 0.0006630317075178027, 0.0019890950061380863, 0.002652126830071211, 0.009945475496351719, 0.9433169364929199, 0.03893527016043663, 0.024334542453289032, 0.019467635080218315, 0.15087416768074036, 0.009733817540109158, 0.7203024625778198, 0.029201451689004898, 0.004866908770054579, 0.07502948492765427, 0.07502948492765427, 0.8253243565559387, 0.022212179377675056, 0.9551236629486084, 0.01665913313627243, 0.048502758145332336, 0.048502758145332336, 0.005389195401221514, 0.07544873654842377, 0.8245468735694885, 0.035560935735702515, 0.9601452946662903, 0.9275175333023071, 0.052172861993312836, 0.011593968607485294, 0.005796984303742647, 0.2247399538755417, 0.15193094313144684, 0.2095889449119568, 0.06439178436994553, 0.09890241175889969, 0.05765800178050995, 0.043769579380750656, 0.025672540068626404, 0.07238814979791641, 0.05134508013725281, 0.07063326984643936, 0.8829158544540405, 0.04708884656429291, 0.9898093342781067, 0.08429772406816483, 0.8851261138916016, 0.9468669891357422, 0.023671673610806465, 0.008092653937637806, 0.008092653937637806, 0.979211151599884, 0.9779764413833618, 0.9880687594413757, 0.3387892246246338, 0.6590146422386169, 0.9836262464523315, 0.2596876919269562, 0.0033725674729794264, 0.013490269891917706, 0.010117702186107635, 0.006745134945958853, 0.7048665881156921, 0.0033725674729794264, 0.988767147064209, 0.9690316915512085, 0.02691754698753357, 0.12259437143802643, 0.0335521437227726, 0.734275758266449, 0.015485605224967003, 0.02322840690612793, 0.04000448063015938, 0.0038714013062417507, 0.002580934204161167, 0.011614203453063965, 0.011614203453063965, 0.02349456213414669, 0.03132608160376549, 0.701480507850647, 0.10404734313488007, 0.06600853055715561, 0.039157602936029434, 0.0011187887284904718, 0.003356365952640772, 0.006712731905281544, 0.022375773638486862, 0.9141172170639038, 0.04202837869524956, 0.02101418934762478, 0.01050709467381239, 0.01050709467381239, 0.025080759078264236, 0.04012921452522278, 0.6445755362510681, 0.21067838370800018, 0.0476534441113472, 0.02758883498609066, 0.0025080759078264236, 0.08783921599388123, 0.0741143450140953, 0.036599673330783844, 0.0045749591663479805, 0.09332916885614395, 0.021044813096523285, 0.04117463529109955, 0.03934464976191521, 0.5709549188613892, 0.030194731429219246, 0.935884416103363, 0.0561530664563179, 0.9708171486854553, 0.11332608759403229, 0.8782771825790405, 0.1679992526769638, 0.2113686352968216, 0.09449958056211472, 0.023282505571842194, 0.19675999879837036, 0.05980408564209938, 0.03286942094564438, 0.06756491959095001, 0.10271693766117096, 0.04291285574436188, 0.135381817817688, 0.16949376463890076, 0.025583965703845024, 0.017055977135896683, 0.4263994097709656, 0.06289391219615936, 0.006395991425961256, 0.11512783914804459, 0.0021319971419870853, 0.03837594762444496, 0.9825799465179443, 0.04386849328875542, 0.9475594758987427, 0.11660519987344742, 0.08111666142940521, 0.013181457296013832, 0.06692124903202057, 0.09328415989875793, 0.11559124290943146, 0.04968395456671715, 0.3944297730922699, 0.042586248368024826, 0.026362914592027664, 0.9783743619918823, 0.05143742263317108, 0.5886727571487427, 0.10205838084220886, 0.013879939913749695, 0.03102574683725834, 0.10205838084220886, 0.006123502738773823, 0.05633622407913208, 0.02408577688038349, 0.02449401095509529, 0.9851089119911194, 0.8344722390174866, 0.01796615496277809, 0.01796615496277809, 0.5264083743095398, 0.3449501693248749, 0.028745848685503006, 0.00538984639570117, 0.03952554240822792, 0.0017966155428439379, 0.016169540584087372, 0.023083431646227837, 0.6160888075828552, 0.11939705908298492, 0.01512362714856863, 0.03979901969432831, 0.08437392115592957, 0.005571862682700157, 0.036615096032619476, 0.01751156896352768, 0.04298293963074684, 0.9030295610427856, 0.060201968997716904, 0.9051663875579834, 0.08405116945505142, 0.9926340579986572, 0.9918210506439209, 0.10107766836881638, 0.009330246597528458, 0.06375668197870255, 0.03887602686882019, 0.10574279725551605, 0.021770576015114784, 0.6577823758125305, 0.0317976176738739, 0.0024459706619381905, 0.01549114752560854, 0.04076617583632469, 0.3815714120864868, 0.0032612942159175873, 0.5226224064826965, 0.0024459706619381905, 0.06984253227710724, 0.8730316758155823, 0.03492126613855362, 0.05466156452894211, 0.9401788711547852, 0.011510095559060574, 0.017707839608192444, 0.0008853920153342187, 0.09739311784505844, 0.00796852819621563, 0.01593705639243126, 0.45332071185112, 0.32670965790748596, 0.06551900506019592, 0.003541568061336875, 0.0717100203037262, 0.9143027067184448, 0.013715851120650768, 0.09753493964672089, 0.15544630587100983, 0.5410141348838806, 0.01828780211508274, 0.08686705678701401, 0.02895568497478962, 0.00914390105754137, 0.025907717645168304, 0.02285975217819214, 0.05624445527791977, 0.3617100417613983, 0.028122227638959885, 0.011636783368885517, 0.48874491453170776, 0.016485443338751793, 0.016485443338751793, 0.0038789280224591494, 0.017455175518989563, 0.977150022983551, 0.0510019026696682, 0.04533502459526062, 0.025905728340148926, 0.04938279464840889, 0.03076305240392685, 0.07852673530578613, 0.17810188233852386, 0.3756330609321594, 0.1546248197555542, 0.010524202138185501, 0.0712464451789856, 0.0489819310605526, 0.0133587084710598, 0.03339677304029465, 0.055661287158727646, 0.14917224645614624, 0.10019031912088394, 0.487592875957489, 0.0400761254131794, 0.0022264514118433, 0.11242599785327911, 0.16863898932933807, 0.008030428551137447, 0.006883224472403526, 0.30515629053115845, 0.3189227283000946, 0.001147204078733921, 0.050476979464292526, 0.018355265259742737, 0.009177632629871368, 0.965122401714325, 0.13648129999637604, 0.04549376666545868, 0.02274688333272934, 0.06824064999818802, 0.7051534056663513, 0.06899067759513855, 0.8968788385391235, 0.034495338797569275, 0.08845876157283783, 0.06947023421525955, 0.10212124139070511, 0.1049000471830368, 0.040292732417583466, 0.02964063175022602, 0.2542610466480255, 0.14009830355644226, 0.16209720075130463, 0.008567995391786098, 0.12027297914028168, 0.05333844944834709, 0.025100447237491608, 0.014641927555203438, 0.050200894474983215, 0.0522925965487957, 0.07216378301382065, 0.017779482528567314, 0.5741727352142334, 0.021962890401482582, 0.02226894348859787, 0.011134471744298935, 0.0003274844493716955, 0.003274844493716955, 0.002619875594973564, 0.005894720088690519, 0.12411660701036453, 0.014081831090152264, 0.8144538402557373, 0.001964906696230173, 0.08681660890579224, 0.006678200326859951, 0.07346020638942719, 0.7746712565422058, 0.05342560261487961, 0.019015278667211533, 0.12863276898860931, 0.09675421565771103, 0.1291920393705368, 0.016218915581703186, 0.45245179533958435, 0.004474183544516563, 0.01342255063354969, 0.016778187826275826, 0.12359932065010071, 0.18423379957675934, 0.11534637957811356, 0.009612197987735271, 0.02923710271716118, 0.4842144846916199, 0.1473870426416397, 0.00040050825919024646, 0.007209148723632097, 0.00040050825919024646, 0.02162744663655758, 0.12434669584035873, 0.8393402099609375, 0.9033625721931458, 0.07855326682329178, 0.9728496670722961, 0.1694776564836502, 0.05580361932516098, 0.021701406687498093, 0.07543822377920151, 0.022734807804226875, 0.03926921263337135, 0.44022855162620544, 0.08060522377490997, 0.08060522377490997, 0.013434204272925854, 0.2052484005689621, 0.043210189789533615, 0.014403396286070347, 0.048611462116241455, 0.009002123028039932, 0.013503183610737324, 0.4843142032623291, 0.09452228993177414, 0.08101910352706909, 0.006301485933363438, 0.009385929442942142, 0.9573647975921631, 0.004692964721471071, 0.02346482314169407, 0.004692964721471071, 0.14868898689746857, 0.028022153303027153, 0.0062906877137720585, 0.0737726092338562, 0.0051469262689352036, 0.0062906877137720585, 0.4712297022342682, 0.18414558470249176, 0.058903712779283524, 0.016012659296393394, 0.012873060069978237, 0.06436529755592346, 0.8882411122322083, 0.03218264877796173, 0.004131179768592119, 0.0784924104809761, 0.11773861944675446, 0.5494468808174133, 0.008262359537184238, 0.047508563846349716, 0.17350953817367554, 0.006196769420057535, 0.014459128491580486, 0.08065412193536758, 0.05518440157175064, 0.6261307001113892, 0.008489907719194889, 0.09338898211717606, 0.1273486167192459, 0.006367430556565523, 0.03128909692168236, 0.9386728405952454, 0.1405351161956787, 0.15710009634494781, 0.26129913330078125, 0.05076363682746887, 0.11648918688297272, 0.05610717833042145, 0.04648880288004875, 0.08709971606731415, 0.048091866075992584, 0.0358017235994339, 0.9797878265380859, 0.9748765230178833, 0.02542968839406967, 0.9408984780311584, 0.08730534464120865, 0.056124866008758545, 0.056124866008758545, 0.09977753460407257, 0.6984427571296692, 0.16066156327724457, 0.054813943803310394, 0.030242176726460457, 0.006300453562289476, 0.11183304339647293, 0.30116167664527893, 0.021736564114689827, 0.2696593999862671, 0.0018901360454037786, 0.04189801588654518, 0.03674246370792389, 0.12572811543941498, 0.12630221247673035, 0.2887727916240692, 0.028130946680903435, 0.018371231853961945, 0.28647637367248535, 0.058558300137519836, 0.01550072617828846, 0.014926625415682793, 0.9718407988548279, 0.23989339172840118, 0.008884940296411514, 0.746334969997406, 0.009443293325603008, 0.03305152431130409, 0.014164939522743225, 0.04131440818309784, 0.002360823331400752, 0.002360823331400752, 0.0070824697613716125, 0.027149466797709465, 0.8628808856010437, 0.033080656081438065, 0.9427986741065979, 0.14795523881912231, 0.12796129286289215, 0.45186328887939453, 0.017594676464796066, 0.08637386560440063, 0.03998790308833122, 0.008797338232398033, 0.028791289776563644, 0.007197822444140911, 0.08397459238767624, 0.1826815903186798, 0.8037989735603333, 0.9777777194976807, 0.006586623378098011, 0.5219898819923401, 0.02716982178390026, 0.01893654279410839, 0.13831909000873566, 0.1473757028579712, 0.007409951183944941, 0.0699828714132309, 0.03128645941615105, 0.03046313300728798, 0.09679532051086426, 0.12079416215419769, 0.10399497300386429, 0.21785613894462585, 0.03253176063299179, 0.07812955975532532, 0.19705714285373688, 0.07412975281476974, 0.06346359848976135, 0.015465919859707355, 0.03266823664307594, 0.0816705971956253, 0.07933714985847473, 0.6836995482444763, 0.018667563796043396, 0.0023334454745054245, 0.0023334454745054245, 0.056002695113420486, 0.039668574929237366, 0.05607817694544792, 0.9252899289131165, 0.24619434773921967, 0.012127800844609737, 0.021830040961503983, 0.0012127800146117806, 0.025468381121754646, 0.054575104266405106, 0.5894110798835754, 0.04972398281097412, 0.03710440546274185, 0.9498727917671204, 0.007420881185680628, 0.023740161210298538, 0.026114176958799362, 0.026114176958799362, 0.8641418218612671, 0.0023740159813314676, 0.0023740159813314676, 0.011870080605149269, 0.040358271449804306, 0.07942751049995422, 0.14072483777999878, 0.21756231784820557, 0.07424745708703995, 0.07079409062862396, 0.022446906194090843, 0.016403507441282272, 0.016403507441282272, 0.2823130190372467, 0.07942751049995422, 0.01575729064643383, 0.29577746987342834, 0.052524302154779434, 0.010012445040047169, 0.3996770977973938, 0.10833137482404709, 0.0037751842755824327, 0.05301671847701073, 0.016742121428251266, 0.04431737959384918, 0.0024978453293442726, 0.9966402649879456, 0.9779654145240784, 0.01695893704891205, 0.09085743874311447, 0.2044292390346527, 0.01912788115441799, 0.0035864778328686953, 0.5033023953437805, 0.04423322528600693, 0.002390985144302249, 0.09205292910337448, 0.01075943373143673, 0.027496330440044403, 0.9654863476753235, 0.9966050982475281, 0.00273792608641088, 0.994033932685852, 0.07374721020460129, 0.8997160196304321, 0.9485702514648438, 0.970200777053833, 0.01848001405596733, 0.009240007027983665, 0.9778969287872314, 0.9615952372550964, 0.01814330741763115, 0.015245752409100533, 0.047770023345947266, 0.2002275437116623, 0.5234375, 0.055901091545820236, 0.006098300684243441, 0.030491504818201065, 0.09554004669189453, 0.015245752409100533, 0.009147451259195805, 0.9764152765274048, 0.012359687127172947, 0.9181930422782898, 0.002301235683262348, 0.0345185361802578, 0.020711122080683708, 0.0069037070497870445, 0.0069037070497870445, 0.009204942733049393, 0.2132885456085205, 0.07538646459579468, 0.5865435004234314, 0.006435430143028498, 0.022983679547905922, 0.049644745886325836, 0.009193471632897854, 0.007354777306318283, 0.023903025314211845, 0.005516082979738712, 0.003615087131038308, 0.19521470367908478, 0.798934280872345, 0.03360578045248985, 0.961125373840332, 0.034276027232408524, 0.01869601383805275, 0.12308209389448166, 0.22824718058109283, 0.011685009114444256, 0.0077900062315166, 0.2414901852607727, 0.074784055352211, 0.25239619612693787, 0.007011005654931068, 0.9838586449623108, 0.010008711367845535, 0.04003484547138214, 0.07006097584962845, 0.8807665705680847, 0.052684344351291656, 0.10536868870258331, 0.052684344351291656, 0.7639229893684387, 0.9801605939865112, 0.007968785241246223, 0.934661865234375, 0.010715868324041367, 0.05179336667060852, 0.0017859780928120017, 0.0005953260115347803, 0.01221412606537342, 0.8733100295066833, 0.02748178504407406, 0.058017101138830185, 0.015267658047378063, 0.01221412606537342, 0.003053531516343355, 0.440195232629776, 0.09522590786218643, 0.1361910104751587, 0.06180700287222862, 0.10924028605222702, 0.09522590786218643, 0.0025154012255370617, 0.012936349026858807, 0.0053901453502476215, 0.041324447840452194, 0.9907102584838867, 0.18732425570487976, 0.13121895492076874, 0.0748070701956749, 0.022380802780389786, 0.21185116469860077, 0.18487156927585602, 0.025446666404604912, 0.08615076541900635, 0.021461043506860733, 0.054572369903326035, 0.1257476508617401, 0.11709834635257721, 0.0199599452316761, 0.011975967325270176, 0.3100444972515106, 0.3353270888328552, 0.003326657461002469, 0.052561189979314804, 0.0006653314922004938, 0.0232866033911705, 0.017770180478692055, 0.5237972736358643, 0.005359260831028223, 0.002820663619786501, 0.021719111129641533, 0.35907047986984253, 0.004230995662510395, 0.04907954856753349, 0.014385384507477283, 0.0016923982184380293, 0.9614472985267639, 0.08369812369346619, 0.1992015391588211, 0.49214497208595276, 0.008369812741875648, 0.14898265898227692, 0.0033479249104857445, 0.0016739624552428722, 0.028457362204790115, 0.036827173084020615, 0.973741888999939, 0.1176336258649826, 0.2541726529598236, 0.08822522312402725, 0.07142041623592377, 0.08822522312402725, 0.039911407977342606, 0.009452702477574348, 0.04306231066584587, 0.044112611562013626, 0.2447199523448944, 0.09408976137638092, 0.07976333796977997, 0.26407086849212646, 0.09408976137638092, 0.024780843406915665, 0.015488026663661003, 0.09292816370725632, 0.04181767255067825, 0.27065327763557434, 0.022457638755440712, 0.03894203528761864, 0.9475895166397095, 0.5291779637336731, 0.4706571102142334, 0.019691139459609985, 0.9793059825897217, 0.0006563712959177792, 0.15138904750347137, 0.02410173788666725, 0.009038152173161507, 0.10845781862735748, 0.035399429500103, 0.04895665496587753, 0.14235089719295502, 0.3909000754356384, 0.06627977639436722, 0.023348558694124222, 0.9697856903076172, 0.9951632022857666, 0.9944112300872803, 0.15609440207481384, 0.08890339732170105, 0.1355556696653366, 0.17047151923179626, 0.07980766892433167, 0.0774603858590126, 0.04870615154504776, 0.08626269549131393, 0.11853785812854767, 0.03814337030053139, 0.9891260862350464, 0.9783559441566467, 0.1533690243959427, 0.1159244105219841, 0.064630426466465, 0.2554440498352051, 0.05334574729204178, 0.10617855191230774, 0.10002327710390091, 0.04616458714008331, 0.06719512492418289, 0.03795754909515381, 0.9229810833930969, 0.20742136240005493, 0.10384245961904526, 0.2034679651260376, 0.05877377837896347, 0.13336113095283508, 0.06931616365909576, 0.03795257583260536, 0.050603434443473816, 0.09198228269815445, 0.04348732531070709, 0.16023516654968262, 0.05126297473907471, 0.3969043493270874, 0.06292760372161865, 0.022101402282714844, 0.04665851593017578, 0.08042454719543457, 0.05586743354797363, 0.11603236198425293, 0.007981061935424805, 0.94439697265625, 0.07552829384803772, 0.03776414692401886, 0.868575394153595, 0.6333901882171631, 0.36498549580574036, 0.46022936701774597, 0.026174182072281837, 0.056710727512836456, 0.02472006157040596, 0.08215785026550293, 0.11051321774721146, 0.06180015206336975, 0.028355363756418228, 0.14250388741493225, 0.005816484801471233, 0.9967594146728516, 0.31840768456459045, 0.023794053122401237, 0.026389768347144127, 0.06878644227981567, 0.009517621248960495, 0.011248097755014896, 0.06792120635509491, 0.27168482542037964, 0.19424599409103394, 0.007787144742906094, 0.153378427028656, 0.2475966066122055, 0.042726848274469376, 0.02300676517188549, 0.43165072798728943, 0.03944016620516777, 0.005477800965309143, 0.008764482103288174, 0.026293445378541946, 0.02300676517188549, 0.06062369421124458, 0.11708693951368332, 0.06597284227609634, 0.352449506521225, 0.07369939237833023, 0.05230279266834259, 0.123624786734581, 0.1331343799829483, 0.005943499505519867, 0.014264398254454136, 0.11817383021116257, 0.021486151963472366, 0.8164737224578857, 0.04297230392694473, 0.9865123629570007, 0.001395349856466055, 0.00279069971293211, 0.004186049569398165, 0.004186049569398165, 0.9774053692817688, 0.9761063456535339, 0.9726436138153076, 0.00977531261742115, 0.0146629698574543, 0.05948370322585106, 0.03238557279109955, 0.2511534094810486, 0.3364133834838867, 0.08030299842357635, 0.07005858421325684, 0.017845110967755318, 0.08658183366060257, 0.005617905408143997, 0.05981417000293732, 0.9897676706314087, 0.14638091623783112, 0.0764615386724472, 0.1341143548488617, 0.0830036997795105, 0.19238050282001495, 0.14413204789161682, 0.007155491504818201, 0.14801645278930664, 0.005928835831582546, 0.06255944073200226, 0.04796615242958069, 0.6867880821228027, 0.05668726935982704, 0.19186460971832275, 0.01090139802545309, 0.0021802796982228756, 0.13938650488853455, 0.10481487214565277, 0.06222892180085182, 0.02341441810131073, 0.23445846140384674, 0.2938587963581085, 0.00550003070384264, 0.0927148088812828, 0.0006285749841481447, 0.043057385832071304, 0.03200884908437729, 0.21186809241771698, 0.010669616051018238, 0.001524230814538896, 0.10212346911430359, 0.5380535125732422, 0.015242308378219604, 0.08688116073608398, 0.9764161705970764, 0.01946842111647129, 0.0029951417818665504, 0.9503010511398315, 0.2026185393333435, 0.10701683163642883, 0.3702782392501831, 0.053508415818214417, 0.03923950344324112, 0.038526058197021484, 0.06492354720830917, 0.007134455256164074, 0.09346136450767517, 0.02211681194603443, 0.14954042434692383, 0.05835723876953125, 0.2159217745065689, 0.05835723876953125, 0.028449153527617455, 0.013859843835234642, 0.06492242962121964, 0.02407236024737358, 0.36910951137542725, 0.018966101109981537, 0.9918590188026428, 0.1646282821893692, 0.061297763139009476, 0.47847282886505127, 0.05604366958141327, 0.05043930187821388, 0.0697043165564537, 0.0241688322275877, 0.0241688322275877, 0.05779503658413887, 0.013310371898114681, 0.038801394402980804, 0.9312334656715393, 0.9957680702209473, 0.9657343626022339, 0.0784866064786911, 0.13828592002391815, 0.10091134905815125, 0.026162201538681984, 0.5624873042106628, 0.04578385129570961, 0.009343643672764301, 0.027096565812826157, 0.0009343643323518336, 0.010278007946908474, 0.9558303952217102, 0.9872616529464722, 0.9740253686904907, 0.14338700473308563, 0.014015271328389645, 0.07762303948402405, 0.015093369409441948, 0.2544310688972473, 0.44309818744659424, 0.051748692989349365, 0.9352418184280396, 0.28722256422042847, 0.682153582572937, 0.009598578326404095, 0.9790549874305725, 0.015081475488841534, 0.9652144312858582, 0.006096861325204372, 0.12925346195697784, 0.0036581167951226234, 0.01097435038536787, 0.3255724012851715, 0.5218912959098816, 0.002438744530081749, 0.03197720646858215, 0.07194871455430984, 0.0991293415427208, 0.057558972388505936, 0.6667247414588928, 0.022384045645594597, 0.003197720739990473, 0.038372647017240524, 0.011192022822797298, 0.22026334702968597, 0.36444687843322754, 0.03558572009205818, 0.0349721759557724, 0.11718746274709702, 0.09571331739425659, 0.039267003536224365, 0.04417537897825241, 0.0319044403731823, 0.01717931404709816, 0.10415806621313095, 0.3044620454311371, 0.009156753309071064, 0.004578376654535532, 0.5322362780570984, 0.018313506618142128, 0.003433782374486327, 0.009156753309071064, 0.001144594163633883, 0.012590535916388035, 0.9688417315483093, 0.9769679307937622, 0.0030625953804701567, 0.012250381521880627, 0.0030625953804701567, 0.9396851062774658, 0.032684698700904846, 0.004085587337613106, 0.02042793668806553, 0.9921002388000488, 0.06499660015106201, 0.04874745011329651, 0.06237576901912689, 0.295105516910553, 0.01991831324994564, 0.06342410296201706, 0.2935330271720886, 0.06656909734010696, 0.06447243690490723, 0.02096664533019066, 0.008621097542345524, 0.6796298623085022, 0.01580534689128399, 0.025863293558359146, 0.0014368497068062425, 0.2025958001613617, 0.0007184248534031212, 0.005028973799198866, 0.007902673445641994, 0.05244501307606697, 0.13208501040935516, 0.1317097693681717, 0.06341581046581268, 0.2367773801088333, 0.03752414882183075, 0.06078912317752838, 0.22777159512043, 0.04090132191777229, 0.058912914246320724, 0.009756279177963734, 0.9930386543273926, 0.03441017121076584, 0.10323050618171692, 0.8258440494537354, 0.09018249809741974, 0.07057760655879974, 0.04313076287508011, 0.06567638367414474, 0.03528880327939987, 0.020585136488080025, 0.04901222884654999, 0.07547882944345474, 0.5283518433570862, 0.023525869473814964, 0.4175046682357788, 0.1395745575428009, 0.021332355216145515, 0.06338757276535034, 0.02742731384932995, 0.05729261040687561, 0.01036143023520708, 0.05302613973617554, 0.03291277587413788, 0.17675380408763885, 0.0597725473344326, 0.019924182444810867, 0.8368156552314758, 0.09962090849876404, 0.9448467493057251, 0.04792700707912445, 0.08124781399965286, 0.31091681122779846, 0.003838479286059737, 0.007037212140858173, 0.495803564786911, 0.05693744122982025, 0.0012794930953532457, 0.01663341000676155, 0.0012794930953532457, 0.024310369044542313, 0.9865344166755676, 0.006362138316035271, 0.9861314296722412, 0.9233525991439819, 0.04859750345349312, 0.20810005068778992, 0.11317722499370575, 0.15437999367713928, 0.15385843813419342, 0.06154337525367737, 0.12673762440681458, 0.0777115523815155, 0.03807344287633896, 0.043810538947582245, 0.022426823154091835, 0.03692230209708214, 0.9415187239646912, 0.007212556432932615, 0.5553668737411499, 0.0010303652379661798, 0.0010303652379661798, 0.11230980604887009, 0.19473902881145477, 0.0030910957138985395, 0.08036848902702332, 0.011334016919136047, 0.032971687614917755, 0.11134421825408936, 0.07168737798929214, 0.009151579812169075, 0.045757897198200226, 0.06863684952259064, 0.163203164935112, 0.04270737245678902, 0.4392758309841156, 0.030505266040563583, 0.01830315962433815, 0.6338008642196655, 0.05466746166348457, 0.009395970031619072, 0.010250148363411427, 0.041000593453645706, 0.22037819027900696, 0.0059792534448206425, 0.0247711930423975, 0.18051835894584656, 0.7942807674407959, 0.027941232547163963, 0.9639725089073181, 0.9738242030143738, 0.9550527334213257, 0.040165770798921585, 0.9910348057746887, 0.9488545060157776, 0.0321645587682724, 0.012004278600215912, 0.8402994871139526, 0.14405134320259094, 0.9892511367797852, 0.013874354772269726, 0.01040576584637165, 0.02774870954453945, 0.058966007083654404, 0.01040576584637165, 0.006937177386134863, 0.0901833027601242, 0.770026683807373, 0.0034685886930674314, 0.03995783254504204, 0.022833047434687614, 0.03684423491358757, 0.11053270101547241, 0.012713855132460594, 0.024908777326345444, 0.2306656688451767, 0.2989053428173065, 0.2073136866092682, 0.015049053356051445, 0.20082849264144897, 0.025103561580181122, 0.7531068921089172, 0.0959026888012886, 0.15043558180332184, 0.04325023293495178, 0.0470111221075058, 0.08838091045618057, 0.005641334690153599, 0.5660138726234436, 0.041844889521598816, 0.08368977904319763, 0.0684734582901001, 0.015216324478387833, 0.734187662601471, 0.053257133811712265, 0.003804081119596958, 0.013311563991010189, 0.057683441787958145, 0.010353438556194305, 0.00295812520198524, 0.8977910280227661, 0.017748752608895302, 0.00295812520198524, 0.9915691018104553, 0.0332796685397625, 0.015038510784506798, 0.02840607613325119, 0.14328359067440033, 0.018658893182873726, 0.027988340705633163, 0.20413386821746826, 0.318732887506485, 0.1902093142271042, 0.020190592855215073, 0.11648719012737274, 0.05824359506368637, 0.815410315990448, 0.08736743032932281, 0.8736742734909058, 0.018496055155992508, 0.010708242654800415, 0.00584085937589407, 0.14212757349014282, 0.010708242654800415, 0.017522579059004784, 0.35775265097618103, 0.35385873913764954, 0.07544443756341934, 0.007787812501192093, 0.9760389924049377, 0.012577997520565987, 0.012577997520565987, 0.004192665684968233, 0.972698450088501, 0.027666963636875153, 0.005533393006771803, 0.04980053752660751, 0.9130098223686218, 0.11369062215089798, 0.16692671179771423, 0.04571686312556267, 0.17895746231079102, 0.05052916333079338, 0.07428990304470062, 0.230990469455719, 0.047220706939697266, 0.08421527594327927, 0.007519220933318138, 0.022352823987603188, 0.044705647975206375, 0.8941130042076111, 0.14005717635154724, 0.14066877961158752, 0.04525865241885185, 0.1486196219921112, 0.03486139327287674, 0.08623608201742172, 0.27766793966293335, 0.05015147849917412, 0.06788797676563263, 0.009174050763249397, 0.02168114110827446, 0.953970193862915, 0.9819862842559814, 0.031415801495313644, 0.9424740672111511, 0.8153616786003113, 0.13589361310005188, 0.13295643031597137, 0.03545504808425903, 0.017727524042129517, 0.05318257212638855, 0.7534197568893433, 0.974189281463623, 0.006604673340916634, 0.01651168242096901, 0.966495156288147, 0.9808254241943359, 0.11105778068304062, 0.039407599717378616, 0.6788854598999023, 0.025077564641833305, 0.05015512928366661, 0.03582509234547615, 0.008956273086369038, 0.0035825090017169714, 0.014330036006867886, 0.03582509234547615, 0.988745391368866, 0.9877957701683044, 0.1395111232995987, 0.0398603193461895, 0.8171365261077881, 0.046409912407398224, 0.8193458914756775, 0.0042190831154584885, 0.017720147967338562, 0.006750532425940037, 0.02193923108279705, 0.0016876331064850092, 0.0033752662129700184, 0.0008438165532425046, 0.07847493886947632, 0.026671428233385086, 0.9601714015007019, 0.01635410450398922, 0.9812462329864502, 0.0692511647939682, 0.002308372175320983, 0.004616744350641966, 0.9210404753684998, 0.794535219669342, 0.1141202375292778, 0.006459636148065329, 0.00430642394348979, 0.05167708918452263, 0.010766060091555119, 0.00430642394348979, 0.010766060091555119, 0.00430642394348979, 0.9226245284080505, 0.01637444831430912, 0.017634021118283272, 0.021412739530205727, 0.0012595729203894734, 0.9207477569580078, 0.011336156167089939, 0.0012595729203894734, 0.006297864485532045, 0.002519145840778947, 0.09156382828950882, 0.05186852812767029, 0.01905374601483345, 0.02646353468298912, 0.10902976244688034, 0.023287910968065262, 0.031226972118020058, 0.4911631941795349, 0.1323176771402359, 0.02381718158721924, 0.9812318086624146, 0.027871251106262207, 0.05720940977334976, 0.0014669079100713134, 0.1598929613828659, 0.013202170841395855, 0.014669079333543777, 0.6586416363716125, 0.030805066227912903, 0.03520578891038895, 0.0014669079100713134, 0.954609751701355, 0.9681955575942993, 0.9802275896072388, 0.04494437575340271, 0.3202286660671234, 0.05266918987035751, 0.13202409446239471, 0.05477595701813698, 0.1369398981332779, 0.02176993153989315, 0.1151699647307396, 0.009831582196056843, 0.11025416851043701, 0.9824191331863403, 0.14344723522663116, 0.12179001420736313, 0.12229959666728973, 0.1656140387058258, 0.04229527711868286, 0.1095600575208664, 0.15389366447925568, 0.05427044630050659, 0.06038542464375496, 0.026243455708026886, 0.27606406807899475, 0.08982164412736893, 0.10485301911830902, 0.17634370923042297, 0.0964207872748375, 0.12171749025583267, 0.020164042711257935, 0.03152922913432121, 0.05425960570573807, 0.02896289713680744, 0.004202768672257662, 0.5211433172225952, 0.004202768672257662, 0.21854397654533386, 0.24095875024795532, 0.009806460700929165, 0.25669020414352417, 0.7432522773742676, 0.9859327077865601, 0.06119019538164139, 0.028555424883961678, 0.012238038703799248, 0.020396731793880463, 0.8607420921325684, 0.012238038703799248, 0.0040793465450406075, 0.07821241021156311, 0.7140503525733948, 0.01738053560256958, 0.0014483779668807983, 0.05214160680770874, 0.11007673293352127, 0.0028967559337615967, 0.004345133900642395, 0.00869026780128479, 0.010138645768165588, 0.03460467979311943, 0.9639875292778015, 0.11336261034011841, 0.060627471655607224, 0.03802669793367386, 0.10116536915302277, 0.04627777636051178, 0.09901291877031326, 0.09578423202037811, 0.3411640524864197, 0.0742596834897995, 0.03013436496257782, 0.952743411064148, 0.08112116903066635, 0.044247910380363464, 0.19806207716464996, 0.046354956924915314, 0.030552130192518234, 0.005267608445137739, 0.09270991384983063, 0.01369578205049038, 0.48462000489234924, 0.004214087035506964, 0.019433336332440376, 0.9716668725013733, 0.23414139449596405, 0.11135386675596237, 0.29280102252960205, 0.038277894258499146, 0.0690990537405014, 0.09892598539590836, 0.04175770282745361, 0.04672885686159134, 0.04275193065404892, 0.024358659982681274, 0.9854404330253601, 0.9502695202827454, 0.045612938702106476, 0.09966030716896057, 0.05979618430137634, 0.04484713822603226, 0.0348811075091362, 0.0049830153584480286, 0.0697622150182724, 0.024915076792240143, 0.6428089737892151, 0.019932061433792114, 0.9721945524215698, 0.9544452428817749, 0.13759717345237732, 0.13321909308433533, 0.15135689079761505, 0.1813780963420868, 0.05284982547163963, 0.07317668199539185, 0.09444169700145721, 0.0947544202208519, 0.04690812900662422, 0.034086573868989944, 0.2982107996940613, 0.08586254715919495, 0.0360068753361702, 0.09601833671331406, 0.04985567554831505, 0.33098629117012024, 0.04200801998376846, 0.04154639691114426, 0.011079038493335247, 0.008770905435085297, 0.036756448447704315, 0.026254605501890182, 0.8611510396003723, 0.07876381278038025, 0.1305360645055771, 0.13633766770362854, 0.017404809594154358, 0.03577655181288719, 0.11216432601213455, 0.04641282558441162, 0.06381763517856598, 0.43898797035217285, 0.011603206396102905, 0.005801603198051453, 0.038917962461709976, 0.0222388356924057, 0.8784340620040894, 0.005559708923101425, 0.03335825353860855, 0.019458981230854988, 0.30908364057540894, 0.06519733369350433, 0.03501338139176369, 0.020525086671113968, 0.012073580175638199, 0.021732443943619728, 0.010866221971809864, 0.0012073579709976912, 0.4781137704849243, 0.047086961567401886, 0.14767850935459137, 0.08860710263252258, 0.029535701498389244, 0.7383925318717957, 0.16063593327999115, 0.10299146175384521, 0.09030967950820923, 0.07532211393117905, 0.09568982571363449, 0.0841609314084053, 0.07032626122236252, 0.21635892987251282, 0.05457010120153427, 0.04957424849271774, 0.15664158761501312, 0.09462430328130722, 0.46225249767303467, 0.06137792766094208, 0.06585340201854706, 0.05306633189320564, 0.03772184997797012, 0.02877090312540531, 0.019180601462721825, 0.0198199562728405, 0.014072107151150703, 0.004477488808333874, 0.02942349761724472, 0.005756771191954613, 0.8596778512001038, 0.008954977616667747, 0.005756771191954613, 0.06588304787874222, 0.005756771191954613, 0.9530320763587952, 0.9617893695831299, 0.09769614040851593, 0.8901203870773315, 0.9713397026062012, 0.8692619204521179, 0.06338368356227875, 0.004527405835688114, 0.013582217507064342, 0.002263702917844057, 0.024900730699300766, 0.020373325794935226, 0.04432321712374687, 0.11819524317979813, 0.011819524690508842, 0.02954881079494953, 0.05811266228556633, 0.3762548565864563, 0.026593929156661034, 0.3043527603149414, 0.009849603287875652, 0.020684167742729187, 0.02120022475719452, 0.1519349366426468, 0.009422321803867817, 0.01295569259673357, 0.05182277038693428, 0.700785219669342, 0.03651149943470955, 0.003533370792865753, 0.01295569259673357, 0.9918793439865112, 0.2380966991186142, 0.1336100548505783, 0.2547021508216858, 0.03397731855511665, 0.11598272621631622, 0.08021713048219681, 0.02069295383989811, 0.03346638008952141, 0.040874969214200974, 0.048028089106082916, 0.9683517217636108, 0.017713749781250954, 0.005904583726078272, 0.27630138397216797, 0.7080222368240356, 0.04218977689743042, 0.9492699503898621, 0.022193612530827522, 0.05840424448251724, 0.6915062665939331, 0.11330423504114151, 0.04321914166212082, 0.05256382003426552, 0.0011680849129334092, 0.017521273344755173, 0.17712092399597168, 0.14113444089889526, 0.18218152225017548, 0.05369856581091881, 0.12988866865634918, 0.09221533685922623, 0.05707229673862457, 0.0804072767496109, 0.047794535756111145, 0.03851677104830742, 0.9735060334205627, 0.013509027659893036, 0.433639794588089, 0.012158124707639217, 0.07159784436225891, 0.016210833564400673, 0.06619423627853394, 0.012158124707639217, 0.009456319734454155, 0.36474373936653137, 0.02999398112297058, 0.00999799370765686, 0.9598073959350586, 0.993117094039917, 0.030113747343420982, 0.026767775416374207, 0.12045498937368393, 0.013383887708187103, 0.003345971927046776, 0.15056873857975006, 0.13383887708187103, 0.5186256766319275, 0.989519476890564, 0.3004867136478424, 0.6903073191642761, 0.8163657188415527, 0.05401860550045967, 0.009129905141890049, 0.022063937038183212, 0.007608254440128803, 0.03423714637756348, 0.01902063563466072, 0.007608254440128803, 0.01369485817849636, 0.01597733423113823, 0.4413292706012726, 0.14141392707824707, 0.08720525354146957, 0.021801313385367393, 0.07777765393257141, 0.16380445659160614, 0.010016819462180138, 0.04065650328993797, 0.006481471471488476, 0.00942759495228529, 0.0052521186880767345, 0.012838511727750301, 0.0005835687043145299, 0.4598521590232849, 0.2626059353351593, 0.257353812456131, 0.0011671374086290598, 0.08210252970457077, 0.8607523441314697, 0.007945406250655651, 0.01059387531131506, 0.002648468827828765, 0.03443009406328201, 0.021075118333101273, 0.04741901531815529, 0.01580633968114853, 0.010537559166550636, 0.9009613394737244, 0.8927849531173706, 0.011348961852490902, 0.003782987128943205, 0.06052779406309128, 0.026480909436941147, 0.003782987128943205, 0.03363647311925888, 0.953033447265625, 0.1268509328365326, 0.8721001744270325, 0.9818058013916016, 0.25702711939811707, 0.005762939807027578, 0.0069155278615653515, 0.011525879614055157, 0.0034577639307826757, 0.0069155278615653515, 0.053019046783447266, 0.6546699404716492, 0.0011525879381224513, 0.9576576352119446, 0.023941440507769585, 0.023941440507769585, 0.056293901056051254, 0.9007024168968201, 0.007003381848335266, 0.9804734587669373, 0.007003381848335266, 0.023782871663570404, 0.9513149261474609, 0.007927624508738518, 0.007927624508738518, 0.14783592522144318, 0.08870156109333038, 0.7391796708106995, 0.018826205283403397, 0.015060964040458202, 0.022591445595026016, 0.9300145506858826, 0.0037652410101145506, 0.0037652410101145506, 0.007530482020229101, 0.06429053843021393, 0.9286410808563232, 0.17349813878536224, 0.8192967772483826, 0.10977602750062943, 0.07756629586219788, 0.015776196494698524, 0.026951001957058907, 0.03089505061507225, 0.04930061101913452, 0.1919437199831009, 0.4476495683193207, 0.04601390287280083, 0.004601390566676855, 0.1864617019891739, 0.03648163750767708, 0.03242811933159828, 0.03648163750767708, 0.03648163750767708, 0.004053514916449785, 0.028374604880809784, 0.05674920976161957, 0.040535151958465576, 0.5472245216369629, 0.9613525867462158, 0.0028783013112843037, 0.02302641049027443, 0.011513205245137215, 0.9942087531089783, 0.7726160287857056, 0.22452090680599213, 0.9817326068878174, 0.009103450924158096, 0.008091956377029419, 0.016183912754058838, 0.5583449602127075, 0.0020229890942573547, 0.0020229890942573547, 0.36110353469848633, 0.029333340004086494, 0.013149429112672806, 0.003124440321698785, 0.004686660598963499, 0.030463293194770813, 0.6936257481575012, 0.2460496872663498, 0.015622202306985855, 0.00624888064339757, 0.0007811100804246962, 0.973067581653595, 0.11927148699760437, 0.6751216053962708, 0.0067512160167098045, 0.020253648981451988, 0.0675121620297432, 0.0045008109882473946, 0.10576905310153961, 0.9531288743019104, 0.005377964582294226, 0.009987648576498032, 0.016902174800634384, 0.004609683994203806, 0.012292490340769291, 0.012292490340769291, 0.004609683994203806, 0.022280139848589897, 0.010755929164588451, 0.9019615054130554, 0.022635232657194138, 0.016976425424218178, 0.033952850848436356, 0.8940917253494263, 0.005658808164298534, 0.028294041752815247, 0.04423711821436882, 0.0276481993496418, 0.06819888949394226, 0.3695642650127411, 0.011980886571109295, 0.010137672536075115, 0.4128797650337219, 0.01658891886472702, 0.04055069014430046, 0.06463784724473953, 0.02036534994840622, 0.07836232334375381, 0.1359165757894516, 0.005755424965173006, 0.02036534994840622, 0.544109046459198, 0.06640874594449997, 0.06198149919509888, 0.0013281749561429024, 0.07268277555704117, 0.0459611639380455, 0.01603296399116516, 0.038479115813970566, 0.024583879858255386, 0.003206592984497547, 0.2415633350610733, 0.5483273863792419, 0.009619778953492641, 0.03393174335360527, 0.12013672292232513, 0.051356155425310135, 0.3980101943016052, 0.004585370887070894, 0.011004890315234661, 0.3063027858734131, 0.05319030210375786, 0.016507335007190704, 0.004585370887070894, 0.954032301902771, 0.02201613038778305, 0.0036693548317998648, 0.0036693548317998648, 0.0073387096635997295, 0.0036693548317998648, 0.11793925613164902, 0.08190225809812546, 0.7207399010658264, 0.009828271344304085, 0.01638045161962509, 0.03603699430823326, 0.009828271344304085, 0.006552180740982294, 0.05525674298405647, 0.0644662007689476, 0.8081299066543579, 0.0161165501922369, 0.013814185746014118, 0.036837831139564514, 0.009209457784891129, 0.04947448894381523, 0.9400153160095215, 0.9959184527397156, 0.05536200851202011, 0.1028151586651802, 0.8383389711380005, 0.24621908366680145, 0.29190921783447266, 0.0655738115310669, 0.051612935960292816, 0.07318883389234543, 0.06261241436004639, 0.07191966474056244, 0.054151277989149094, 0.041882626712322235, 0.041036512702703476, 0.9919390082359314, 0.981496274471283, 0.04468940943479538, 0.9384775757789612, 0.1123676523566246, 0.20317906141281128, 0.36278700828552246, 0.022932173684239388, 0.1733672320842743, 0.03118775598704815, 0.009172869846224785, 0.022014888003468513, 0.021556243300437927, 0.04219520092010498, 0.9878842234611511, 0.09374499320983887, 0.8749532699584961, 0.02813038043677807, 0.928302526473999, 0.11026563495397568, 0.16731058061122894, 0.09847422689199448, 0.0825398862361908, 0.18898127973079681, 0.08508937805891037, 0.024857571348547935, 0.14978280663490295, 0.05290200933814049, 0.0398358516395092, 0.04099365696310997, 0.010248414240777493, 0.912108838558197, 0.010248414240777493, 0.020496828481554985], \"Term\": [\"abroad\", \"absent\", \"acceptance\", \"acceptance\", \"acceptance\", \"acceptance\", \"acceptance\", \"acceptance\", \"acceptance\", \"accident\", \"accident\", \"accident\", \"accident\", \"accident\", \"accident\", \"accident\", \"accident\", \"account\", \"account\", \"account\", \"account\", \"account\", \"account\", \"account\", \"account\", \"account\", \"account\", \"accuracy\", \"accuracy\", \"accuracy\", \"accuracy\", \"accuracy\", \"accuracy\", \"accuracy\", \"accuracy\", \"acs\", \"activation\", \"address\", \"address\", \"address\", \"address\", \"address\", \"address\", \"address\", \"address\", \"address\", \"address\", \"adjudicate\", \"adjudicate\", \"adopt\", \"afford\", \"afford\", \"afford\", \"afford\", \"afford\", \"afford\", \"afford\", \"afford\", \"afford\", \"afford\", \"afni\", \"afni\", \"aged\", \"aged\", \"aged\", \"aged\", \"agency\", \"agency\", \"agency\", \"agency\", \"agency\", \"agency\", \"agency\", \"agency\", \"agency\", \"agency\", \"airline\", \"alert\", \"alert\", \"alert\", \"alert\", \"alert\", \"alert\", \"alert\", \"alert\", \"alert\", \"alert\", \"alias\", \"alias\", \"allege\", \"allege\", \"allege\", \"allege\", \"allege\", \"allege\", \"allege\", \"allege\", \"allege\", \"alleged\", \"alleged\", \"alleged\", \"alleged\", \"alleged\", \"alleged\", \"alleged\", \"alliance\", \"ally\", \"ally\", \"ally\", \"ally\", \"ally\", \"amazon\", \"ambulance\", \"amendment\", \"america\", \"america\", \"america\", \"america\", \"america\", \"america\", \"america\", \"america\", \"america\", \"america\", \"amex\", \"amount\", \"amount\", \"amount\", \"amount\", \"amount\", \"amount\", \"amount\", \"amount\", \"amount\", \"amount\", \"analysis\", \"analysis\", \"analysis\", \"analysis\", \"annoying\", \"annoying\", \"answer\", \"answer\", \"answer\", \"answer\", \"answer\", \"answer\", \"answer\", \"answer\", \"answer\", \"answer\", \"apartment\", \"apartment\", \"apartment\", \"apartment\", \"apartment\", \"apartment\", \"apartment\", \"apartment\", \"apartment\", \"app\", \"app\", \"app\", \"app\", \"app\", \"app\", \"app\", \"app\", \"application\", \"application\", \"application\", \"application\", \"application\", \"application\", \"application\", \"application\", \"application\", \"application\", \"apply\", \"apply\", \"apply\", \"apply\", \"apply\", \"apply\", \"apply\", \"apply\", \"apply\", \"apply\", \"appraisal\", \"appraisal\", \"appraise\", \"appraise\", \"appraiser\", \"approve\", \"approve\", \"approve\", \"approve\", \"approve\", \"approve\", \"approve\", \"approve\", \"approve\", \"approve\", \"ar\", \"ar\", \"arrangement\", \"arrangement\", \"arrangement\", \"arrangement\", \"arrangement\", \"arrangement\", \"arrangement\", \"arrangement\", \"arrest\", \"arrest\", \"arrest\", \"arrest\", \"arrest\", \"arrest\", \"asc\", \"ask\", \"ask\", \"ask\", \"ask\", \"ask\", \"ask\", \"ask\", \"ask\", \"ask\", \"ask\", \"astronomical\", \"atm\", \"atms\", \"attempt\", \"attempt\", \"attempt\", \"attempt\", \"attempt\", \"attempt\", \"attempt\", \"attempt\", \"attempt\", \"attempt\", \"attend\", \"attend\", \"attend\", \"attend\", \"attend\", \"attend\", \"attend\", \"attorney\", \"attorney\", \"attorney\", \"attorney\", \"attorney\", \"attorney\", \"attorney\", \"attorney\", \"attorney\", \"attorney\", \"authenticity\", \"authenticity\", \"authorize\", \"authorize\", \"authorize\", \"authorize\", \"authorize\", \"authorize\", \"authorize\", \"authorize\", \"authorize\", \"auto\", \"auto\", \"auto\", \"auto\", \"auto\", \"auto\", \"auto\", \"auto\", \"auto\", \"auto\", \"automobile\", \"automobile\", \"automobile\", \"automobile\", \"ave\", \"bal\", \"bal\", \"balance\", \"balance\", \"balance\", \"balance\", \"balance\", \"balance\", \"balance\", \"balance\", \"balance\", \"balance\", \"bank\", \"bank\", \"bank\", \"bank\", \"bank\", \"bank\", \"bank\", \"bank\", \"bank\", \"bank\", \"bankruptcy\", \"bankruptcy\", \"bankruptcy\", \"bankruptcy\", \"bankruptcy\", \"bankruptcy\", \"bankruptcy\", \"bankruptcy\", \"bankruptcy\", \"bankruptcy\", \"barclay\", \"barclay\", \"barclay\", \"barclay\", \"barclaycard\", \"basement\", \"behave\", \"behave\", \"belligerent\", \"belligerent\", \"belligerent\", \"belong\", \"belong\", \"belong\", \"belong\", \"belong\", \"belong\", \"belong\", \"belong\", \"belong\", \"belong\", \"bet\", \"big_picture\", \"bill\", \"bill\", \"bill\", \"bill\", \"bill\", \"bill\", \"bill\", \"bill\", \"bill\", \"bill\", \"birth\", \"birth\", \"birth\", \"birth\", \"birth\", \"birth\", \"birth\", \"bk\", \"bk\", \"bk\", \"bmw\", \"bond\", \"bond\", \"bond\", \"bonus\", \"bonus\", \"bonus\", \"bpo\", \"branch\", \"branch\", \"branch\", \"branch\", \"branch\", \"branch\", \"branch\", \"breach\", \"breach\", \"breach\", \"breach\", \"breach\", \"breach\", \"breach\", \"breach\", \"breach\", \"breech\", \"breech\", \"browser\", \"browser\", \"bsi\", \"builder\", \"burea\", \"bureau\", \"bureau\", \"bureau\", \"bureau\", \"bureau\", \"bureau\", \"bureau\", \"bureau\", \"bureau\", \"bureau\", \"bureaus\", \"bureaus\", \"bureaus\", \"bureaus\", \"bureaus\", \"bureaus\", \"bureaus\", \"bureaus\", \"bureaus\", \"bureaus\", \"buyer\", \"buyer\", \"buyer\", \"buyer\", \"buyer\", \"buyer\", \"buyer\", \"caliber\", \"caliber\", \"call\", \"call\", \"call\", \"call\", \"call\", \"call\", \"call\", \"call\", \"call\", \"call\", \"caller\", \"caller\", \"caller\", \"caller\", \"caller\", \"caller\", \"calling\", \"calling\", \"calling\", \"calling\", \"campus\", \"cancel\", \"cancel\", \"cancel\", \"cancel\", \"cancel\", \"cancel\", \"cancel\", \"cancel\", \"cancel\", \"cancel\", \"capital\", \"capital\", \"capital\", \"capital\", \"capital\", \"capital\", \"capital\", \"capital\", \"capital\", \"capital\", \"capitalone\", \"capitalone\", \"car\", \"car\", \"car\", \"car\", \"car\", \"car\", \"car\", \"car\", \"car\", \"car\", \"card\", \"card\", \"card\", \"card\", \"card\", \"card\", \"card\", \"card\", \"card\", \"card\", \"carrington\", \"carrington\", \"cash\", \"cash\", \"cash\", \"cash\", \"cash\", \"cash\", \"cash\", \"cash\", \"cash\", \"cash_advance\", \"cbna\", \"cease\", \"cease\", \"cease\", \"cease\", \"cease\", \"cease\", \"cease\", \"cease\", \"cell\", \"cell\", \"cell\", \"cell\", \"cell\", \"cell\", \"cell\", \"cell\", \"cell\", \"cell\", \"certify\", \"certify\", \"certify\", \"certify\", \"certify\", \"certify\", \"certify\", \"certify\", \"certify\", \"certify\", \"chapter\", \"chapter\", \"chapter\", \"chapter\", \"chapter\", \"chapter\", \"chapter\", \"chapter\", \"charge\", \"charge\", \"charge\", \"charge\", \"charge\", \"charge\", \"charge\", \"charge\", \"charge\", \"charge\", \"chargeback\", \"chargeoff\", \"chargeoff\", \"chase\", \"chase\", \"chase\", \"chase\", \"chase\", \"chase\", \"chase\", \"chase\", \"chase\", \"chase\", \"check\", \"check\", \"check\", \"check\", \"check\", \"check\", \"check\", \"check\", \"check\", \"check\", \"checking\", \"checking\", \"checking\", \"checking\", \"checking\", \"checking\", \"checking\", \"checking\", \"checking\", \"chexsystem\", \"citi\", \"citi\", \"citi\", \"citi\", \"citi\", \"citi\", \"citibank\", \"citibank\", \"citibank\", \"citibank\", \"citibank\", \"citibank\", \"citibank\", \"citicard\", \"citicard\", \"citigold\", \"civil_liability\", \"claim\", \"claim\", \"claim\", \"claim\", \"claim\", \"claim\", \"claim\", \"claim\", \"claim\", \"claim\", \"clinic\", \"clinic\", \"close\", \"close\", \"close\", \"close\", \"close\", \"close\", \"close\", \"close\", \"close\", \"close\", \"closed\", \"closed\", \"closed\", \"closed\", \"closed\", \"closed\", \"closed\", \"closed\", \"closed\", \"closed\", \"closing\", \"closing\", \"closing\", \"closing\", \"closing\", \"closing\", \"closing\", \"closing\", \"closing\", \"clueless\", \"cmre\", \"coinbase\", \"collect\", \"collect\", \"collect\", \"collect\", \"collect\", \"collect\", \"collect\", \"collect\", \"collect\", \"collect\", \"collection\", \"collection\", \"collection\", \"collection\", \"collection\", \"collection\", \"collection\", \"collection\", \"collection\", \"collection\", \"collector\", \"collector\", \"collector\", \"collector\", \"collector\", \"collector\", \"collector\", \"collector\", \"collector\", \"collector\", \"college\", \"college\", \"college\", \"college\", \"college\", \"college\", \"college\", \"column\", \"column\", \"comenity\", \"comenity\", \"command\", \"command\", \"commonwealth\", \"commonwealth\", \"commonwealth\", \"company\", \"company\", \"company\", \"company\", \"company\", \"company\", \"company\", \"company\", \"company\", \"company\", \"completeness\", \"compromise\", \"compromise\", \"compromise\", \"compromise\", \"compromise\", \"compromise\", \"compromise\", \"compromise\", \"computer_glitch\", \"computer_glitch\", \"condominium\", \"condominium\", \"consent\", \"consent\", \"consent\", \"consent\", \"consent\", \"consent\", \"consent\", \"consent\", \"consent\", \"consent\", \"consolidate\", \"consolidate\", \"consolidate\", \"consolidate\", \"consolidate\", \"consolidate\", \"consolidated\", \"consolidated\", \"consolidated\", \"consolidation\", \"consolidation\", \"consolidation\", \"consolidation\", \"consolidation\", \"conspire\", \"construe\", \"consumer\", \"consumer\", \"consumer\", \"consumer\", \"consumer\", \"consumer\", \"consumer\", \"consumer\", \"consumer\", \"consumer\", \"contact\", \"contact\", \"contact\", \"contact\", \"contact\", \"contact\", \"contact\", \"contact\", \"contact\", \"contact\", \"contract\", \"contract\", \"contract\", \"contract\", \"contract\", \"contract\", \"contract\", \"contract\", \"contract\", \"contract\", \"contractor\", \"contractor\", \"contractor\", \"contractor\", \"contractor\", \"convergent\", \"correct\", \"correct\", \"correct\", \"correct\", \"correct\", \"correct\", \"correct\", \"correct\", \"correct\", \"correct\", \"cosigner\", \"cosigner\", \"cosigner\", \"cosigner\", \"costco\", \"counterfeit\", \"countrywide\", \"coupon\", \"coupon\", \"coupon\", \"coverage\", \"coverage\", \"coverage\", \"coverage\", \"coverage\", \"coverage\", \"coworker\", \"coworker\", \"coworker\", \"cr\", \"cr\", \"cra\", \"cra\", \"cra\", \"cra\", \"cra\", \"creditor\", \"creditor\", \"creditor\", \"creditor\", \"creditor\", \"creditor\", \"creditor\", \"creditor\", \"creditor\", \"creditor\", \"curse\", \"cushion\", \"cushion\", \"customer\", \"customer\", \"customer\", \"customer\", \"customer\", \"customer\", \"customer\", \"customer\", \"customer\", \"customer\", \"data\", \"data\", \"data\", \"data\", \"data\", \"data\", \"data\", \"data\", \"date\", \"date\", \"date\", \"date\", \"date\", \"date\", \"date\", \"date\", \"date\", \"date\", \"day\", \"day\", \"day\", \"day\", \"day\", \"day\", \"day\", \"day\", \"day\", \"day\", \"deactivate\", \"dealer\", \"dealer\", \"dealer\", \"dealer\", \"dealership\", \"dealership\", \"dealership\", \"debit\", \"debit\", \"debit\", \"debit\", \"debit\", \"debit\", \"debit\", \"debit\", \"debit\", \"debt\", \"debt\", \"debt\", \"debt\", \"debt\", \"debt\", \"debt\", \"debt\", \"debt\", \"debt\", \"deed\", \"deed\", \"deed\", \"deed\", \"deed\", \"deed\", \"deed\", \"defer\", \"defer\", \"defer\", \"defer\", \"defer\", \"defer\", \"deferment\", \"deferment\", \"deferment\", \"deferment\", \"deferral\", \"deferred\", \"deferred\", \"degrade\", \"degree\", \"degree\", \"degree\", \"degree\", \"degree\", \"delete\", \"delete\", \"delete\", \"delete\", \"delete\", \"delete\", \"delete\", \"delete\", \"delete\", \"delete\", \"deleting\", \"deleting\", \"delinquency\", \"delinquency\", \"delinquency\", \"delinquency\", \"delinquency\", \"delinquency\", \"delinquency\", \"delinquency\", \"delinquency\", \"deliquent\", \"deliquent\", \"deny\", \"deny\", \"deny\", \"deny\", \"deny\", \"deny\", \"deny\", \"deny\", \"deny\", \"deny\", \"deposit\", \"deposit\", \"deposit\", \"deposit\", \"deposit\", \"deposit\", \"deposit\", \"deposit\", \"derive\", \"derogatory\", \"derogatory\", \"derogatory\", \"derogatory\", \"derogatory\", \"derogatory\", \"derogatory\", \"derogatory\", \"derogatory\", \"derogatory\", \"detect\", \"detect\", \"discharge\", \"discharge\", \"discharge\", \"discharge\", \"discharge\", \"discharge\", \"discharge\", \"disperse\", \"dispute\", \"dispute\", \"dispute\", \"dispute\", \"dispute\", \"dispute\", \"dispute\", \"dispute\", \"dispute\", \"dispute\", \"disputed\", \"ditech\", \"ditech\", \"dmv\", \"dmv\", \"document\", \"document\", \"document\", \"document\", \"document\", \"document\", \"document\", \"document\", \"document\", \"document\", \"doe\", \"dormant\", \"drive\", \"drive\", \"drive\", \"drive\", \"drive\", \"drive\", \"drive\", \"drive\", \"driver_license\", \"driver_license\", \"driver_license\", \"driver_license\", \"driver_license\", \"driver_license\", \"driver_license\", \"drivers_license\", \"drivers_license\", \"drivers_license\", \"drivers_license\", \"drivers_license\", \"drivers_license\", \"driveway\", \"dual_track\", \"dual_tracking\", \"due\", \"due\", \"due\", \"due\", \"due\", \"due\", \"due\", \"due\", \"due\", \"due\", \"earnest\", \"ebay\", \"education\", \"education\", \"education\", \"education\", \"education\", \"education\", \"education\", \"education\", \"elan\", \"electricity\", \"emergency_room\", \"emergency_room\", \"employer\", \"employer\", \"employer\", \"employer\", \"employer\", \"employer\", \"employer\", \"employer\", \"enforceable\", \"engine\", \"engine\", \"ent\", \"entice\", \"equifax\", \"equifax\", \"equifax\", \"equifax\", \"equifax\", \"equifax\", \"equipment\", \"equipment\", \"equipment\", \"equipment\", \"equipment\", \"equity\", \"equity\", \"equity\", \"equity\", \"equity\", \"equity\", \"equity\", \"erc\", \"escrow\", \"escrow\", \"escrow\", \"escrow\", \"escrowe\", \"escrowe\", \"everyday\", \"everyday\", \"everyday\", \"everyday\", \"everyday\", \"everyday\", \"examination\", \"exclusively\", \"experian\", \"experian\", \"experian\", \"experian\", \"experian\", \"experian\", \"expressly\", \"expressly\", \"external\", \"external\", \"extra\", \"extra\", \"extra\", \"extra\", \"extra\", \"extra\", \"extra\", \"extra\", \"extra\", \"family_member\", \"family_member\", \"family_member\", \"family_member\", \"family_member\", \"fargo\", \"fargo\", \"fargo\", \"fargo\", \"fargo\", \"fargo\", \"fargo\", \"fargo\", \"fargo\", \"farm\", \"fay_service\", \"fcc\", \"fcc\", \"fcc\", \"fcra\", \"fcra\", \"fcra\", \"fcra\", \"fcra\", \"fcra\", \"fdcpa\", \"fdcpa\", \"fdcpa\", \"fdcpa\", \"fedloan\", \"fee\", \"fee\", \"fee\", \"fee\", \"fee\", \"fee\", \"fee\", \"fee\", \"fee\", \"fee\", \"fha\", \"fha\", \"fico\", \"fico\", \"fico\", \"fico\", \"fico\", \"fico\", \"fico\", \"fidelity\", \"fidelity\", \"file\", \"file\", \"file\", \"file\", \"file\", \"file\", \"file\", \"file\", \"file\", \"file\", \"finance\", \"finance\", \"finance\", \"finance\", \"finance\", \"finance\", \"finance\", \"finance\", \"finance\", \"finance\", \"financial\", \"financial\", \"financial\", \"financial\", \"financial\", \"financial\", \"financial\", \"financial\", \"financial\", \"financial\", \"financing\", \"financing\", \"financing\", \"financing\", \"financing\", \"financing\", \"financing\", \"financing\", \"financing\", \"flight\", \"flight\", \"flood\", \"flood\", \"flood\", \"forbearance\", \"forbearance\", \"forbearance\", \"forclosure\", \"ford\", \"forebearance\", \"forebearance\", \"foreclose\", \"foreclose\", \"foreclose\", \"foreclose\", \"foreclose\", \"foreclosure\", \"foreclosure\", \"foreclosure\", \"foreclosure\", \"foreclosure\", \"foreclosure\", \"forgiveness\", \"forgiveness\", \"forgiveness\", \"franklin\", \"franklin\", \"fraud\", \"fraud\", \"fraud\", \"fraud\", \"fraud\", \"fraud\", \"fraud\", \"fraud\", \"fraud\", \"fraud\", \"fraudulent\", \"fraudulent\", \"fraudulent\", \"fraudulent\", \"fraudulent\", \"fraudulent\", \"fraudulent\", \"fraudulent\", \"fraudulent\", \"fraudulent\", \"frca\", \"free\", \"free\", \"free\", \"free\", \"free\", \"free\", \"free\", \"free\", \"free\", \"free\", \"freedom\", \"freedom\", \"freedom\", \"freedom\", \"freeze\", \"freeze\", \"freeze\", \"freeze\", \"freeze\", \"freeze\", \"freeze\", \"freeze\", \"full\", \"full\", \"full\", \"full\", \"full\", \"full\", \"full\", \"full\", \"full\", \"full\", \"fully_intend\", \"fully_intend\", \"fund\", \"fund\", \"fund\", \"fund\", \"fund\", \"fund\", \"fund\", \"fund\", \"fund\", \"fund\", \"funeral\", \"furnish\", \"furnish\", \"furnish\", \"furnish\", \"furnish\", \"furnish\", \"furnish\", \"furnish\", \"furnished\", \"furnished\", \"furnished\", \"furnisher\", \"furnisher\", \"furnisher\", \"gap\", \"gap\", \"gap\", \"gap\", \"gap\", \"garage\", \"garage\", \"gift\", \"gift\", \"gift\", \"gift\", \"give\", \"give\", \"give\", \"give\", \"give\", \"give\", \"give\", \"give\", \"give\", \"give\", \"global\", \"global\", \"global\", \"gm\", \"goodwill\", \"goodwill\", \"google\", \"google\", \"graduate\", \"graduate\", \"graduate\", \"graduation\", \"gram\", \"green_tree\", \"green_tree\", \"gym\", \"hack\", \"hack\", \"hack\", \"hack\", \"hack\", \"hack\", \"hack\", \"hacker\", \"hamp\", \"hamp\", \"hang\", \"hang\", \"hang\", \"hang\", \"hang\", \"hang\", \"hang\", \"hang\", \"hang\", \"hang\", \"harass\", \"harass\", \"harass\", \"harass\", \"harass\", \"harass\", \"harass\", \"harass\", \"harass\", \"harass\", \"harassing\", \"harassing\", \"harassing\", \"harassing\", \"harassing\", \"harassment\", \"harassment\", \"harassment\", \"harassment\", \"harassment\", \"harassment\", \"harassment\", \"hard\", \"hard\", \"hard\", \"hard\", \"hard\", \"hard\", \"hard\", \"hard\", \"hard\", \"hard\", \"harp\", \"harp\", \"harrassing\", \"hazard\", \"hazard\", \"help\", \"help\", \"help\", \"help\", \"help\", \"help\", \"help\", \"help\", \"help\", \"help\", \"high\", \"high\", \"high\", \"high\", \"high\", \"high\", \"high\", \"high\", \"high\", \"high\", \"hipaa\", \"hippa\", \"hippa\", \"history\", \"history\", \"history\", \"history\", \"history\", \"history\", \"history\", \"history\", \"history\", \"history\", \"hoa\", \"home\", \"home\", \"home\", \"home\", \"home\", \"home\", \"home\", \"home\", \"home\", \"home\", \"honda\", \"horrific\", \"hospital\", \"hospital\", \"hospital\", \"hospital\", \"hospital\", \"hospital\", \"hospital\", \"hospital\", \"hospital\", \"house\", \"house\", \"house\", \"house\", \"house\", \"house\", \"house\", \"house\", \"house\", \"house\", \"https\", \"https\", \"hud\", \"hud\", \"hunter_warfield\", \"ibr\", \"identity\", \"identity\", \"identity\", \"identity\", \"identity\", \"identity\", \"identity\", \"identity_theft\", \"identity_theft\", \"identity_theft\", \"identity_theft\", \"identity_theft\", \"identity_theft\", \"identity_theft\", \"identity_theft\", \"impersonate\", \"impersonate\", \"impersonate\", \"impound\", \"impound\", \"inaccurate\", \"inaccurate\", \"inaccurate\", \"inaccurate\", \"inaccurate\", \"inaccurate\", \"inaccurate\", \"inaccurate\", \"inaccurate\", \"inaccurate\", \"inactivity\", \"inactivity\", \"inc\", \"inc\", \"inc\", \"inc\", \"inc\", \"inc\", \"inc\", \"inc\", \"inc\", \"inc\", \"income\", \"income\", \"income\", \"income\", \"income\", \"income\", \"income\", \"income\", \"income\", \"income_driven\", \"incorrect\", \"incorrect\", \"incorrect\", \"incorrect\", \"incorrect\", \"incorrect\", \"incorrect\", \"incorrect\", \"incorrect\", \"incorrect\", \"incorrectly\", \"incorrectly\", \"incorrectly\", \"incorrectly\", \"incorrectly\", \"incorrectly\", \"incorrectly\", \"incorrectly\", \"incorrectly\", \"incorrectly\", \"increase\", \"increase\", \"increase\", \"increase\", \"increase\", \"increase\", \"increase\", \"increase\", \"increase\", \"increase\", \"indebtedness\", \"individually\", \"individually\", \"individually\", \"individually\", \"individually\", \"inept\", \"inept\", \"inept\", \"information\", \"information\", \"information\", \"information\", \"information\", \"information\", \"information\", \"information\", \"information\", \"information\", \"inquire\", \"inquire\", \"inquire\", \"inquire\", \"inquire\", \"inquire\", \"inquire\", \"inquire\", \"inquire\", \"inquire\", \"inquiry\", \"inquiry\", \"inquiry\", \"inquiry\", \"inquiry\", \"inquiry\", \"inquiry\", \"inquiry\", \"inquiry\", \"inquiry\", \"insert\", \"insert\", \"insert\", \"insert\", \"insert\", \"insurance\", \"insurance\", \"insurance\", \"insurance\", \"insurance\", \"insurance\", \"insurance\", \"insurance\", \"insurance\", \"insurance\", \"interest\", \"interest\", \"interest\", \"interest\", \"interest\", \"interest\", \"interest\", \"interest\", \"interest\", \"interest\", \"intr\", \"intr\", \"invalidate\", \"invalidate\", \"invalidated\", \"investigate\", \"investigate\", \"investigate\", \"investigate\", \"investigate\", \"investigate\", \"investigate\", \"investigate\", \"investigate\", \"investigate\", \"investigation\", \"investigation\", \"investigation\", \"investigation\", \"investigation\", \"investigation\", \"investigation\", \"investigation\", \"investigation\", \"investigation\", \"investor\", \"investor\", \"investor\", \"investor\", \"investor\", \"item\", \"item\", \"item\", \"item\", \"item\", \"item\", \"item\", \"item\", \"item\", \"item\", \"jail\", \"jail\", \"jail\", \"jail\", \"judgement\", \"judgement\", \"judgement\", \"judgement\", \"judgement\", \"judgement\", \"judgement\", \"judgement\", \"judgement\", \"judgment\", \"judgment\", \"judgment\", \"judgment\", \"judgment\", \"judgment\", \"judgment\", \"karma\", \"karma\", \"keep\", \"keep\", \"keep\", \"keep\", \"keep\", \"keep\", \"keep\", \"keep\", \"keep\", \"keep\", \"keybank\", \"kohl\", \"landline\", \"landline\", \"landlord\", \"landlord\", \"landlord\", \"landlord\", \"landlord\", \"late\", \"late\", \"late\", \"late\", \"late\", \"late\", \"late\", \"late\", \"late\", \"late\", \"law\", \"law\", \"law\", \"law\", \"law\", \"law\", \"law\", \"law\", \"law\", \"law\", \"lawfully\", \"leak\", \"leak\", \"leak\", \"lease\", \"lease\", \"lease\", \"lease\", \"lease\", \"lease\", \"lease\", \"lease\", \"lease\", \"leasing\", \"leasing\", \"leave\", \"leave\", \"leave\", \"leave\", \"leave\", \"leave\", \"leave\", \"leave\", \"leave\", \"leave\", \"legally_entitl\", \"legally_entitl\", \"lemon\", \"lender\", \"lender\", \"lender\", \"lender\", \"lender\", \"lender\", \"lender\", \"lender\", \"lender\", \"lender\", \"letter\", \"letter\", \"letter\", \"letter\", \"letter\", \"letter\", \"letter\", \"letter\", \"letter\", \"letter\", \"license\", \"license\", \"license\", \"license\", \"license\", \"license\", \"license\", \"license\", \"license\", \"licensed\", \"licensed\", \"lien\", \"lien\", \"lien\", \"lien\", \"lien\", \"lien\", \"lien\", \"lien\", \"lieu\", \"lieu\", \"lieu\", \"limitation\", \"limitation\", \"limitation\", \"limitation\", \"limitation\", \"limitation\", \"limitation\", \"limitation\", \"live\", \"live\", \"live\", \"live\", \"live\", \"live\", \"live\", \"live\", \"live\", \"live\", \"loan\", \"loan\", \"loan\", \"loan\", \"loan\", \"loan\", \"loan\", \"loan\", \"loan\", \"loan\", \"loancare\", \"loancare\", \"loss_mitigation\", \"loss_mitigation\", \"low\", \"low\", \"low\", \"low\", \"low\", \"low\", \"low\", \"low\", \"low\", \"low\", \"lowes\", \"macy\", \"macy\", \"macys\", \"maiden\", \"maiden\", \"maker\", \"mastercard\", \"mastercard\", \"mastercard\", \"mechanic\", \"medicaid\", \"medicaid\", \"medical\", \"medical\", \"medical\", \"medical\", \"medical\", \"medical\", \"medical\", \"medical\", \"medical\", \"medical\", \"merchandise\", \"merchandise\", \"merchant\", \"merchant\", \"merchant\", \"merchant\", \"merchant\", \"merchant\", \"merchant\", \"message\", \"message\", \"message\", \"message\", \"message\", \"message\", \"message\", \"message\", \"message\", \"message\", \"midland\", \"midland\", \"midland\", \"midland_funding\", \"midland_funding\", \"mine\", \"mine\", \"mine\", \"mine\", \"mine\", \"mine\", \"mine\", \"mine\", \"mine\", \"mine\", \"mini_miranda\", \"misapply\", \"misapply\", \"misapply\", \"misapply\", \"mixed\", \"mixed\", \"mixed\", \"mixed\", \"mod\", \"mod\", \"modification\", \"modification\", \"modification\", \"modification\", \"modification\", \"modify\", \"modify\", \"modify\", \"modify\", \"modify\", \"modify\", \"modify\", \"money\", \"money\", \"money\", \"money\", \"money\", \"money\", \"money\", \"money\", \"money\", \"money\", \"moneygram\", \"month\", \"month\", \"month\", \"month\", \"month\", \"month\", \"month\", \"month\", \"month\", \"month\", \"monthly\", \"monthly\", \"monthly\", \"monthly\", \"monthly\", \"monthly\", \"monthly\", \"monthly\", \"monthly\", \"monthly\", \"mortgage\", \"mortgage\", \"mortgage\", \"mortgage\", \"mortgage\", \"mortgage\", \"mortgage\", \"mortgage\", \"mortgage\", \"mortgage\", \"mortgagor\", \"mother\", \"mother\", \"mother\", \"mother\", \"mother\", \"mother\", \"mother\", \"mother\", \"mother\", \"motor_vehicle\", \"move\", \"move\", \"move\", \"move\", \"move\", \"move\", \"move\", \"move\", \"move\", \"move\", \"name\", \"name\", \"name\", \"name\", \"name\", \"name\", \"name\", \"name\", \"name\", \"name\", \"nation_star\", \"nation_star\", \"nationstar\", \"nationstar\", \"navient\", \"navient\", \"navient\", \"negative\", \"negative\", \"negative\", \"negative\", \"negative\", \"negative\", \"negative\", \"negative\", \"negative\", \"negative\", \"negotiator\", \"nelnet\", \"netspend\", \"never\", \"never\", \"never\", \"never\", \"never\", \"never\", \"never\", \"never\", \"never\", \"never\", \"nfcu\", \"nissan\", \"notice\", \"notice\", \"notice\", \"notice\", \"notice\", \"notice\", \"notice\", \"notice\", \"notice\", \"notice\", \"notifie\", \"nt\", \"nt\", \"nt\", \"nt\", \"nt\", \"nt\", \"nt\", \"nt\", \"nt\", \"nt\", \"number\", \"number\", \"number\", \"number\", \"number\", \"number\", \"number\", \"number\", \"number\", \"number\", \"obama\", \"obsolete\", \"obsolete\", \"obsolete\", \"ocwen\", \"ocwen\", \"online\", \"online\", \"online\", \"online\", \"online\", \"online\", \"online\", \"online\", \"online\", \"online\", \"onxx\", \"open\", \"open\", \"open\", \"open\", \"open\", \"open\", \"open\", \"open\", \"open\", \"open\", \"option\", \"option\", \"option\", \"option\", \"option\", \"option\", \"option\", \"option\", \"option\", \"option\", \"original\", \"original\", \"original\", \"original\", \"original\", \"original\", \"original\", \"original\", \"original\", \"original\", \"overage\", \"overage\", \"overage\", \"overage\", \"overdraft\", \"overdraft\", \"overdraft\", \"overdraft\", \"overdraft\", \"overdrafte\", \"overdraw\", \"overdrawn\", \"overdrawn\", \"overdrawn\", \"owe\", \"owe\", \"owe\", \"owe\", \"owe\", \"owe\", \"owe\", \"owe\", \"owe\", \"owe\", \"pal\", \"pay\", \"pay\", \"pay\", \"pay\", \"pay\", \"pay\", \"pay\", \"pay\", \"pay\", \"pay\", \"payday\", \"payday\", \"payday\", \"payday\", \"payday\", \"payday\", \"payment\", \"payment\", \"payment\", \"payment\", \"payment\", \"payment\", \"payment\", \"payment\", \"payment\", \"payment\", \"payoff\", \"payoff\", \"payoff\", \"payoff\", \"payoff\", \"payoff\", \"payoff\", \"payoff\", \"paypal\", \"paypal\", \"paypal\", \"periodically\", \"person\", \"person\", \"person\", \"person\", \"person\", \"person\", \"person\", \"person\", \"person\", \"person\", \"personal\", \"personal\", \"personal\", \"personal\", \"personal\", \"personal\", \"personal\", \"personal\", \"personal\", \"personal\", \"phh\", \"phone\", \"phone\", \"phone\", \"phone\", \"phone\", \"phone\", \"phone\", \"phone\", \"phone\", \"phone\", \"pickup\", \"pickup\", \"pinnacle\", \"pioneer\", \"plan\", \"plan\", \"plan\", \"plan\", \"plan\", \"plan\", \"plan\", \"plan\", \"plan\", \"plan\", \"platform\", \"platinum\", \"pm\", \"police\", \"police\", \"police\", \"police\", \"police\", \"police\", \"police\", \"portion_thereof\", \"positively\", \"positively\", \"postpone\", \"postpone\", \"pra\", \"pra\", \"principal\", \"principal\", \"principal\", \"principal\", \"principal\", \"principal\", \"principal\", \"private\", \"private\", \"private\", \"private\", \"private\", \"private\", \"private\", \"private\", \"private\", \"process\", \"process\", \"process\", \"process\", \"process\", \"process\", \"process\", \"process\", \"process\", \"process\", \"program\", \"program\", \"program\", \"program\", \"program\", \"program\", \"program\", \"program\", \"program\", \"program\", \"promo\", \"promotion\", \"promotion\", \"promotion\", \"promotion\", \"promotional\", \"promotional\", \"promotional\", \"promotional\", \"promptly_delete\", \"proof\", \"proof\", \"proof\", \"proof\", \"proof\", \"proof\", \"proof\", \"proof\", \"proof\", \"proof\", \"property\", \"property\", \"property\", \"property\", \"property\", \"property\", \"property\", \"property\", \"property\", \"property\", \"provide\", \"provide\", \"provide\", \"provide\", \"provide\", \"provide\", \"provide\", \"provide\", \"provide\", \"provide\", \"pslf\", \"publishing\", \"publishing\", \"publishing\", \"pull\", \"pull\", \"pull\", \"pull\", \"pull\", \"pull\", \"pull\", \"pull\", \"pull\", \"pull\", \"purchase\", \"purchase\", \"purchase\", \"purchase\", \"purchase\", \"purchase\", \"purchase\", \"purchase\", \"purchase\", \"purchase\", \"purse\", \"purse\", \"purse\", \"purse\", \"quicken\", \"quicken\", \"rate\", \"rate\", \"rate\", \"rate\", \"rate\", \"rate\", \"rate\", \"rate\", \"rate\", \"rate\", \"reage\", \"realtor\", \"realtor\", \"receivable\", \"receivable\", \"receive\", \"receive\", \"receive\", \"receive\", \"receive\", \"receive\", \"receive\", \"receive\", \"receive\", \"receive\", \"receptionist\", \"receptionist\", \"refinance\", \"refinance\", \"refinance\", \"refinance\", \"refinance\", \"refinance\", \"refinance\", \"refinance\", \"refinance\", \"refinance\", \"reflect\", \"reflect\", \"reflect\", \"reflect\", \"reflect\", \"reflect\", \"reflect\", \"reflect\", \"reflect\", \"reflect\", \"refund\", \"refund\", \"refund\", \"refund\", \"refund\", \"refund\", \"refund\", \"refund\", \"rehabilitate\", \"rehabilitate\", \"rehabilitation\", \"rehabilitation\", \"reinsert\", \"reinserte\", \"reinserte\", \"reinsertion\", \"reinvestigate\", \"reinvestigate\", \"reinvestigation\", \"reinvestigation\", \"reinvestigation\", \"relocation\", \"remark\", \"remark\", \"remark\", \"remark\", \"remark\", \"remark\", \"remark\", \"remark\", \"remark\", \"remove\", \"remove\", \"remove\", \"remove\", \"remove\", \"remove\", \"remove\", \"remove\", \"remove\", \"remove\", \"removing\", \"removing\", \"removing\", \"rent\", \"rent\", \"rent\", \"rent\", \"rent\", \"rent\", \"rent\", \"repay\", \"repay\", \"repay\", \"repay\", \"repay\", \"repay\", \"repay\", \"repayment\", \"repayment\", \"repayment\", \"repayment\", \"repayment\", \"repayment\", \"repayment\", \"repo\", \"report\", \"report\", \"report\", \"report\", \"report\", \"report\", \"report\", \"report\", \"report\", \"report\", \"reported\", \"reported\", \"reported\", \"reporter\", \"reporter\", \"reporting\", \"reporting\", \"reporting\", \"reporting\", \"reporting\", \"reporting\", \"reporting\", \"reporting\", \"reporting\", \"reporting\", \"repository\", \"repossess\", \"repossess\", \"repossess\", \"repossess\", \"repossession\", \"repossession\", \"repossession\", \"repossession\", \"request\", \"request\", \"request\", \"request\", \"request\", \"request\", \"request\", \"request\", \"request\", \"request\", \"resold\", \"resold\", \"resold\", \"response\", \"response\", \"response\", \"response\", \"response\", \"response\", \"response\", \"response\", \"response\", \"response\", \"restaurant\", \"restaurant\", \"resurgent\", \"retained\", \"retained\", \"retaliatory\", \"retaliatory\", \"revolve\", \"revolve\", \"revolve\", \"revolve\", \"revolve\", \"reward\", \"reward\", \"reward\", \"rma\", \"robocall\", \"rude\", \"rude\", \"rude\", \"rude\", \"rude\", \"rude\", \"rude\", \"rude\", \"rude\", \"rude\", \"rushcard\", \"rushmore\", \"safeguard\", \"safeguard\", \"safeguard\", \"sale\", \"sale\", \"sale\", \"sale\", \"sale\", \"sale\", \"sale\", \"sale\", \"sale\", \"sale\", \"salesman\", \"salesman\", \"sallie_mae\", \"sallie_mae\", \"santander\", \"santander\", \"santander\", \"santander\", \"saving\", \"saving\", \"saving\", \"saving\", \"saving\", \"saving\", \"saving\", \"saving\", \"saving\", \"scare_tactics\", \"school\", \"school\", \"school\", \"school\", \"school\", \"school\", \"school\", \"school\", \"school\", \"score\", \"score\", \"score\", \"score\", \"score\", \"score\", \"score\", \"score\", \"score\", \"score\", \"scottrade\", \"section\", \"section\", \"section\", \"section\", \"section\", \"section\", \"section\", \"section\", \"section\", \"section\", \"securitization\", \"selene\", \"selene_finance\", \"sell\", \"sell\", \"sell\", \"sell\", \"sell\", \"sell\", \"sell\", \"sell\", \"sell\", \"sell\", \"semester\", \"send\", \"send\", \"send\", \"send\", \"send\", \"send\", \"send\", \"send\", \"send\", \"send\", \"service\", \"service\", \"service\", \"service\", \"service\", \"service\", \"service\", \"service\", \"service\", \"service\", \"servicer\", \"servicer\", \"servicer\", \"servicer\", \"servicer\", \"servicer\", \"seterus\", \"seterus\", \"shell\", \"shocked\", \"shocked\", \"shocked\", \"shocked\", \"shocked\", \"shocked\", \"shocked\", \"short\", \"short\", \"short\", \"short\", \"short\", \"short\", \"short\", \"short\", \"short\", \"short\", \"shortage\", \"shortage\", \"show\", \"show\", \"show\", \"show\", \"show\", \"show\", \"show\", \"show\", \"show\", \"show\", \"slap\", \"social_security\", \"social_security\", \"social_security\", \"social_security\", \"social_security\", \"social_security\", \"social_security\", \"social_security\", \"social_security\", \"social_security\", \"soft\", \"soft\", \"speak\", \"speak\", \"speak\", \"speak\", \"speak\", \"speak\", \"speak\", \"speak\", \"speak\", \"speak\", \"speedy_cash\", \"sps\", \"sps\", \"ss\", \"ss\", \"ss\", \"ss\", \"ss\", \"ss\", \"ss\", \"ss\", \"ss\", \"stafford\", \"stat\", \"state\", \"state\", \"state\", \"state\", \"state\", \"state\", \"state\", \"state\", \"state\", \"state\", \"statement\", \"statement\", \"statement\", \"statement\", \"statement\", \"statement\", \"statement\", \"statement\", \"statement\", \"statement\", \"statue\", \"statue\", \"statue\", \"statue\", \"status\", \"status\", \"status\", \"status\", \"status\", \"status\", \"status\", \"status\", \"status\", \"status\", \"statute\", \"statute\", \"statute\", \"statute\", \"statute\", \"statute\", \"steal\", \"steal\", \"steal\", \"steal\", \"steal\", \"steal\", \"steal\", \"steal\", \"steal\", \"steal\", \"stellar\", \"stellar\", \"stellar\", \"stellar\", \"still\", \"still\", \"still\", \"still\", \"still\", \"still\", \"still\", \"still\", \"still\", \"still\", \"stop\", \"stop\", \"stop\", \"stop\", \"stop\", \"stop\", \"stop\", \"stop\", \"stop\", \"stop\", \"student\", \"student\", \"student\", \"student\", \"student\", \"student\", \"student\", \"student\", \"student\", \"subparagraph\", \"summit\", \"suspense\", \"suspense\", \"swipe\", \"synchrony\", \"synchrony\", \"synchrony\", \"synchrony\", \"synchrony\", \"synchrony\", \"synchrony\", \"tax\", \"tax\", \"tax\", \"tax\", \"tax\", \"tax\", \"tax\", \"tax\", \"tax\", \"tax\", \"taxis\", \"taxis\", \"taxis\", \"taxis\", \"taxis\", \"taxis\", \"taxis\", \"taxis\", \"taxis\", \"tcf\", \"tell\", \"tell\", \"tell\", \"tell\", \"tell\", \"tell\", \"tell\", \"tell\", \"tell\", \"tell\", \"teller\", \"teller\", \"teller\", \"tha\", \"tha\", \"threate\", \"threate\", \"threaten\", \"threaten\", \"threaten\", \"threaten\", \"threaten\", \"threaten\", \"threaten\", \"threaten\", \"time\", \"time\", \"time\", \"time\", \"time\", \"time\", \"time\", \"time\", \"time\", \"time\", \"tire\", \"title\", \"title\", \"title\", \"title\", \"title\", \"title\", \"title\", \"title\", \"title\", \"tow\", \"tow\", \"tow\", \"toyota\", \"trade\", \"trade\", \"trade\", \"trade\", \"trade\", \"trade\", \"trade\", \"trade\", \"trade_line\", \"tradeline\", \"tradeline\", \"transaction\", \"transaction\", \"transaction\", \"transaction\", \"transaction\", \"transaction\", \"transaction\", \"transaction\", \"transaction\", \"transaction\", \"transfer\", \"transfer\", \"transfer\", \"transfer\", \"transfer\", \"transfer\", \"transfer\", \"transfer\", \"transfer\", \"transfer\", \"transunion\", \"transunion\", \"transunion\", \"transunion\", \"transunion\", \"transunion\", \"transunion\", \"trial\", \"trial\", \"trial\", \"trial\", \"trial\", \"trial\", \"truck\", \"truck\", \"truck\", \"truck\", \"truck\", \"trustee\", \"trustee\", \"trustee\", \"trustee\", \"trustee\", \"trustee\", \"tuition\", \"tuition\", \"unapplied\", \"unapplied\", \"unauthorize\", \"unauthorized\", \"unauthorized\", \"unauthorized\", \"unauthorized\", \"unauthorized\", \"unauthorized\", \"unauthorized\", \"unauthorized\", \"unauthorized\", \"undeliverable\", \"undeliverable\", \"undeliverable\", \"understandable\", \"understandable\", \"underwriter\", \"underwriter\", \"underwriter\", \"underwriting\", \"underwriting\", \"underwriting\", \"underwriting\", \"unfamiliar\", \"unfamiliar\", \"unfamiliar\", \"university\", \"university\", \"university\", \"university\", \"university\", \"university\", \"university\", \"unverifie\", \"unverifie\", \"unverified\", \"unverified\", \"update\", \"update\", \"update\", \"update\", \"update\", \"update\", \"update\", \"update\", \"update\", \"update\", \"usa\", \"usa\", \"usa\", \"usa\", \"usa\", \"usa\", \"usa\", \"usa\", \"usa\", \"usa\", \"usaa\", \"usaa\", \"usaa\", \"usaa\", \"usbank\", \"usc\", \"usc\", \"usc_sec\", \"validate\", \"validate\", \"validate\", \"validate\", \"validate\", \"validate\", \"validate\", \"validate\", \"validate\", \"validation\", \"validation\", \"validation\", \"validation\", \"validation\", \"validation\", \"validation\", \"validation\", \"valuation\", \"value\", \"value\", \"value\", \"value\", \"value\", \"value\", \"value\", \"variation\", \"vehicle\", \"vehicle\", \"vehicle\", \"vehicle\", \"vehicle\", \"vehicle\", \"vehicle\", \"vehicle\", \"vehicle\", \"vehicle\", \"verifiable\", \"verifiable\", \"verifiable\", \"verifiable\", \"verifiable\", \"verifiable\", \"verification\", \"verification\", \"verification\", \"verification\", \"verification\", \"verification\", \"verification\", \"verification\", \"verification\", \"verify\", \"verify\", \"verify\", \"verify\", \"verify\", \"verify\", \"verify\", \"verify\", \"verify\", \"verify\", \"victim\", \"victim\", \"victim\", \"victim\", \"victim\", \"victim\", \"victim\", \"victim\", \"victim\", \"violation\", \"violation\", \"violation\", \"violation\", \"violation\", \"violation\", \"violation\", \"violation\", \"violation\", \"violation\", \"visa\", \"visa\", \"visa\", \"visa\", \"visa\", \"visa\", \"voice\", \"voice\", \"voice\", \"voice\", \"voice\", \"voice\", \"voice\", \"voice\", \"voicemail\", \"voicemail\", \"voicemail\", \"voicemail\", \"voicemail\", \"voicemail\", \"voicemail\", \"wages_garnish\", \"wages_garnish\", \"walmart\", \"warranty\", \"warranty\", \"warranty\", \"well\", \"well\", \"well\", \"well\", \"well\", \"well\", \"well\", \"well\", \"well\", \"well\", \"western_union\", \"westlake\", \"willful_non\", \"willful_non\", \"work\", \"work\", \"work\", \"work\", \"work\", \"work\", \"work\", \"work\", \"work\", \"work\", \"workplace\", \"wreck\", \"wreck\", \"writ\", \"writ\", \"year\", \"year\", \"year\", \"year\", \"year\", \"year\", \"year\", \"year\", \"year\", \"year\", \"yell\", \"yell\", \"yell\", \"yell\", \"yell\"]}, \"R\": 30, \"lambda.step\": 0.01, \"plot.opts\": {\"xlab\": \"PC1\", \"ylab\": \"PC2\"}, \"topic.order\": [6, 3, 10, 8, 4, 1, 7, 9, 2, 5]};\n",
       "\n",
       "function LDAvis_load_lib(url, callback){\n",
       "  var s = document.createElement('script');\n",
       "  s.src = url;\n",
       "  s.async = true;\n",
       "  s.onreadystatechange = s.onload = callback;\n",
       "  s.onerror = function(){console.warn(\"failed to load library \" + url);};\n",
       "  document.getElementsByTagName(\"head\")[0].appendChild(s);\n",
       "}\n",
       "\n",
       "if(typeof(LDAvis) !== \"undefined\"){\n",
       "   // already loaded: just create the visualization\n",
       "   !function(LDAvis){\n",
       "       new LDAvis(\"#\" + \"ldavis_el735228048040825683564523410\", ldavis_el735228048040825683564523410_data);\n",
       "   }(LDAvis);\n",
       "}else if(typeof define === \"function\" && define.amd){\n",
       "   // require.js is available: use it to load d3/LDAvis\n",
       "   require.config({paths: {d3: \"https://cdnjs.cloudflare.com/ajax/libs/d3/3.5.5/d3.min\"}});\n",
       "   require([\"d3\"], function(d3){\n",
       "      window.d3 = d3;\n",
       "      LDAvis_load_lib(\"https://cdn.rawgit.com/bmabey/pyLDAvis/files/ldavis.v1.0.0.js\", function(){\n",
       "        new LDAvis(\"#\" + \"ldavis_el735228048040825683564523410\", ldavis_el735228048040825683564523410_data);\n",
       "      });\n",
       "    });\n",
       "}else{\n",
       "    // require.js not available: dynamically load d3 & LDAvis\n",
       "    LDAvis_load_lib(\"https://cdnjs.cloudflare.com/ajax/libs/d3/3.5.5/d3.min.js\", function(){\n",
       "         LDAvis_load_lib(\"https://cdn.rawgit.com/bmabey/pyLDAvis/files/ldavis.v1.0.0.js\", function(){\n",
       "                 new LDAvis(\"#\" + \"ldavis_el735228048040825683564523410\", ldavis_el735228048040825683564523410_data);\n",
       "            })\n",
       "         });\n",
       "}\n",
       "</script>"
      ],
      "text/plain": [
       "PreparedData(topic_coordinates=              x         y  topics  cluster       Freq\n",
       "topic                                                \n",
       "5      0.057965  0.009178       1        1  18.963486\n",
       "2      0.089645  0.045181       2        1  15.541413\n",
       "9      0.036360 -0.085212       3        1  10.996967\n",
       "7     -0.088631 -0.018108       4        1  10.168694\n",
       "3      0.124565  0.053445       5        1   9.941730\n",
       "0      0.085872  0.089048       6        1   8.110152\n",
       "6     -0.200392  0.026574       7        1   7.972411\n",
       "8     -0.092541  0.067598       8        1   7.669343\n",
       "1     -0.147509 -0.068983       9        1   6.343570\n",
       "4      0.134666 -0.118721      10        1   4.292233, topic_info=     Category         Freq            Term        Total  loglift  logprob\n",
       "term                                                                     \n",
       "438   Default  3053.000000         inquiry  3053.000000  30.0000  30.0000\n",
       "7     Default  7181.000000          report  7181.000000  29.0000  29.0000\n",
       "88    Default  6035.000000            debt  6035.000000  28.0000  28.0000\n",
       "22    Default  1898.000000             car  1898.000000  27.0000  27.0000\n",
       "272   Default  2851.000000         equifax  2851.000000  26.0000  26.0000\n",
       "45    Default  6092.000000            loan  6092.000000  25.0000  25.0000\n",
       "58    Default  6363.000000         payment  6363.000000  24.0000  24.0000\n",
       "209   Default  3545.000000        mortgage  3545.000000  23.0000  23.0000\n",
       "887   Default  1301.000000         vehicle  1301.000000  22.0000  22.0000\n",
       "875   Default  1523.000000         navient  1523.000000  21.0000  21.0000\n",
       "6     Default  3854.000000          remove  3854.000000  20.0000  20.0000\n",
       "0     Default  3796.000000         dispute  3796.000000  19.0000  19.0000\n",
       "351   Default  4068.000000      collection  4068.000000  18.0000  18.0000\n",
       "763   Default  1271.000000          escrow  1271.000000  17.0000  17.0000\n",
       "11    Default  6870.000000         account  6870.000000  16.0000  16.0000\n",
       "21    Default  5389.000000            call  5389.000000  15.0000  15.0000\n",
       "94    Default  1796.000000        experian  1796.000000  14.0000  14.0000\n",
       "650   Default  1563.000000         student  1563.000000  13.0000  13.0000\n",
       "490   Default  1679.000000    modification  1679.000000  12.0000  12.0000\n",
       "1222  Default  1713.000000      transunion  1713.000000  11.0000  11.0000\n",
       "317   Default  3174.000000            late  3174.000000  10.0000  10.0000\n",
       "280   Default  2258.000000          verify  2258.000000   9.0000   9.0000\n",
       "395   Default  1756.000000          delete  1756.000000   8.0000   8.0000\n",
       "487   Default   847.000000           lease   847.000000   7.0000   7.0000\n",
       "302   Default  4179.000000            card  4179.000000   6.0000   6.0000\n",
       "1     Default  4318.000000     information  4318.000000   5.0000   5.0000\n",
       "8     Default  2054.000000       reporting  2054.000000   4.0000   4.0000\n",
       "944   Default  1875.000000      bankruptcy  1875.000000   3.0000   3.0000\n",
       "161   Default  1226.000000  identity_theft  1226.000000   2.0000   2.0000\n",
       "42    Default  2496.000000        interest  2496.000000   1.0000   1.0000\n",
       "...       ...          ...             ...          ...      ...      ...\n",
       "22    Topic10  1510.166748             car  1898.670166   2.9194  -3.3797\n",
       "2729  Topic10    70.715630      automobile    78.848015   3.0395  -6.4410\n",
       "2901  Topic10   152.904770             gap   185.556458   2.9548  -5.6698\n",
       "460   Topic10   403.410889       apartment   552.615601   2.8337  -4.6997\n",
       "3698  Topic10   105.696777        warranty   126.440498   2.9692  -6.0391\n",
       "3176  Topic10   173.730301        accident   248.431732   2.7907  -5.5422\n",
       "501   Topic10   300.968079            rent   531.789062   2.5791  -4.9927\n",
       "1731  Topic10   119.673355      acceptance   168.744095   2.8047  -5.9149\n",
       "1549  Topic10   112.223228        landlord   160.356735   2.7915  -5.9792\n",
       "238   Topic10   380.106079         finance   900.343140   2.2860  -4.7592\n",
       "660   Topic10   331.531494            auto   948.656555   2.0970  -4.8959\n",
       "189   Topic10   270.234406           title   740.245728   2.1407  -5.1004\n",
       "79    Topic10   154.630875           trade   298.866821   2.4894  -5.6586\n",
       "1725  Topic10   154.003235       financing   300.598907   2.4796  -5.6627\n",
       "2205  Topic10   135.410950             usa   246.699463   2.5485  -5.7913\n",
       "478   Topic10   137.163040           drive   253.999969   2.5322  -5.7785\n",
       "423   Topic10   233.274704            move   952.108704   1.7419  -5.2474\n",
       "63    Topic10   290.281464        purchase  1640.700195   1.4163  -5.0288\n",
       "57    Topic10   305.619720             pay  4891.348145   0.3755  -4.9773\n",
       "688   Topic10   221.116211       insurance  1788.035767   1.0582  -5.3010\n",
       "58    Topic10   274.336060         payment  6363.600586   0.0044  -5.0853\n",
       "45    Topic10   270.276581            loan  6092.417969   0.0330  -5.1002\n",
       "156   Topic10   193.132889       financial  1603.162598   1.0320  -5.4363\n",
       "1013  Topic10   185.764679        contract  1735.284912   0.9139  -5.4752\n",
       "127   Topic10   195.819397         company  4653.632324  -0.0198  -5.4225\n",
       "76    Topic10   188.350098            tell  3914.375977   0.1143  -5.4614\n",
       "379   Topic10   181.090988             owe  3026.038818   0.3324  -5.5007\n",
       "51    Topic10   178.319855           month  3261.723877   0.2419  -5.5161\n",
       "303   Topic10   166.870850          charge  3695.463135   0.0507  -5.5824\n",
       "109   Topic10   164.773056              nt  3794.208984   0.0117  -5.5951\n",
       "\n",
       "[764 rows x 6 columns], token_table=      Topic      Freq        Term\n",
       "term                             \n",
       "2041      5  0.948762      abroad\n",
       "2925      7  0.906023      absent\n",
       "1731      1  0.053335  acceptance\n",
       "1731      2  0.088892  acceptance\n",
       "1731      3  0.035557  acceptance\n",
       "1731      5  0.035557  acceptance\n",
       "1731      6  0.005926  acceptance\n",
       "1731      8  0.071114  acceptance\n",
       "1731     10  0.711136  acceptance\n",
       "3176      1  0.036227    accident\n",
       "3176      2  0.056354    accident\n",
       "3176      3  0.108682    accident\n",
       "3176      4  0.024152    accident\n",
       "3176      5  0.044278    accident\n",
       "3176      6  0.008051    accident\n",
       "3176      8  0.020126    accident\n",
       "3176     10  0.700394    accident\n",
       "11        1  0.304056     account\n",
       "11        2  0.018194     account\n",
       "11        3  0.045994     account\n",
       "11        4  0.100867     account\n",
       "11        5  0.031439     account\n",
       "11        6  0.062732     account\n",
       "11        7  0.153702     account\n",
       "11        8  0.203043     account\n",
       "11        9  0.072193     account\n",
       "11       10  0.007714     account\n",
       "775       1  0.007485    accuracy\n",
       "775       2  0.011227    accuracy\n",
       "775       4  0.037423    accuracy\n",
       "...     ...       ...         ...\n",
       "456       1  0.112368        work\n",
       "456       2  0.203179        work\n",
       "456       3  0.362787        work\n",
       "456       4  0.022932        work\n",
       "456       5  0.173367        work\n",
       "456       6  0.031188        work\n",
       "456       7  0.009173        work\n",
       "456       8  0.022015        work\n",
       "456       9  0.021556        work\n",
       "456      10  0.042195        work\n",
       "2497      3  0.987884   workplace\n",
       "3976      1  0.093745       wreck\n",
       "3976      8  0.874953       wreck\n",
       "3490      2  0.028130        writ\n",
       "3490      4  0.928303        writ\n",
       "10        1  0.110266        year\n",
       "10        2  0.167311        year\n",
       "10        3  0.098474        year\n",
       "10        4  0.082540        year\n",
       "10        5  0.188981        year\n",
       "10        6  0.085089        year\n",
       "10        7  0.024858        year\n",
       "10        8  0.149783        year\n",
       "10        9  0.052902        year\n",
       "10       10  0.039836        year\n",
       "2065      1  0.040994        yell\n",
       "2065      2  0.010248        yell\n",
       "2065      3  0.912109        yell\n",
       "2065      5  0.010248        yell\n",
       "2065     10  0.020497        yell\n",
       "\n",
       "[3132 rows x 3 columns], R=30, lambda_step=0.01, plot_opts={'xlab': 'PC1', 'ylab': 'PC2'}, topic_order=[6, 3, 10, 8, 4, 1, 7, 9, 2, 5])"
      ]
     },
     "execution_count": 57,
     "metadata": {},
     "output_type": "execute_result"
    }
   ],
   "source": [
    "import pyLDAvis\n",
    "import pyLDAvis.gensim\n",
    "pyLDAvis.enable_notebook()\n",
    "vis = pyLDAvis.gensim.prepare(lda_model_tfidf, corpus_tfidf, dictionary=lda_model_tfidf.id2word)\n",
    "vis"
   ]
  },
  {
   "cell_type": "code",
   "execution_count": 58,
   "metadata": {},
   "outputs": [],
   "source": [
    "pyLDAvis.save_html(vis, 'topics.html')"
   ]
  }
 ],
 "metadata": {
  "kernelspec": {
   "display_name": "Python 3",
   "language": "python",
   "name": "python3"
  },
  "language_info": {
   "codemirror_mode": {
    "name": "ipython",
    "version": 3
   },
   "file_extension": ".py",
   "mimetype": "text/x-python",
   "name": "python",
   "nbconvert_exporter": "python",
   "pygments_lexer": "ipython3",
   "version": "3.6.3"
  }
 },
 "nbformat": 4,
 "nbformat_minor": 2
}
